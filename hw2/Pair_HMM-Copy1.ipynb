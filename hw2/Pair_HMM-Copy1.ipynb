{
 "cells": [
  {
   "cell_type": "code",
   "execution_count": 1,
   "metadata": {},
   "outputs": [],
   "source": [
    "import numpy as np\n",
    "import os\n",
    "import collections\n",
    "import copy\n",
    "import pickle\n",
    "import random\n",
    "import time"
   ]
  },
  {
   "cell_type": "code",
   "execution_count": 2,
   "metadata": {},
   "outputs": [],
   "source": [
    "\"\"\"\n",
    "Read alignment file into numpy array\n",
    "\"\"\"\n",
    "def func_file2seq(filepath):\n",
    "    seq_list = []\n",
    "    with open(filepath,'r') as f1:\n",
    "        for line in f1:\n",
    "            if line[0] == '>':\n",
    "                continue\n",
    "            else:\n",
    "                seq = list(line.strip().replace('\\n','').upper())\n",
    "                seq_list.append(seq)\n",
    "    return np.array(seq_list)"
   ]
  },
  {
   "cell_type": "code",
   "execution_count": null,
   "metadata": {},
   "outputs": [],
   "source": [
    "'''\n",
    "Due to limited computational power and lack of optimization, this code takes forever to compute.\n",
    "Therefore, randomly sampled 100 sequence from each class and saved also to save memory.\n",
    "\n",
    "'''\n",
    "\n",
    "super_directory =\"/home/chingyuenliu/TTIC31160_bioinfo/hw2/Super\"\n",
    "twil_directory =\"/home/chingyuenliu/TTIC31160_bioinfo/hw2/Twil\"\n",
    "\n",
    "super_seq_list = []\n",
    "for root, dirs, files in os.walk(super_directory):\n",
    "    for file in files:\n",
    "        if file.endswith(\".fasta\") and file.startswith('d'):\n",
    "            super_seq_list.append(func_file2seq(os.path.join(root,file)))\n",
    "            \n",
    "twil_seq_list = []\n",
    "for root, dirs, files in os.walk(twil_directory):\n",
    "    for file in files:\n",
    "        if file.endswith(\".fasta\") and file.startswith('d'):\n",
    "            twil_seq_list.append(func_file2seq(os.path.join(root,file)))\n",
    "\n",
    "random.shuffle(super_seq_list)\n",
    "random.shuffle(twil_seq_list)\n",
    "\n",
    "with open(\"super_dataset_sampled100.txt\", \"wb\") as fp:   #Pickling\n",
    "    pickle.dump(super_seq_list[:100], fp)\n",
    "\n",
    "with open(\"twil_dataset_sampled100.txt\",\"wb\") as fp:\n",
    "    pickle.dump(twil_seq_list[:100], fp)\n"
   ]
  },
  {
   "cell_type": "code",
   "execution_count": 3,
   "metadata": {},
   "outputs": [],
   "source": [
    "def pure_seq(seq_list):\n",
    "    pure_list=[]\n",
    "    for i in seq_list:\n",
    "        seq_pair = []\n",
    "        for j in i:\n",
    "            seq_pair.append([aa for aa in j if aa != '-' ])\n",
    "        pure_list.append(seq_pair)\n",
    "    return pure_list"
   ]
  },
  {
   "cell_type": "code",
   "execution_count": 4,
   "metadata": {},
   "outputs": [],
   "source": [
    "def blosum2mat(blosum_filepath):\n",
    "    seq_list = []\n",
    "    with open(blosum_filepath,'r') as f1:\n",
    "        for line in f1:\n",
    "            if line[0] == '#' or line[3] =='A':\n",
    "                continue\n",
    "            else:\n",
    "                seq = list(map(float,line[1:].strip().replace('\\n','').split()))\n",
    "                seq_list.append(seq)\n",
    "    return np.array(seq_list)[:20,:20]"
   ]
  },
  {
   "cell_type": "code",
   "execution_count": 5,
   "metadata": {},
   "outputs": [],
   "source": [
    "def logsum(num_list):\n",
    "    #already logrithmic entry\n",
    "    if len(num_list) == 0: return -np.inf\n",
    "    anker = np.inf\n",
    "    second_half = np.inf\n",
    "    if type(num_list) == list:\n",
    "        num_list = np.array(num_list).reshape(-1)\n",
    "\n",
    "    else:\n",
    "        num_list = num_list.reshape(-1)\n",
    "\n",
    "        \n",
    "    for i in range(num_list.shape[0]):\n",
    "        if (not np.isinf(num_list[i])) and (not np.isnan(num_list[i])):\n",
    "            anker = num_list[i]\n",
    "            second_half = np.delete(num_list,i)\n",
    "            break\n",
    "    \n",
    "    if anker == np.inf:\n",
    "        return -np.inf\n",
    "    second_half = np.clip(second_half - anker, -np.inf,1233.9)\n",
    "    return anker+np.log(np.exp(second_half).sum()+1)\n",
    "    "
   ]
  },
  {
   "cell_type": "code",
   "execution_count": 46,
   "metadata": {},
   "outputs": [
    {
     "data": {
      "text/plain": [
       "0.0"
      ]
     },
     "execution_count": 46,
     "metadata": {},
     "output_type": "execute_result"
    }
   ],
   "source": []
  },
  {
   "cell_type": "code",
   "execution_count": 6,
   "metadata": {},
   "outputs": [],
   "source": [
    "def index_determ(i,j,s2):\n",
    "    if s2 == 0:\n",
    "        return i+1, j+1, s2\n",
    "    elif s2 == 1:\n",
    "        return i+1, j, s2\n",
    "    elif s2 == 2:\n",
    "        return i, j+1, s2"
   ]
  },
  {
   "cell_type": "markdown",
   "metadata": {},
   "source": [
    "def super_matrix_update(seq):\n",
    "    global freq_matrix_sup\n",
    "    for col_in in range(seq.shape[1]):\n",
    "        values,counts = np.unique(seq[:,col_in],return_counts=True)\n",
    "\n",
    "        index = np.where(values == '-')\n",
    "\n",
    "        values = np.delete(values,index)\n",
    "        counts = np.delete(counts,index)\n",
    "\n",
    "        if np.sum(counts)<2:\n",
    "            continue\n",
    "        else:\n",
    "            for i in range(len(values)):\n",
    "                for j in range(i,len(values)):\n",
    "                    if j == i:\n",
    "                        freq_matrix_sup[aa2index[values[i]],aa2index[values[j]]] += counts[i]*(counts[i]-1)*0.01\n",
    "                    else:\n",
    "                        freq_matrix_sup[aa2index[values[i]],aa2index[values[j]]] += counts[i]*counts[j]*0.01\n",
    "                        freq_matrix_sup[aa2index[values[j]],aa2index[values[i]]] += counts[i]*counts[j]*0.01"
   ]
  },
  {
   "cell_type": "markdown",
   "metadata": {},
   "source": [
    "def twil_matrix_update(seq):\n",
    "    global freq_matrix_twil\n",
    "    for col_in in range(seq.shape[1]):\n",
    "        values,counts = np.unique(seq[:,col_in],return_counts=True)\n",
    "\n",
    "        index = np.where(values == '-')\n",
    "\n",
    "        values = np.delete(values,index)\n",
    "        counts = np.delete(counts,index)\n",
    "\n",
    "        if np.sum(counts)<2:\n",
    "            continue\n",
    "        else:\n",
    "            for i in range(len(values)):\n",
    "                for j in range(i,len(values)):\n",
    "                    if j == i:\n",
    "                        freq_matrix_twil[aa2index[values[i]],aa2index[values[j]]] += counts[i]*(counts[i]-1)*0.01\n",
    "                    else:\n",
    "                        freq_matrix_twil[aa2index[values[i]],aa2index[values[j]]] += counts[i]*counts[j]*0.01\n",
    "                        freq_matrix_twil[aa2index[values[j]],aa2index[values[i]]] += counts[i]*counts[j]*0.01"
   ]
  },
  {
   "cell_type": "code",
   "execution_count": 7,
   "metadata": {},
   "outputs": [],
   "source": [
    "one2all ={'A': ('A', 'ALA', 'alanine'),\n",
    "              'R': ('R', 'ARG', 'arginine'),\n",
    "              'N': ('N', 'ASN', 'asparagine'),\n",
    "              'D': ('D', 'ASP', 'aspartic acid'),\n",
    "              'C': ('C', 'CYS', 'cysteine'),\n",
    "              'Q': ('Q', 'GLN', 'glutamine'),\n",
    "              'E': ('E', 'GLU', 'glutamic acid'),\n",
    "              'G': ('G', 'GLY', 'glycine'),\n",
    "              'H': ('H', 'HIS', 'histidine'),\n",
    "              'I': ('I', 'ILE', 'isoleucine'),\n",
    "              'L': ('L', 'LEU', 'leucine'),\n",
    "              'K': ('K', 'LYS', 'lysine'),\n",
    "              'M': ('M', 'MET', 'methionine'),\n",
    "              'F': ('F', 'PHE', 'phenylalanine'),\n",
    "              'P': ('P', 'PRO', 'proline'),\n",
    "              'S': ('S', 'SER', 'serine'),\n",
    "              'T': ('T', 'THR', 'threonine'),\n",
    "              'W': ('W', 'TRP', 'tryptophan'),\n",
    "              'Y': ('Y', 'TYR', 'tyrosine'),\n",
    "              'V': ('V', 'VAL', 'valine'),\n",
    "              'X': ('X', 'GLX', 'glutaminx'),\n",
    "              'Z': ('Z', 'GLI', 'glycine'),\n",
    "              'J': ('J', 'NLE', 'norleucine'),\n",
    "                'U': ('U', 'CYC', 'cysteinc')}"
   ]
  },
  {
   "cell_type": "code",
   "execution_count": 8,
   "metadata": {},
   "outputs": [],
   "source": [
    "aa2index={}\n",
    "for i, aa in enumerate(list(one2all.keys())):\n",
    "    if i == 20: break\n",
    "    aa2index[aa] = i"
   ]
  },
  {
   "cell_type": "code",
   "execution_count": 9,
   "metadata": {},
   "outputs": [],
   "source": [
    "with open(\"super_dataset_sampled100.txt\", \"rb\") as fp:   # Unpickling\n",
    "    super_list_sampled = pickle.load(fp)\n",
    "    \n",
    "with open(\"twil_dataset_sampled100.txt\", \"rb\") as fp:   # Unpickling\n",
    "    twil_list_sampled = pickle.load(fp)"
   ]
  },
  {
   "cell_type": "code",
   "execution_count": 10,
   "metadata": {},
   "outputs": [],
   "source": [
    "super_list_train=super_list_sampled[:90]\n",
    "super_list_test = super_list_sampled[90:]\n",
    "\n",
    "twil_list_train = twil_list_sampled[:90]\n",
    "twil_list_test = twil_list_sampled[90:]"
   ]
  },
  {
   "cell_type": "code",
   "execution_count": 11,
   "metadata": {},
   "outputs": [],
   "source": [
    "blosum_filepath = \"/home/chingyuenliu/TTIC31160_bioinfo/hw2/BLOSUM62\"\n",
    "\n",
    "blosum = blosum2mat(blosum_filepath)\n",
    "\n",
    "blosum_f = np.exp(blosum)"
   ]
  },
  {
   "cell_type": "code",
   "execution_count": 12,
   "metadata": {},
   "outputs": [],
   "source": [
    "aa_background_f = np.zeros(20)\n",
    "for i in super_list_train:\n",
    "    values,counts = np.unique(i,return_counts=True)\n",
    "    for v in range(values.shape[0]):\n",
    "        if values[v] in aa2index:\n",
    "            aa_background_f[aa2index[values[v]]] += counts[v]\n",
    "aa_background_f=aa_background_f/aa_background_f.sum()  "
   ]
  },
  {
   "cell_type": "code",
   "execution_count": 13,
   "metadata": {},
   "outputs": [],
   "source": [
    "for i in range(blosum_f.shape[0]):\n",
    "    for j in range(blosum_f.shape[1]):\n",
    "        blosum_f[i,j] = blosum_f[i,j] * aa_background_f[i] * aa_background_f[j]\n",
    "blosum_f = blosum_f/blosum_f.sum()"
   ]
  },
  {
   "cell_type": "code",
   "execution_count": 14,
   "metadata": {},
   "outputs": [
    {
     "name": "stderr",
     "output_type": "stream",
     "text": [
      "/home/chingyuenliu/miniconda3/lib/python3.7/site-packages/ipykernel_launcher.py:17: RuntimeWarning: divide by zero encountered in log\n"
     ]
    }
   ],
   "source": [
    "states = [\"Match\", \"Insert_X\", \"Insert_Y\"]\n",
    "\n",
    "l_para = {}\n",
    "\n",
    "\n",
    "emit_M = np.log(blosum_f)\n",
    "emit_X = np.tile(np.log(aa_background_f).reshape(-1,1),[1,20])\n",
    "emit_Y = np.tile(np.log(aa_background_f), [20,1])\n",
    "\n",
    "l_para['lgtau'] = np.log(0.1)\n",
    "tau = 0.1\n",
    "de = 0.3\n",
    "eta = 0.6\n",
    "\n",
    "l_para['trans_mat'] = np.array([1-2*de,de,de,1-eta-tau,eta,0,1-eta-tau,0,eta]).reshape([3,3])\n",
    "\n",
    "l_para['trans_mat'] = np.log(l_para['trans_mat'])\n",
    "#MM,MX,MY,XM,XX,XY,YM,YX,YY\n",
    "\n",
    "emit_mat = np.zeros([20,20,3])\n",
    "emit_mat[:,:,0] = emit_M\n",
    "emit_mat[:,:,1] = emit_X\n",
    "emit_mat[:,:,2] = emit_Y\n",
    "\n",
    "l_para['emit_mat'] = emit_mat"
   ]
  },
  {
   "cell_type": "code",
   "execution_count": null,
   "metadata": {},
   "outputs": [],
   "source": []
  },
  {
   "cell_type": "code",
   "execution_count": null,
   "metadata": {},
   "outputs": [],
   "source": []
  },
  {
   "cell_type": "code",
   "execution_count": 15,
   "metadata": {},
   "outputs": [],
   "source": [
    "def forward_M_compute_l(i,j):\n",
    "    if i == 0 or j == 0:\n",
    "        return -np.inf\n",
    "        \n",
    "    fm = f_matrix[i-1,j-1,0]\n",
    "    fx = f_matrix[i-1,j-1,1]\n",
    "    fy = f_matrix[i-1,j-1,2]\n",
    "    \n",
    "    inf_index = [index for index, value in enumerate([fm,fx,fy]) if value != -np.inf]\n",
    "    if len(inf_index) == 0:\n",
    "        return -np.inf\n",
    "    else:\n",
    "        log_list = []\n",
    "        for index in inf_index:\n",
    "            log_list.append(l_para['emit_mat'][aa2index[seq1[i-1]],aa2index[seq2[j-1]]][0] + \\\n",
    "                           l_para['trans_mat'][index,0] + f_matrix[i-1,j-1,index]\n",
    "                           )\n",
    "        if len(log_list) == 1:\n",
    "            return log_list[0]\n",
    "        else:\n",
    "            return logsum(log_list)\n"
   ]
  },
  {
   "cell_type": "code",
   "execution_count": 16,
   "metadata": {},
   "outputs": [],
   "source": [
    "def backward_M_compute_l(i,j):\n",
    "\n",
    "    if i >= m and j >= n: return -np.inf\n",
    "        \n",
    "    if i == m and j < n:\n",
    "        bm = -np.inf\n",
    "        bx = -np.inf    \n",
    "        by = b_matrix[i,j+1,2]\n",
    "    elif i < m and j == n:\n",
    "        bm = -np.inf\n",
    "        by = -np.inf\n",
    "        bx = b_matrix[i+1,j,1]\n",
    "    else:\n",
    "        bm = b_matrix[i+1,j+1,0]\n",
    "        bx = b_matrix[i+1,j,1]\n",
    "        by = b_matrix[i,j+1,2]\n",
    "    \n",
    "    inf_index = [index for index, value in enumerate([bm,bx,by]) if value != -np.inf]\n",
    "    if len(inf_index) == 0:\n",
    "        return -np.inf\n",
    "    else:\n",
    "        log_list = []\n",
    "        for index in inf_index:\n",
    "            if index == 0:\n",
    "                log_list.append(l_para['emit_mat'][aa2index[seq1[i]],aa2index[seq2[j]]][0] + \\\n",
    "                           l_para['trans_mat'][0,index] + b_matrix[i+1,j+1,index]\n",
    "                           )\n",
    "            if index == 1:\n",
    "                log_list.append(l_para['emit_mat'][aa2index[seq1[i]],0][1] + \\\n",
    "                           l_para['trans_mat'][0,index] + b_matrix[i+1,j,index] )\n",
    "            if index == 2:\n",
    "                log_list.append(l_para['emit_mat'][0,aa2index[seq2[j]]][2] + \\\n",
    "                           l_para['trans_mat'][0,index] + b_matrix[i,j+1,index] )                           \n",
    "            \n",
    "        if len(log_list) == 1:\n",
    "            return log_list[0]\n",
    "        else:\n",
    "            return logsum(log_list)\n"
   ]
  },
  {
   "cell_type": "code",
   "execution_count": 17,
   "metadata": {},
   "outputs": [],
   "source": [
    "def forward_X_compute_l(i,j):\n",
    "    if i == 0:\n",
    "        return -np.inf\n",
    "        \n",
    "    fm = f_matrix[i-1,j,0]\n",
    "    fx = f_matrix[i-1,j,1]\n",
    "    \n",
    "    inf_index = [index for index, value in enumerate([fm,fx,-np.inf]) if value != -np.inf]\n",
    "    if len(inf_index) == 0:\n",
    "        return -np.inf\n",
    "    else:\n",
    "        log_list = []\n",
    "        for index in inf_index:\n",
    "            log_list.append(l_para['emit_mat'][aa2index[seq1[i-1]],0][1] + \\\n",
    "                           l_para['trans_mat'][index,1] + f_matrix[i-1,j,index]\n",
    "                           )\n",
    "        if len(log_list) == 1:\n",
    "            return log_list[0]\n",
    "        else:\n",
    "            return logsum(log_list)"
   ]
  },
  {
   "cell_type": "code",
   "execution_count": 18,
   "metadata": {},
   "outputs": [],
   "source": [
    "def backward_X_compute_l(i,j):\n",
    "\n",
    "    if i >= m : return -np.inf\n",
    "    if j > n: return -np.inf\n",
    "    \n",
    "    by = -np.inf\n",
    "\n",
    "    if i < m and j == n:\n",
    "        bm = -np.inf\n",
    "        by = -np.inf        \n",
    "        bx = b_matrix[i+1,j,1]\n",
    "    else:\n",
    "        bm = b_matrix[i+1,j+1,0]\n",
    "        bx = b_matrix[i+1,j,1]\n",
    "\n",
    "    \n",
    "    inf_index = [index for index, value in enumerate([bm,bx,-np.inf]) if value != -np.inf]\n",
    "    if len(inf_index) == 0:\n",
    "        return -np.inf\n",
    "    else:\n",
    "        log_list = []\n",
    "        for index in inf_index:\n",
    "            if index == 0:\n",
    "                log_list.append(l_para['emit_mat'][aa2index[seq1[i]],aa2index[seq2[j]]][0] + \\\n",
    "                           l_para['trans_mat'][1,index] + b_matrix[i+1,j+1,index]\n",
    "                           )\n",
    "            if index == 1:\n",
    "                log_list.append(l_para['emit_mat'][aa2index[seq1[i]],0][1] + \\\n",
    "                           l_para['trans_mat'][1,index] + b_matrix[i+1,j,index] )                    \n",
    "            \n",
    "        if len(log_list) == 1:\n",
    "            return log_list[0]\n",
    "        else:\n",
    "            return logsum(log_list)\n"
   ]
  },
  {
   "cell_type": "code",
   "execution_count": 19,
   "metadata": {},
   "outputs": [],
   "source": [
    "def forward_Y_compute_l(i,j):\n",
    "    if j == 0:\n",
    "        return -np.inf\n",
    "        \n",
    "    fm = f_matrix[i,j-1,0]\n",
    "    fy = f_matrix[i,j-1,2]\n",
    "    \n",
    "    inf_index = [index for index, value in enumerate([fm, -np.inf, fy]) if value != -np.inf]\n",
    "    if len(inf_index) == 0:\n",
    "        return -np.inf\n",
    "    else:\n",
    "        log_list = []\n",
    "        for index in inf_index:\n",
    "            log_list.append(l_para['emit_mat'][0,aa2index[seq2[j-1]]][2] + \\\n",
    "                           l_para['trans_mat'][index,2] + f_matrix[i,j-1,index]\n",
    "                           )\n",
    "        if len(log_list) == 1:\n",
    "            return log_list[0]\n",
    "        else:\n",
    "            return logsum(log_list)"
   ]
  },
  {
   "cell_type": "code",
   "execution_count": 20,
   "metadata": {},
   "outputs": [],
   "source": [
    "def backward_Y_compute_l(i,j):\n",
    "\n",
    "    \n",
    "    if j >= n: return -np.inf\n",
    "    if i > m : return -np.inf\n",
    "    \n",
    "    bx = -np.inf\n",
    "\n",
    "    if i == m and j < n:\n",
    "        bm = -np.inf      \n",
    "        by = b_matrix[i,j+1,2]\n",
    "    else:\n",
    "        bm = b_matrix[i+1,j+1,0]\n",
    "        by = b_matrix[i,j+1,2]\n",
    "\n",
    "    \n",
    "    inf_index = [index for index, value in enumerate([bm,-np.inf,by]) if value != -np.inf]\n",
    "    if len(inf_index) == 0:\n",
    "        return -np.inf\n",
    "    else:\n",
    "        log_list = []\n",
    "        for index in inf_index:\n",
    "            if index == 0:\n",
    "                log_list.append(l_para['emit_mat'][aa2index[seq1[i]],aa2index[seq2[j]]][0] + \\\n",
    "                           l_para['trans_mat'][2,index] + b_matrix[i+1,j+1,index]\n",
    "                           )\n",
    "            if index == 2:\n",
    "                log_list.append(l_para['emit_mat'][0,aa2index[seq2[j]]][2] + \\\n",
    "                           l_para['trans_mat'][2,index] + b_matrix[i,j+1,index] )                    \n",
    "            \n",
    "        if len(log_list) == 1:\n",
    "            return log_list[0]\n",
    "        else:\n",
    "            return logsum(log_list)"
   ]
  },
  {
   "cell_type": "code",
   "execution_count": 24,
   "metadata": {},
   "outputs": [],
   "source": []
  },
  {
   "cell_type": "code",
   "execution_count": 27,
   "metadata": {},
   "outputs": [
    {
     "data": {
      "text/plain": [
       "2"
      ]
     },
     "execution_count": 27,
     "metadata": {},
     "output_type": "execute_result"
    }
   ],
   "source": []
  },
  {
   "cell_type": "code",
   "execution_count": null,
   "metadata": {},
   "outputs": [
    {
     "name": "stderr",
     "output_type": "stream",
     "text": [
      "/home/chingyuenliu/miniconda3/lib/python3.7/site-packages/ipykernel_launcher.py:22: RuntimeWarning: overflow encountered in exp\n"
     ]
    }
   ],
   "source": [
    "\n",
    "for seq_pair in super_list_train:\n",
    "\n",
    "    seq1,seq2 = pure_seq([seq_pair])[0]\n",
    "    #local\n",
    "    m = len(seq1)\n",
    "    n = len(seq2)\n",
    "\n",
    "    for loop in range(2):\n",
    "        #order match:0,x:1,y:2\n",
    "        f_matrix = np.full([m+1,n+1, len(states)], -np.inf)\n",
    "        b_matrix = np.full([m+1,n+1, len(states)], -np.inf)\n",
    "\n",
    "        f_matrix[0,0,1] = np.log(0.5)\n",
    "        f_matrix[0,0,2] = np.log(0.5)\n",
    "        for i in range(0,m+1):\n",
    "            for j in range(0,n+1):\n",
    "                if i==0 and j ==0: continue\n",
    "                f_matrix[i,j,0] = forward_M_compute_l(i,j)\n",
    "                f_matrix[i,j,1] = forward_X_compute_l(i,j)\n",
    "                f_matrix[i,j,2] = forward_Y_compute_l(i,j)            \n",
    "\n",
    "        b_matrix[m,n,1] = l_para['lgtau']\n",
    "        b_matrix[m,n,2] = l_para['lgtau']\n",
    "        for i in range(m,-1,-1):\n",
    "            for j in range(n,-1,-1):\n",
    "                if i ==m and j == n: continue\n",
    "                b_matrix[i,j,0] = backward_M_compute_l(i,j)\n",
    "                b_matrix[i,j,1] = backward_X_compute_l(i,j)\n",
    "                b_matrix[i,j,2] = backward_Y_compute_l(i,j)\n",
    "\n",
    "\n",
    "\n",
    "        gamma_matrix=f_matrix+b_matrix\n",
    "\n",
    "\n",
    "        trans_mat_new = np.zeros(l_para['trans_mat'].shape)\n",
    "        for s1 in range(trans_mat_new.shape[0]):\n",
    "            for s2 in range(trans_mat_new.shape[1]):\n",
    "                if (s1 == 1 and s2 ==2) or (s1 ==2 and s2 ==1):\n",
    "                    trans_mat_new[s1,s2] = -np.inf\n",
    "                    continue\n",
    "                mat = np.zeros([m,n])\n",
    "                for i in range(m):\n",
    "                    for j in range(n):\n",
    "                        mat[i,j] = f_matrix[i,j,s1]+b_matrix[index_determ(i,j,s2)] + l_para['trans_mat'][s1,s2] + \\\n",
    "                                    l_para['emit_mat'][aa2index[seq1[i]],aa2index[seq2[j]]][s2]\n",
    "                trans_mat_new[s1,s2] = logsum(mat) - logsum(gamma_matrix[:,:,s1])\n",
    "\n",
    "\n",
    "        l_para['lgtau'] = np.log(3-np.exp(trans_mat_new).sum())\n",
    "\n",
    "        emit_mat_new = np.zeros(l_para['emit_mat'].shape)\n",
    "\n",
    "        for aa1 in aa2index:\n",
    "            for aa2 in aa2index:\n",
    "                aa1_index = [index for index,value in enumerate(seq1) if value == aa1]\n",
    "                aa2_index = [index for index,value in enumerate(seq2) if value == aa2]\n",
    "\n",
    "                value_list = []\n",
    "                for aa1_i in aa1_index:\n",
    "                    for aa2_i in aa2_index:\n",
    "                        value_list.append(gamma_matrix[aa1_i,aa2_i])\n",
    "\n",
    "                if len(value_list) == 0:\n",
    "                    for k in range(gamma_matrix.shape[2]):\n",
    "                        emit_mat_new[aa2index[aa1],aa2index[aa2],k] = -np.inf\n",
    "                    continue\n",
    "\n",
    "                value_np = np.array(value_list)  \n",
    "\n",
    "                for k in range(value_np.shape[1]):\n",
    "                    emit_mat_new[aa2index[aa1],aa2index[aa2],k] = logsum(value_np[:,k])\n",
    "\n",
    "        for it in range(emit_mat_new.shape[2]):\n",
    "            emit_mat_new[:,:,it] -= logsum(gamma_matrix[:,:,it])\n",
    "\n",
    "        for it in range(20):\n",
    "            emit_mat_new[it,0,1] = logsum(emit_mat_new[it,:,1])\n",
    "            emit_mat_new[0,it,2] = logsum(emit_mat_new[:,it,2])\n",
    "\n",
    "        emit_mat_new[:,:,1] = np.tile(emit_mat_new[:,0,1].reshape(-1,1),[1,20])\n",
    "        emit_mat_new[:,:,2] = np.tile(emit_mat_new[0,:,2].reshape(1,-1),[20,1])\n",
    "\n",
    "        emit_mat_new = np.clip(emit_mat_new,-10,-1e-5)\n",
    "\n",
    "        l_para['emit_mat'] = emit_mat_new\n",
    "        l_para['trans_mat'] = trans_mat_new\n",
    "\n",
    "    \n"
   ]
  },
  {
   "cell_type": "code",
   "execution_count": 45,
   "metadata": {},
   "outputs": [
    {
     "data": {
      "text/plain": [
       "array([[-0.13678829, -2.95254524, -2.79820466],\n",
       "       [-1.82171815, -1.24798799,        -inf],\n",
       "       [-1.41440862,        -inf, -0.27848366]])"
      ]
     },
     "execution_count": 45,
     "metadata": {},
     "output_type": "execute_result"
    }
   ],
   "source": []
  },
  {
   "cell_type": "code",
   "execution_count": null,
   "metadata": {},
   "outputs": [],
   "source": []
  },
  {
   "cell_type": "code",
   "execution_count": 25,
   "metadata": {},
   "outputs": [
    {
     "data": {
      "text/plain": [
       "24.27428126335144"
      ]
     },
     "execution_count": 25,
     "metadata": {},
     "output_type": "execute_result"
    }
   ],
   "source": [
    "start = time.time()\n",
    "for seq_pair in super_list_train:\n",
    "\n",
    "    seq1,seq2 = pure_seq([seq_pair])[0]\n",
    "    #local\n",
    "    m = len(seq1)\n",
    "    n = len(seq2)\n",
    "\n",
    "    for loop in range(1):\n",
    "        #order match:0,x:1,y:2\n",
    "        f_matrix = np.full([m+1,n+1, len(states)], -np.inf)\n",
    "        b_matrix = np.full([m+1,n+1, len(states)], -np.inf)\n",
    "\n",
    "        f_matrix[0,0,1] = np.log(0.5)\n",
    "        f_matrix[0,0,2] = np.log(0.5)\n",
    "        for i in range(0,m+1):\n",
    "            for j in range(0,n+1):\n",
    "                if i==0 and j ==0: continue\n",
    "                f_matrix[i,j,0] = forward_M_compute_l(i,j)\n",
    "                f_matrix[i,j,1] = forward_X_compute_l(i,j)\n",
    "                f_matrix[i,j,2] = forward_Y_compute_l(i,j)            \n",
    "\n",
    "        b_matrix[m,n,1] = l_para['lgtau']\n",
    "        b_matrix[m,n,2] = l_para['lgtau']\n",
    "        for i in range(m,-1,-1):\n",
    "            for j in range(n,-1,-1):\n",
    "                if i ==m and j == n: continue\n",
    "                b_matrix[i,j,0] = backward_M_compute_l(i,j)\n",
    "                b_matrix[i,j,1] = backward_X_compute_l(i,j)\n",
    "                b_matrix[i,j,2] = backward_Y_compute_l(i,j)\n",
    "\n",
    "\n",
    "\n",
    "        gamma_matrix=f_matrix+b_matrix\n",
    "\n",
    "\n",
    "        trans_mat_new = np.zeros(l_para['trans_mat'].shape)\n",
    "        for s1 in range(trans_mat_new.shape[0]):\n",
    "            for s2 in range(trans_mat_new.shape[1]):\n",
    "                if (s1 == 1 and s2 ==2) or (s1 ==2 and s2 ==1):\n",
    "                    trans_mat_new[s1,s2] = -np.inf\n",
    "                    continue\n",
    "                mat = np.zeros([m,n])\n",
    "                for i in range(m):\n",
    "                    for j in range(n):\n",
    "                        mat[i,j] = f_matrix[i,j,s1]+b_matrix[index_determ(i,j,s2)] + l_para['trans_mat'][s1,s2] + \\\n",
    "                                    l_para['emit_mat'][aa2index[seq1[i]],aa2index[seq2[j]]][s2]\n",
    "                trans_mat_new[s1,s2] = logsum(mat) - logsum(gamma_matrix[:,:,s1])\n",
    "\n",
    "\n",
    "        l_para['lgtau'] = np.log(3-np.exp(trans_mat_new).sum())\n",
    "\n",
    "        emit_mat_new = np.zeros(l_para['emit_mat'].shape)\n",
    "        \n",
    "        break\n",
    "        \n",
    "        for aa1 in aa2index:\n",
    "            for aa2 in aa2index:\n",
    "                aa1_index = [index for index,value in enumerate(seq1) if value == aa1]\n",
    "                aa2_index = [index for index,value in enumerate(seq2) if value == aa2]\n",
    "\n",
    "                value_list = []\n",
    "                for aa1_i in aa1_index:\n",
    "                    for aa2_i in aa2_index:\n",
    "                        value_list.append(gamma_matrix[aa1_i,aa2_i])\n",
    "\n",
    "                if len(value_list) == 0:\n",
    "                    for k in range(gamma_matrix.shape[2]):\n",
    "                        emit_mat_new[aa2index[aa1],aa2index[aa2],k] = -np.inf\n",
    "                    continue\n",
    "\n",
    "                value_np = np.array(value_list)  \n",
    "\n",
    "                for k in range(value_np.shape[1]):\n",
    "                    emit_mat_new[aa2index[aa1],aa2index[aa2],k] = logsum(value_np[:,k])\n",
    "\n",
    "        for it in range(emit_mat_new.shape[2]):\n",
    "            emit_mat_new[:,:,it] -= logsum(gamma_matrix[:,:,it])\n",
    "\n",
    "        for it in range(20):\n",
    "            emit_mat_new[it,0,1] = logsum(emit_mat_new[it,:,1])\n",
    "            emit_mat_new[0,it,2] = logsum(emit_mat_new[:,it,2])\n",
    "\n",
    "        emit_mat_new[:,:,1] = np.tile(emit_mat_new[:,0,1].reshape(-1,1),[1,20])\n",
    "        emit_mat_new[:,:,2] = np.tile(emit_mat_new[0,:,2].reshape(1,-1),[20,1])\n",
    "\n",
    "        emit_mat_new = np.clip(emit_mat_new,-10,-1e-5)\n",
    "\n",
    "        l_para['emit_mat'] = emit_mat_new\n",
    "        l_para['trans_mat'] = trans_mat_new\n",
    "\n",
    "    break\n",
    "end = time.time()\n",
    "end-start"
   ]
  },
  {
   "cell_type": "code",
   "execution_count": null,
   "metadata": {},
   "outputs": [],
   "source": [
    "for aa1 in aa2index:\n",
    "            for aa2 in aa2index:\n",
    "                aa1_index = [index for index,value in enumerate(seq1) if value == aa1]\n",
    "                aa2_index = [index for index,value in enumerate(seq2) if value == aa2]\n",
    "\n",
    "                value_list = []\n",
    "                for aa1_i in aa1_index:\n",
    "                    for aa2_i in aa2_index:\n",
    "                        value_list.append(gamma_matrix[aa1_i,aa2_i])\n",
    "\n",
    "                if len(value_list) == 0:\n",
    "                    for k in range(gamma_matrix.shape[2]):\n",
    "                        emit_mat_new[aa2index[aa1],aa2index[aa2],k] = -np.inf\n",
    "                    continue\n",
    "\n",
    "                value_np = np.array(value_list)  \n",
    "\n",
    "                for k in range(value_np.shape[1]):\n",
    "                    emit_mat_new[aa2index[aa1],aa2index[aa2],k] = logsum(value_np[:,k])\n",
    "\n",
    "        for it in range(emit_mat_new.shape[2]):\n",
    "            emit_mat_new[:,:,it] -= logsum(gamma_matrix[:,:,it])\n",
    "\n",
    "        for it in range(20):\n",
    "            emit_mat_new[it,0,1] = logsum(emit_mat_new[it,:,1])\n",
    "            emit_mat_new[0,it,2] = logsum(emit_mat_new[:,it,2])\n",
    "\n",
    "        emit_mat_new[:,:,1] = np.tile(emit_mat_new[:,0,1].reshape(-1,1),[1,20])\n",
    "        emit_mat_new[:,:,2] = np.tile(emit_mat_new[0,:,2].reshape(1,-1),[20,1])\n",
    "\n",
    "        emit_mat_new = np.clip(emit_mat_new,-10,-1e-5)\n",
    "\n",
    "        l_para['emit_mat'] = emit_mat_new\n",
    "        l_para['trans_mat'] = trans_mat_new\n"
   ]
  },
  {
   "cell_type": "code",
   "execution_count": null,
   "metadata": {},
   "outputs": [],
   "source": [
    "l_para_super = copy.deepcopy(l_para)"
   ]
  },
  {
   "cell_type": "code",
   "execution_count": null,
   "metadata": {},
   "outputs": [],
   "source": []
  },
  {
   "cell_type": "code",
   "execution_count": null,
   "metadata": {},
   "outputs": [],
   "source": [
    "states = [\"Match\", \"Insert_X\", \"Insert_Y\"]\n",
    "\n",
    "g_para = {}\n",
    "\n",
    "\n",
    "emit_M = np.log(blosum_f)\n",
    "emit_X = np.tile(np.log(aa_background_f).reshape(-1,1),[1,20])\n",
    "emit_Y = np.tile(np.log(aa_background_f), [20,1])\n",
    "\n",
    "g_para['lgtau'] = np.log(0.1)\n",
    "\n",
    "tau = 0.1\n",
    "de = 0.3\n",
    "eta = 0.6\n",
    "\n",
    "g_para['trans_mat'] = np.array([1-2*de-tau,de,de,1-eta-tau,eta,0,1-eta-tau,0,eta]).reshape([3,3])\n",
    "g_para['trans_mat'] = np.log(g_para['trans_mat'])\n",
    "#MM,MX,MY,XM,XX,XY,YM,YX,YY\n",
    "\n",
    "emit_mat = np.zeros([20,20,3])\n",
    "emit_mat[:,:,0] = emit_M\n",
    "emit_mat[:,:,1] = emit_X\n",
    "emit_mat[:,:,2] = emit_Y\n",
    "\n",
    "g_para['emit_mat'] = emit_mat"
   ]
  },
  {
   "cell_type": "code",
   "execution_count": null,
   "metadata": {},
   "outputs": [],
   "source": []
  },
  {
   "cell_type": "code",
   "execution_count": null,
   "metadata": {},
   "outputs": [],
   "source": [
    "def forward_M_compute_g(i,j):\n",
    "    if i == 0 or j == 0:\n",
    "        return -np.inf\n",
    "        \n",
    "    fm = f_matrix[i-1,j-1,0]\n",
    "    fx = f_matrix[i-1,j-1,1]\n",
    "    fy = f_matrix[i-1,j-1,2]\n",
    "    \n",
    "    inf_index = [index for index, value in enumerate([fm,fx,fy]) if value != -np.inf]\n",
    "    if len(inf_index) == 0:\n",
    "        return -np.inf\n",
    "    else:\n",
    "        log_list = []\n",
    "        for index in inf_index:\n",
    "            log_list.append(g_para['emit_mat'][aa2index[seq1[i-1]],aa2index[seq2[j-1]]][0] + \\\n",
    "                           g_para['trans_mat'][index,0] + f_matrix[i-1,j-1,index]\n",
    "                           )\n",
    "        if len(log_list) == 1:\n",
    "            return log_list[0]\n",
    "        else:\n",
    "            return logsum(log_list)\n"
   ]
  },
  {
   "cell_type": "code",
   "execution_count": 19,
   "metadata": {},
   "outputs": [],
   "source": [
    "def backward_M_compute_g(i,j):\n",
    "\n",
    "    if i >= m and j >= n: return -np.inf\n",
    "        \n",
    "    if i == m and j < n:\n",
    "        bm = -np.inf\n",
    "        bx = -np.inf    \n",
    "        by = b_matrix[i,j+1,2]\n",
    "    elif i < m and j == n:\n",
    "        bm = -np.inf\n",
    "        by = -np.inf\n",
    "        bx = b_matrix[i+1,j,1]\n",
    "    else:\n",
    "        bm = b_matrix[i+1,j+1,0]\n",
    "        bx = b_matrix[i+1,j,1]\n",
    "        by = b_matrix[i,j+1,2]\n",
    "    \n",
    "    inf_index = [index for index, value in enumerate([bm,bx,by]) if value != -np.inf]\n",
    "    if len(inf_index) == 0:\n",
    "        return -np.inf\n",
    "    else:\n",
    "        log_list = []\n",
    "        for index in inf_index:\n",
    "            if index == 0:\n",
    "                log_list.append(g_para['emit_mat'][aa2index[seq1[i]],aa2index[seq2[j]]][0] + \\\n",
    "                           g_para['trans_mat'][0,index] + b_matrix[i+1,j+1,index]\n",
    "                           )\n",
    "            if index == 1:\n",
    "                log_list.append(g_para['emit_mat'][aa2index[seq1[i]],0][1] + \\\n",
    "                           g_para['trans_mat'][0,index] + b_matrix[i+1,j,index] )\n",
    "            if index == 2:\n",
    "                log_list.append(g_para['emit_mat'][0,aa2index[seq2[j]]][2] + \\\n",
    "                           g_para['trans_mat'][0,index] + b_matrix[i,j+1,index] )                           \n",
    "            \n",
    "        if len(log_list) == 1:\n",
    "            return log_list[0]\n",
    "        else:\n",
    "            return logsum(log_list)\n"
   ]
  },
  {
   "cell_type": "code",
   "execution_count": 20,
   "metadata": {},
   "outputs": [],
   "source": [
    "def forward_X_compute_g(i,j):\n",
    "    if i == 0:\n",
    "        return -np.inf\n",
    "        \n",
    "    fm = f_matrix[i-1,j,0]\n",
    "    fx = f_matrix[i-1,j,1]\n",
    "    \n",
    "    inf_index = [index for index, value in enumerate([fm,fx,-np.inf]) if value != -np.inf]\n",
    "    if len(inf_index) == 0:\n",
    "        return -np.inf\n",
    "    else:\n",
    "        log_list = []\n",
    "        for index in inf_index:\n",
    "            log_list.append(g_para['emit_mat'][aa2index[seq1[i-1]],0][1] + \\\n",
    "                           g_para['trans_mat'][index,1] + f_matrix[i-1,j,index]\n",
    "                           )\n",
    "        if len(log_list) == 1:\n",
    "            return log_list[0]\n",
    "        else:\n",
    "            return logsum(log_list)"
   ]
  },
  {
   "cell_type": "code",
   "execution_count": 21,
   "metadata": {},
   "outputs": [],
   "source": [
    "def backward_X_compute_g(i,j):\n",
    "\n",
    "    if i >= m : return -np.inf\n",
    "    if j > n: return -np.inf\n",
    "    \n",
    "    by = -np.inf\n",
    "\n",
    "    if i < m and j == n:\n",
    "        bm = -np.inf\n",
    "        by = -np.inf        \n",
    "        bx = b_matrix[i+1,j,1]\n",
    "    else:\n",
    "        bm = b_matrix[i+1,j+1,0]\n",
    "        bx = b_matrix[i+1,j,1]\n",
    "\n",
    "    \n",
    "    inf_index = [index for index, value in enumerate([bm,bx,-np.inf]) if value != -np.inf]\n",
    "    if len(inf_index) == 0:\n",
    "        return -np.inf\n",
    "    else:\n",
    "        log_list = []\n",
    "        for index in inf_index:\n",
    "            if index == 0:\n",
    "                log_list.append(g_para['emit_mat'][aa2index[seq1[i]],aa2index[seq2[j]]][0] + \\\n",
    "                           g_para['trans_mat'][1,index] + b_matrix[i+1,j+1,index]\n",
    "                           )\n",
    "            if index == 1:\n",
    "                log_list.append(g_para['emit_mat'][aa2index[seq1[i]],0][1] + \\\n",
    "                           g_para['trans_mat'][1,index] + b_matrix[i+1,j,index] )                    \n",
    "            \n",
    "        if len(log_list) == 1:\n",
    "            return log_list[0]\n",
    "        else:\n",
    "            return logsum(log_list)\n"
   ]
  },
  {
   "cell_type": "code",
   "execution_count": 22,
   "metadata": {},
   "outputs": [],
   "source": [
    "def forward_Y_compute_g(i,j):\n",
    "    if j == 0:\n",
    "        return -np.inf\n",
    "        \n",
    "    fm = f_matrix[i,j-1,0]\n",
    "    fy = f_matrix[i,j-1,2]\n",
    "    \n",
    "    inf_index = [index for index, value in enumerate([fm, -np.inf, fy]) if value != -np.inf]\n",
    "    if len(inf_index) == 0:\n",
    "        return -np.inf\n",
    "    else:\n",
    "        log_list = []\n",
    "        for index in inf_index:\n",
    "            log_list.append(g_para['emit_mat'][0,aa2index[seq2[j-1]]][2] + \\\n",
    "                           g_para['trans_mat'][index,2] + f_matrix[i,j-1,index]\n",
    "                           )\n",
    "        if len(log_list) == 1:\n",
    "            return log_list[0]\n",
    "        else:\n",
    "            return logsum(log_list)"
   ]
  },
  {
   "cell_type": "code",
   "execution_count": 23,
   "metadata": {},
   "outputs": [],
   "source": [
    "def backward_Y_compute_g(i,j):\n",
    "\n",
    "    \n",
    "    if j >= n: return -np.inf\n",
    "    if i > m : return -np.inf\n",
    "    \n",
    "    bx = -np.inf\n",
    "\n",
    "    if i == m and j < n:\n",
    "        bm = -np.inf      \n",
    "        by = b_matrix[i,j+1,2]\n",
    "    else:\n",
    "        bm = b_matrix[i+1,j+1,0]\n",
    "        by = b_matrix[i,j+1,2]\n",
    "\n",
    "    \n",
    "    inf_index = [index for index, value in enumerate([bm,-np.inf,by]) if value != -np.inf]\n",
    "    if len(inf_index) == 0:\n",
    "        return -np.inf\n",
    "    else:\n",
    "        log_list = []\n",
    "        for index in inf_index:\n",
    "            if index == 0:\n",
    "                log_list.append(g_para['emit_mat'][aa2index[seq1[i]],aa2index[seq2[j]]][0] + \\\n",
    "                           g_para['trans_mat'][2,index] + b_matrix[i+1,j+1,index]\n",
    "                           )\n",
    "            if index == 2:\n",
    "                log_list.append(g_para['emit_mat'][0,aa2index[seq2[j]]][2] + \\\n",
    "                           g_para['trans_mat'][2,index] + b_matrix[i,j+1,index] )                    \n",
    "            \n",
    "        if len(log_list) == 1:\n",
    "            return log_list[0]\n",
    "        else:\n",
    "            return logsum(log_list)"
   ]
  },
  {
   "cell_type": "code",
   "execution_count": 24,
   "metadata": {},
   "outputs": [],
   "source": []
  },
  {
   "cell_type": "code",
   "execution_count": null,
   "metadata": {},
   "outputs": [],
   "source": [
    "#global\n",
    "\n",
    "m = len(seq1)\n",
    "n = len(seq2)\n",
    "#order match:0,x:1,y:2\n",
    "f_matrix = np.full([m+1,n+1, len(states)], -np.inf)\n",
    "b_matrix = np.full([m+1,n+1, len(states)], -np.inf)\n",
    "\n",
    "f_matrix[0,0,0] = np.log(1/3)\n",
    "f_matrix[0,0,1] = np.log(1/3)\n",
    "f_matrix[0,0,2] = np.log(1/3)\n",
    "\n",
    "for i in range(0,m+1):\n",
    "    for j in range(0,n+1):\n",
    "        if i==0 and j ==0: continue\n",
    "        f_matrix[i,j,0] = forward_M_compute_g(i,j)\n",
    "        f_matrix[i,j,1] = forward_X_compute_g(i,j)\n",
    "        f_matrix[i,j,2] = forward_Y_compute_g(i,j)\n",
    "\n",
    "b_matrix[m,n,0] = g_para['lgtau']\n",
    "b_matrix[m,n,1] = g_para['lgtau']\n",
    "b_matrix[m,n,2] = g_para['lgtau']\n",
    "\n",
    "for i in range(m,-1,-1):\n",
    "    for j in range(n,-1,-1):\n",
    "        if i ==m and j == n: continue\n",
    "        b_matrix[i,j,0] = backward_M_compute_g(i,j)\n",
    "        b_matrix[i,j,1] = backward_X_compute_g(i,j)\n",
    "        b_matrix[i,j,2] = backward_Y_compute_g(i,j)\n",
    "\n",
    "\n",
    "\n",
    "gamma_matrix=f_matrix+b_matrix\n",
    "\n",
    "\n",
    "trans_mat_new = np.zeros(g_para['trans_mat'].shape)\n",
    "for s1 in range(trans_mat_new.shape[0]):\n",
    "    for s2 in range(trans_mat_new.shape[1]):\n",
    "        if (s1 == 1 and s2 ==2) or (s1 ==2 and s2 ==1):\n",
    "            trans_mat_new[s1,s2] = -np.inf\n",
    "            continue\n",
    "        mat = np.zeros([m,n])\n",
    "        for i in range(m):\n",
    "            for j in range(n):\n",
    "                mat[i,j] = f_matrix[i,j,s1]+b_matrix[index_determ(i,j,s2)] + g_para['trans_mat'][s1,s2] + \\\n",
    "                            g_para['emit_mat'][aa2index[seq1[i]],aa2index[seq2[j]]][s2]\n",
    "        trans_mat_new[s1,s2] = logsum(mat) - logsum(gamma_matrix[:,:,s1])\n",
    "\n",
    "\n",
    "g_para['lgtau'] = np.clip(np.log((3-np.exp(trans_mat_new).sum())/3), -10,-1e-5)\n",
    "\n",
    "emit_mat_new = np.zeros(g_para['emit_mat'].shape)\n",
    "\n",
    "for aa1 in aa2index:\n",
    "    for aa2 in aa2index:\n",
    "        aa1_index = [index for index,value in enumerate(seq1) if value == aa1]\n",
    "        aa2_index = [index for index,value in enumerate(seq2) if value == aa2]\n",
    "\n",
    "        value_list = []\n",
    "        for aa1_i in aa1_index:\n",
    "            for aa2_i in aa2_index:\n",
    "                value_list.append(gamma_matrix[aa1_i,aa2_i])\n",
    "\n",
    "        if len(value_list) == 0:\n",
    "            for k in range(gamma_matrix.shape[2]):\n",
    "                emit_mat_new[aa2index[aa1],aa2index[aa2],k] = -np.inf\n",
    "            continue\n",
    "\n",
    "        value_np = np.array(value_list)  \n",
    "\n",
    "        for k in range(value_np.shape[1]):\n",
    "            emit_mat_new[aa2index[aa1],aa2index[aa2],k] = logsum(value_np[:,k])\n",
    "\n",
    "for it in range(emit_mat_new.shape[2]):\n",
    "    emit_mat_new[:,:,it] -= logsum(gamma_matrix[:,:,it])\n",
    "\n",
    "for it in range(20):\n",
    "    emit_mat_new[it,0,1] = logsum(emit_mat_new[it,:,1])\n",
    "    emit_mat_new[0,it,2] = logsum(emit_mat_new[:,it,2])\n",
    "\n",
    "emit_mat_new[:,:,1] = np.tile(emit_mat_new[:,0,1].reshape(-1,1),[1,20])\n",
    "emit_mat_new[:,:,2] = np.tile(emit_mat_new[0,:,2].reshape(1,-1),[20,1])\n",
    "\n",
    "emit_mat_new = np.clip(emit_mat_new,-10,-1e-5)\n",
    "\n",
    "g_para['emit_mat'] = emit_mat_new\n",
    "g_para['trans_mat'] = trans_mat_new"
   ]
  },
  {
   "cell_type": "code",
   "execution_count": null,
   "metadata": {},
   "outputs": [],
   "source": []
  },
  {
   "cell_type": "code",
   "execution_count": null,
   "metadata": {},
   "outputs": [],
   "source": []
  },
  {
   "cell_type": "code",
   "execution_count": null,
   "metadata": {},
   "outputs": [],
   "source": []
  },
  {
   "cell_type": "code",
   "execution_count": null,
   "metadata": {},
   "outputs": [],
   "source": [
    "#local\n",
    "m = len(seq1)\n",
    "n = len(seq2)\n",
    "#order match:0,x:1,y:2\n",
    "f_matrix = np.full([m+1,n+1, len(states)], -np.inf)\n",
    "b_matrix = np.full([m+1,n+1, len(states)], -np.inf)\n",
    "\n",
    "f_matrix[0,0,1] = np.log(0.5)\n",
    "f_matrix[0,0,2] = np.log(0.5)\n",
    "\n",
    "for i in range(0,m+1):\n",
    "    for j in range(0,n+1):\n",
    "        if i==0 and j ==0: continue\n",
    "        f_matrix[i,j,0] = forward_M_compute_l(i,j)\n",
    "        f_matrix[i,j,1] = forward_X_compute_l(i,j)\n",
    "        f_matrix[i,j,2] = forward_Y_compute_l(i,j)"
   ]
  },
  {
   "cell_type": "code",
   "execution_count": null,
   "metadata": {},
   "outputs": [],
   "source": [
    "f_total = logsum(f_matrix[m,n,1:] + l_para['lgtau'])"
   ]
  },
  {
   "cell_type": "code",
   "execution_count": null,
   "metadata": {},
   "outputs": [],
   "source": [
    "f_total"
   ]
  },
  {
   "cell_type": "code",
   "execution_count": null,
   "metadata": {},
   "outputs": [],
   "source": []
  },
  {
   "cell_type": "code",
   "execution_count": null,
   "metadata": {},
   "outputs": [],
   "source": [
    "b_matrix[m,n,1] = l_para['lgtau']\n",
    "b_matrix[m,n,2] = l_para['lgtau']\n",
    "for i in range(m,-1,-1):\n",
    "    for j in range(n,-1,-1):\n",
    "        if i ==m and j == n: continue\n",
    "        b_matrix[i,j,0] = backward_M_compute_l(i,j)\n",
    "        b_matrix[i,j,1] = backward_X_compute_l(i,j)\n",
    "        b_matrix[i,j,2] = backward_Y_compute_l(i,j)\n",
    "            "
   ]
  },
  {
   "cell_type": "code",
   "execution_count": null,
   "metadata": {},
   "outputs": [],
   "source": [
    "b_total = logsum(b_matrix[0,0,1:] + np.log(0.5))"
   ]
  },
  {
   "cell_type": "code",
   "execution_count": null,
   "metadata": {},
   "outputs": [],
   "source": [
    "b_total"
   ]
  },
  {
   "cell_type": "code",
   "execution_count": null,
   "metadata": {},
   "outputs": [],
   "source": [
    "gamma_matrix=f_matrix+b_matrix"
   ]
  },
  {
   "cell_type": "code",
   "execution_count": null,
   "metadata": {},
   "outputs": [],
   "source": [
    "trans_mat_new = np.zeros(l_para['trans_mat'].shape)\n",
    "# trans_mat_new[1,2] = trans_mat_new[2,1] = -np.inf "
   ]
  },
  {
   "cell_type": "code",
   "execution_count": null,
   "metadata": {},
   "outputs": [],
   "source": [
    "for s1 in range(trans_mat_new.shape[0]):\n",
    "    for s2 in range(trans_mat_new.shape[1]):\n",
    "        if (s1 == 1 and s2 ==2) or (s1 ==2 and s2 ==1):\n",
    "            trans_mat_new[s1,s2] = -np.inf\n",
    "            continue\n",
    "        mat = np.zeros([m,n])\n",
    "        for i in range(m):\n",
    "            for j in range(n):\n",
    "                mat[i,j] = f_matrix[i,j,s1]+b_matrix[index_determ(i,j,s2)] + l_para['trans_mat'][s1,s2] + \\\n",
    "                            l_para['emit_mat'][aa2index[seq1[i]],aa2index[seq2[j]]][s2]\n",
    "        trans_mat_new[s1,s2] = logsum(mat) - logsum(gamma_matrix[:,:,s1])"
   ]
  },
  {
   "cell_type": "code",
   "execution_count": null,
   "metadata": {},
   "outputs": [],
   "source": [
    "l_para['lgtau'] = np.log(3-np.exp(trans_mat_new).sum())"
   ]
  },
  {
   "cell_type": "code",
   "execution_count": null,
   "metadata": {},
   "outputs": [],
   "source": []
  },
  {
   "cell_type": "code",
   "execution_count": null,
   "metadata": {},
   "outputs": [],
   "source": [
    "emit_mat_new = np.zeros(l_para['emit_mat'].shape)\n",
    "\n",
    "for aa1 in aa2index:\n",
    "    for aa2 in aa2index:\n",
    "        aa1_index = [index for index,value in enumerate(seq1) if value == aa1]\n",
    "        aa2_index = [index for index,value in enumerate(seq2) if value == aa2]\n",
    "        \n",
    "        value_list = []\n",
    "        for aa1_i in aa1_index:\n",
    "            for aa2_i in aa2_index:\n",
    "                value_list.append(gamma_matrix[aa1_i,aa2_i])\n",
    "        \n",
    "        if len(value_list) == 0:\n",
    "            for k in range(gamma_matrix.shape[2]):\n",
    "                emit_mat_new[aa2index[aa1],aa2index[aa2],k] = -np.inf\n",
    "            continue\n",
    "        \n",
    "        value_np = np.array(value_list)  \n",
    "        \n",
    "        for k in range(value_np.shape[1]):\n",
    "            emit_mat_new[aa2index[aa1],aa2index[aa2],k] = logsum(value_np[:,k])\n",
    "            \n",
    "for it in range(emit_mat_new.shape[2]):\n",
    "    emit_mat_new[:,:,it] -= logsum(gamma_matrix[:,:,it])\n",
    "\n",
    "for it in range(20):\n",
    "    emit_mat_new[it,0,1] = logsum(emit_mat_new[it,:,1])\n",
    "    emit_mat_new[0,it,2] = logsum(emit_mat_new[:,it,2])\n",
    "    \n",
    "emit_mat_new[:,:,1] = np.tile(emit_mat_new[:,0,1].reshape(-1,1),[1,20])\n",
    "emit_mat_new[:,:,2] = np.tile(emit_mat_new[0,:,2].reshape(1,-1),[20,1])\n",
    "    \n",
    "emit_mat_new = np.clip(emit_mat_new,-10,-1e-5)\n"
   ]
  },
  {
   "cell_type": "code",
   "execution_count": null,
   "metadata": {},
   "outputs": [],
   "source": []
  },
  {
   "cell_type": "code",
   "execution_count": null,
   "metadata": {},
   "outputs": [],
   "source": [
    "\n"
   ]
  },
  {
   "cell_type": "code",
   "execution_count": null,
   "metadata": {},
   "outputs": [],
   "source": []
  },
  {
   "cell_type": "code",
   "execution_count": null,
   "metadata": {},
   "outputs": [],
   "source": [
    "np.exp(test_mat_new[:,:,1]).sum()"
   ]
  },
  {
   "cell_type": "code",
   "execution_count": null,
   "metadata": {},
   "outputs": [],
   "source": [
    "np.exp(emit_mat_new[:,0,1]).sum()"
   ]
  },
  {
   "cell_type": "code",
   "execution_count": null,
   "metadata": {},
   "outputs": [],
   "source": [
    "np.exp(emit_mat_new).sum()"
   ]
  },
  {
   "cell_type": "code",
   "execution_count": null,
   "metadata": {},
   "outputs": [],
   "source": []
  },
  {
   "cell_type": "code",
   "execution_count": null,
   "metadata": {},
   "outputs": [],
   "source": [
    "aa1 = 'C'\n",
    "aa1_index = [index for index,value in enumerate(seq1) if value == aa1]"
   ]
  },
  {
   "cell_type": "code",
   "execution_count": null,
   "metadata": {},
   "outputs": [],
   "source": [
    "aa1_index"
   ]
  },
  {
   "cell_type": "code",
   "execution_count": null,
   "metadata": {},
   "outputs": [],
   "source": []
  },
  {
   "cell_type": "code",
   "execution_count": null,
   "metadata": {},
   "outputs": [],
   "source": [
    "logsum(test_list[2])"
   ]
  },
  {
   "cell_type": "code",
   "execution_count": null,
   "metadata": {},
   "outputs": [],
   "source": [
    "for i in range(400):\n",
    "    logsum(test_list[i])"
   ]
  },
  {
   "cell_type": "code",
   "execution_count": null,
   "metadata": {},
   "outputs": [],
   "source": [
    "emit_mat_new[aa2index[aa1],aa2index[aa2]] = logsum(value_list)"
   ]
  },
  {
   "cell_type": "code",
   "execution_count": null,
   "metadata": {},
   "outputs": [],
   "source": [
    "logsum(test_list)"
   ]
  },
  {
   "cell_type": "code",
   "execution_count": null,
   "metadata": {},
   "outputs": [],
   "source": [
    "num_list"
   ]
  },
  {
   "cell_type": "code",
   "execution_count": null,
   "metadata": {},
   "outputs": [],
   "source": [
    "if type(num_list) == list:\n",
    "    num_list = np.array(num_list)\n",
    "else:\n",
    "    num_list = num_list.reshape(-1)"
   ]
  },
  {
   "cell_type": "code",
   "execution_count": null,
   "metadata": {},
   "outputs": [],
   "source": [
    "type(num_list)"
   ]
  },
  {
   "cell_type": "code",
   "execution_count": null,
   "metadata": {},
   "outputs": [],
   "source": [
    "for i in range(num_list.shape[0]):\n",
    "    if (not np.isinf(num_list[i])) and (not np.isnan(num_list[i])):\n",
    "        anker = num_list[i]\n",
    "        second_half = np.delete(num_list,i)\n",
    "        break"
   ]
  },
  {
   "cell_type": "code",
   "execution_count": null,
   "metadata": {},
   "outputs": [],
   "source": [
    "second_half.shape"
   ]
  },
  {
   "cell_type": "code",
   "execution_count": null,
   "metadata": {},
   "outputs": [],
   "source": [
    "second_half -= anker\n"
   ]
  },
  {
   "cell_type": "code",
   "execution_count": null,
   "metadata": {},
   "outputs": [],
   "source": [
    "anker+np.log(np.exp(second_half).sum()+1)"
   ]
  },
  {
   "cell_type": "code",
   "execution_count": null,
   "metadata": {},
   "outputs": [],
   "source": [
    "\n",
    "    \n",
    "\n",
    "        else:\n",
    "            return -np.inf\n",
    "    second_half -= anker\n",
    "    return anker+np.log(np.exp(second_half).sum()+1)"
   ]
  },
  {
   "cell_type": "code",
   "execution_count": null,
   "metadata": {},
   "outputs": [],
   "source": [
    "test_list"
   ]
  },
  {
   "cell_type": "code",
   "execution_count": null,
   "metadata": {},
   "outputs": [],
   "source": [
    "value_list"
   ]
  },
  {
   "cell_type": "code",
   "execution_count": null,
   "metadata": {},
   "outputs": [],
   "source": [
    "for aa1 in aa2index:\n",
    "    print(aa1)"
   ]
  },
  {
   "cell_type": "code",
   "execution_count": null,
   "metadata": {},
   "outputs": [],
   "source": [
    "np.array(value_list).shape"
   ]
  },
  {
   "cell_type": "code",
   "execution_count": null,
   "metadata": {},
   "outputs": [],
   "source": [
    "seq1_np = np.array(seq1)"
   ]
  },
  {
   "cell_type": "code",
   "execution_count": null,
   "metadata": {},
   "outputs": [],
   "source": []
  },
  {
   "cell_type": "code",
   "execution_count": null,
   "metadata": {},
   "outputs": [],
   "source": [
    "\n",
    "xi_mm = np.zeros([m,n])\n",
    "for i in range(m):\n",
    "    for j in range(n):\n",
    "        xi_mm[i,j] = f_matrix[i,j,0] + b_matrix[i+1,j+1,0] + l_para['trans_mat'][0,0]+ \\\n",
    "                                    l_para['emit_M'][aa2index[seq1[i]],aa2index[seq2[j]]]\n",
    "                    \n",
    "\n",
    "trans_mat_new[0,0] = logsum(xi_mm) - logsum(gamma_matrix[:,:,0])\n",
    "                \n"
   ]
  },
  {
   "cell_type": "code",
   "execution_count": null,
   "metadata": {},
   "outputs": [],
   "source": [
    "xi_mx = np.zeros([m,n+1])\n",
    "for i in range(m):\n",
    "    for j in range(n+1):\n",
    "        xi_mx[i,j] = f_matrix[i,j,0] + b_matrix[i+1,j,1] + l_para['trans_mat'][0,1]+ l_para['emit_X'][aa2index[seq1[i]]]\n",
    "                    \n",
    "\n",
    "trans_mat_new[0,1] = logsum(xi_mx) - logsum(gamma_matrix[:,:,0])"
   ]
  },
  {
   "cell_type": "code",
   "execution_count": null,
   "metadata": {},
   "outputs": [],
   "source": [
    "xi_my = np.zeros([m+1,n])\n",
    "for i in range(m+1):\n",
    "    for j in range(n):\n",
    "        xi_my[i,j] = f_matrix[i,j,0] + b_matrix[i,j+1,2] + l_para['trans_mat'][0,2]+ l_para['emit_Y'][aa2index[seq2[j]]]\n",
    "                    \n",
    "\n",
    "trans_mat_new[0,2] = logsum(xi_my) - logsum(gamma_matrix[:,:,0])"
   ]
  },
  {
   "cell_type": "code",
   "execution_count": null,
   "metadata": {},
   "outputs": [],
   "source": [
    "xi_xm = np.zeros([m,n])\n",
    "for i in range(m):\n",
    "    for j in range(n):\n",
    "        xi_xm[i,j] = f_matrix[i,j,1] + b_matrix[i+1,j+1,0] + l_para['trans_mat'][1,0]+ \\\n",
    "                                    l_para['emit_M'][aa2index[seq1[i]],aa2index[seq2[j]]]\n",
    "                    \n",
    "\n",
    "trans_mat_new[1,0] = logsum(xi_xm) - logsum(gamma_matrix[:,:,1])"
   ]
  },
  {
   "cell_type": "code",
   "execution_count": null,
   "metadata": {},
   "outputs": [],
   "source": [
    "xi_xx = np.zeros([m,n])\n",
    "for i in range(m):\n",
    "    for j in range(n):\n",
    "        xi_xx[i,j] = f_matrix[i,j,1] + b_matrix[i+1,j,1] + l_para['trans_mat'][1,1]+ l_para['emit_X'][aa2index[seq1[i]]]\n",
    "                    \n",
    "\n",
    "trans_mat_new[1,1] = logsum(xi_xx) - logsum(gamma_matrix[:,:,1])"
   ]
  },
  {
   "cell_type": "code",
   "execution_count": null,
   "metadata": {},
   "outputs": [],
   "source": [
    "xi_ym = np.zeros([m,n])\n",
    "for i in range(m):\n",
    "    for j in range(n):\n",
    "        xi_ym[i,j] = f_matrix[i,j,2] + b_matrix[i+1,j+1,0] + l_para['trans_mat'][2,0]+ \\\n",
    "                                    l_para['emit_M'][aa2index[seq1[i]],aa2index[seq2[j]]]\n",
    "                    \n",
    "\n",
    "trans_mat_new[2,0] = logsum(xi_ym) - logsum(gamma_matrix[:,:,2])"
   ]
  },
  {
   "cell_type": "code",
   "execution_count": null,
   "metadata": {},
   "outputs": [],
   "source": [
    "xi_yy = np.zeros([m,n])\n",
    "for i in range(m):\n",
    "    for j in range(n):\n",
    "        xi_yy[i,j] = f_matrix[i,j,2] + b_matrix[i,j+1,2] + l_para['trans_mat'][2,2]+ l_para['emit_Y'][aa2index[seq2[j]]]\n",
    "                    \n",
    "\n",
    "trans_mat_new[2,2] = logsum(xi_yy) - logsum(gamma_matrix[:,:,2])"
   ]
  },
  {
   "cell_type": "code",
   "execution_count": null,
   "metadata": {},
   "outputs": [],
   "source": [
    "np.exp(trans_mat_new).sum(axis=1)"
   ]
  },
  {
   "cell_type": "code",
   "execution_count": null,
   "metadata": {},
   "outputs": [],
   "source": [
    "np.exp(logsum(xi_mm) - logsum(gamma_matrix[:-1,:-1,0]))"
   ]
  },
  {
   "cell_type": "code",
   "execution_count": null,
   "metadata": {},
   "outputs": [],
   "source": [
    "#local\n",
    "m = len(super_seq_pure_list[0][0])\n",
    "n = len(super_seq_pure_list[0][1])\n",
    "seq1 = super_seq_pure_list[0][0]\n",
    "seq2 = super_seq_pure_list[0][1]\n",
    "#order match:0,x:1,y:2\n",
    "f_matrix = np.full([m+1,n+1, len(states)], -np.inf)\n",
    "b_matrix = np.full([m+1,n+1, len(states)], -np.inf)\n",
    "\n",
    "f_matrix[0,0,1] = np.log(0.5)\n",
    "f_matrix[0,0,2] = np.log(0.5)\n",
    "\n",
    "for i in range(2,m+1):\n",
    "    f_matrix[i,0,1] = f_matrix[i-1,0,1] * np.logl_para['trans_mat'][1,1] * l_para['emit_X'][aa2index[seq1[i-1]]]\n",
    "for j in range(2,n+1):\n",
    "    f_matrix[0,j,2] = f_matrix[0,j-1,2]*l_para['trans_mat'][2,2]*l_para['emit_Y'][aa2index[seq2[j-1]]]\n",
    "\n",
    "        "
   ]
  },
  {
   "cell_type": "code",
   "execution_count": null,
   "metadata": {},
   "outputs": [],
   "source": [
    "for i in range(1,m+1):\n",
    "    for j in range(1,n+1):\n",
    "        f_matrix[i,j,0] = forward_m_compute(i,j)\n",
    "        f_matrix[i,j,1] = l_para['emit_X'][aa2index[seq1[i-1]]]*(l_para['trans_mat'][0,1]*f_matrix[i-1,j,0] + \\\n",
    "                                                                l_para['trans_mat'][1,1]*f_matrix[i-1,j,1])\n",
    "\n",
    "        f_matrix[i,j,2] = l_para['emit_Y'][aa2index[seq2[j-1]]]*(l_para['trans_mat'][0,2]*f_matrix[i,j-1,0] + \\\n",
    "                                                                l_para['trans_mat'][2,2]*f_matrix[i,j-1,2])"
   ]
  },
  {
   "cell_type": "code",
   "execution_count": null,
   "metadata": {},
   "outputs": [],
   "source": [
    "f_matrix[:,:,0]"
   ]
  },
  {
   "cell_type": "code",
   "execution_count": null,
   "metadata": {},
   "outputs": [],
   "source": [
    "f_matrix[0,3,1]"
   ]
  },
  {
   "cell_type": "markdown",
   "metadata": {
    "scrolled": false
   },
   "source": [
    "freq_matrix_sup= np.zeros([len(one2all.keys()),len(one2all.keys())])\n",
    "for root, dirs, files in os.walk(super_directory):\n",
    "    for file in files:\n",
    "        if file.endswith(\".fasta\") and file.startswith('d'):\n",
    "            seq = func_file2seq(os.path.join(root,file))\n",
    "            super_matrix_update(seq)"
   ]
  },
  {
   "cell_type": "markdown",
   "metadata": {},
   "source": [
    "freq_matrix_twil= np.zeros([len(one2all.keys()),len(one2all.keys())])\n",
    "for root, dirs, files in os.walk(twil_directory):\n",
    "    for file in files:\n",
    "        if file.endswith(\".fasta\") and file.startswith('d'):\n",
    "            seq = func_file2seq(os.path.join(root,file))\n",
    "            twil_matrix_update(seq)"
   ]
  },
  {
   "cell_type": "code",
   "execution_count": null,
   "metadata": {},
   "outputs": [],
   "source": [
    "freq_matrix_all = freq_matrix_sup + freq_matrix_twil"
   ]
  },
  {
   "cell_type": "code",
   "execution_count": null,
   "metadata": {},
   "outputs": [],
   "source": [
    "freq_matrix_list =[freq_matrix_sup,freq_matrix_twil,freq_matrix_all]"
   ]
  },
  {
   "cell_type": "code",
   "execution_count": null,
   "metadata": {},
   "outputs": [],
   "source": [
    "score_matrix_list = []"
   ]
  },
  {
   "cell_type": "code",
   "execution_count": null,
   "metadata": {},
   "outputs": [],
   "source": [
    "for matrix in freq_matrix_list:\n",
    "    matrix = matrix[:20,:20]\n",
    "    prob = matrix/np.sum(matrix)\n",
    "    mar_p = np.sum(matrix,axis=1,keepdims=True)/np.sum(matrix)\n",
    "    mar_p_pro = mar_p.dot(mar_p.T)+ 1e-9\n",
    "    score_matrix = prob/mar_p_pro\n",
    "    score_matrix = 2 * np.log2(score_matrix)\n",
    "    score_matrix_list.append(score_matrix)"
   ]
  },
  {
   "cell_type": "code",
   "execution_count": null,
   "metadata": {},
   "outputs": [],
   "source": [
    "name_list = [\"Super\",\"Twilight\",\"Combined\"]"
   ]
  },
  {
   "cell_type": "code",
   "execution_count": null,
   "metadata": {
    "scrolled": false
   },
   "outputs": [],
   "source": [
    "import matplotlib.pyplot as plt\n",
    "for i in range(1,3):\n",
    "    matrix= score_matrix_list[i]-score_matrix_list[0]\n",
    "    plt.imshow(matrix)\n",
    "    plt.colorbar()\n",
    "    plt.title(f'difference between {name_list[i]} and Super')\n",
    "    plt.show()"
   ]
  },
  {
   "cell_type": "code",
   "execution_count": null,
   "metadata": {},
   "outputs": [],
   "source": [
    "print(f\"The difference between Twilight and Super family: {np.abs(score_matrix_list[1]-score_matrix_list[0]).sum()}\")\n",
    "print(f\"The difference between Combined and Super family: {np.abs(score_matrix_list[2]-score_matrix_list[0]).sum()}\")"
   ]
  },
  {
   "cell_type": "markdown",
   "metadata": {},
   "source": [
    "From the plot above, it is clearly the combined scoring matrix is in the middle between Superfamily scoring matrix and Twilight scoring matrix.(the colorbar scale is different) On the sum of substraction between two matrix, the sum between Twilight and Superfamily is higher, suggesting the difference between twilight and superfamily is higher. The twilight scoring matrix has lower values on the diagonal while have higher values for non-diagonal values. It makes sense as twilight dataset's sequences are less similar thus the probaility distribution is more diverged, therefore generate higher scores for non-match amino acids and lower scores for match amino acids. "
   ]
  },
  {
   "cell_type": "code",
   "execution_count": null,
   "metadata": {},
   "outputs": [],
   "source": [
    "def blosum2mat(blosum_filepath):\n",
    "    seq_list = []\n",
    "    with open(blosum_filepath,'r') as f1:\n",
    "        for line in f1:\n",
    "            if line[0] == '#' or line[3] =='A':\n",
    "                continue\n",
    "            else:\n",
    "                seq = list(map(float,line[1:].strip().replace('\\n','').split()))\n",
    "                seq_list.append(seq)\n",
    "    return np.array(seq_list)[:20,:20]"
   ]
  },
  {
   "cell_type": "code",
   "execution_count": null,
   "metadata": {},
   "outputs": [],
   "source": [
    "blosum_name_list=[]\n",
    "blosum_mat_list=[]\n",
    "blosum_filepath = \"/home/chingyuenliu/TTIC31160_bioinfo/hw2/\"\n",
    "directory = os.fsencode(blosum_filepath)\n",
    "\n",
    "for file in os.listdir(directory):\n",
    "    filename = os.fsdecode(file)\n",
    "    if filename.startswith(\"BLOSUM\"):\n",
    "        blosum_name_list.append(filename)\n",
    "        blosum_mat_list.append(blosum2mat(os.path.join(blosum_filepath,filename)))"
   ]
  },
  {
   "cell_type": "code",
   "execution_count": null,
   "metadata": {},
   "outputs": [],
   "source": [
    "# blosum_name_list=[]\n",
    "# blosum_mat_list=[]\n",
    "# blosum_filepath = \"/home/chingyuenliu/TTIC31160_bioinfo/hw2/\"\n",
    "\n",
    "# with os.scandir(blosum_filepath) as it:\n",
    "#     for entry in it:\n",
    "#         if entry.name.startswith('BLOSUM') and entry.is_file():\n",
    "#             blosum_name_list.append(entry.name)\n",
    "#             blosum_mat_list.append(blosum2mat(entry.path))"
   ]
  },
  {
   "cell_type": "code",
   "execution_count": null,
   "metadata": {},
   "outputs": [],
   "source": [
    "blosum_name_list"
   ]
  },
  {
   "cell_type": "code",
   "execution_count": null,
   "metadata": {
    "scrolled": false
   },
   "outputs": [],
   "source": [
    "for m in range(len(score_matrix_list)):\n",
    "    for b in range(len(blosum_mat_list)):\n",
    "        matrix= score_matrix_list[m]-blosum_mat_list[b]\n",
    "        plt.imshow(matrix)\n",
    "        plt.colorbar()\n",
    "        plt.title(f'difference between {name_list[m]} and {blosum_name_list[b]}')\n",
    "        plt.show()\n",
    "        print(f\"The difference between {name_list[m]} and {blosum_name_list[b]}: {(np.abs(matrix)).sum()}\")"
   ]
  },
  {
   "cell_type": "code",
   "execution_count": null,
   "metadata": {},
   "outputs": [],
   "source": [
    "difference_mat=np.zeros([3,5])\n",
    "for m in range(len(score_matrix_list)):\n",
    "    for b in range(len(blosum_mat_list)):\n",
    "        matrix= score_matrix_list[m]-blosum_mat_list[b]\n",
    "        difference_mat[m,b] =(np.abs(matrix)).sum()"
   ]
  },
  {
   "cell_type": "code",
   "execution_count": null,
   "metadata": {},
   "outputs": [],
   "source": [
    "scaled_difference_mat=difference_mat-np.min(difference_mat,axis=1,keepdims=True)\n",
    "scaled_difference_mat"
   ]
  },
  {
   "cell_type": "code",
   "execution_count": null,
   "metadata": {},
   "outputs": [],
   "source": [
    "np.sum(freq_matrix_sup)"
   ]
  },
  {
   "cell_type": "code",
   "execution_count": null,
   "metadata": {},
   "outputs": [],
   "source": [
    "np.sum(freq_matrix_twil)"
   ]
  },
  {
   "cell_type": "markdown",
   "metadata": {},
   "source": [
    "For Superfamily scoring matrix, the closest BLOSUM matrix is BLOSUM62 with total difference of 355.4;\n",
    "For Twilight scoring matrix, the closest BLOSUM matrix is BLOSUM62 with total difference of 564.5;\n",
    "For combined scoring matrix, the closest BLOSUM matrix is BLOSUM62 with total difference of 414.7;\n",
    "\n",
    "Given that all three scoring matrix's closest BLOSUM matrix is BLOSUM62, suggesting the three scoring matrix is not that different after all. It was expected once the difference is normalized by its minimum value(see matrix scaled_difference_mat), the Superfamily scoring matrix would have a lower difference on BLOSUM80 and BLOSUM90 than the Twilight scoring matrix have. However, it was the opposite from the data. Given that the difference is less than 3, suggesting there is not much difference between Superfamily scoring matrix and Twilight scoring matrix.\n",
    "\n",
    "A very interesting trend is that the difference increased from BLOSUM45 to BLOSUM50 but decreased at BLOSUM62 suggesting the scoring matrix is heavily influenced by the alignment file the scoring matrix generated from.\n",
    "\n",
    "Additionally, as there are more entries in Superfamily(42620) than Twilight(17509), the combined scoring matrix is more similar towards Superfamily scoring matrix than Twilight scoring matrix."
   ]
  },
  {
   "cell_type": "code",
   "execution_count": null,
   "metadata": {},
   "outputs": [],
   "source": [
    "file_path=\"/home/chingyuenliu/TTIC31160_bioinfo/hw2/Super_test/group1/d3sdha_.ent-d1la6a_.ent.fasta\"\n",
    "seq = func_file2seq(file_path)"
   ]
  },
  {
   "cell_type": "code",
   "execution_count": null,
   "metadata": {},
   "outputs": [],
   "source": [
    "# def score_calculate(seq,matrix_list):\n",
    "\n",
    "#     score = np.zeros([len(matrix_list)])\n",
    "#     for le in range(seq.shape[1]):\n",
    "#         if not seq[0,le] in aa2index or not seq[1,le] in aa2index:\n",
    "#             continue\n",
    "#         elif aa2index[seq[0,le]] >19 or aa2index[seq[1,le]] >19:\n",
    "#             continue\n",
    "#         else:\n",
    "#             for i in range(len(matrix_list)):\n",
    "#                 score[i] += matrix_list[i][aa2index[seq[0,le]],aa2index[seq[1,le]]]\n",
    "#     return score"
   ]
  },
  {
   "cell_type": "code",
   "execution_count": null,
   "metadata": {},
   "outputs": [],
   "source": [
    "def score_calculate_2(seq):\n",
    "\n",
    "    score = np.zeros([len(score_matrix_list)])\n",
    "    for le in range(seq.shape[1]):\n",
    "        if not seq[0,le] in aa2index or not seq[1,le] in aa2index:\n",
    "            continue\n",
    "        elif aa2index[seq[0,le]] >19 or aa2index[seq[1,le]] >19:\n",
    "            continue\n",
    "        else:\n",
    "            for i in range(len(score_matrix_list)):\n",
    "                score[i] += score_matrix_list[i][aa2index[seq[0,le]],aa2index[seq[1,le]]]\n",
    "    return score"
   ]
  },
  {
   "cell_type": "code",
   "execution_count": null,
   "metadata": {},
   "outputs": [],
   "source": [
    "super_score=[]\n",
    "for root, dirs, files in os.walk(super_directory):\n",
    "    for file in files:\n",
    "        if file.endswith(\".fasta\") and file.startswith('d'):\n",
    "            seq = func_file2seq(os.path.join(root,file))\n",
    "            super_score.append(score_calculate_2(seq))\n"
   ]
  },
  {
   "cell_type": "code",
   "execution_count": null,
   "metadata": {},
   "outputs": [],
   "source": [
    "twil_score=[]\n",
    "for root, dirs, files in os.walk(twil_directory):\n",
    "    for file in files:\n",
    "        if file.endswith(\".fasta\") and file.startswith('d'):\n",
    "            seq = func_file2seq(os.path.join(root,file))\n",
    "            twil_score.append(score_calculate_2(seq))\n"
   ]
  },
  {
   "cell_type": "code",
   "execution_count": null,
   "metadata": {},
   "outputs": [],
   "source": [
    "twil_score[0]"
   ]
  },
  {
   "cell_type": "code",
   "execution_count": null,
   "metadata": {},
   "outputs": [],
   "source": [
    "super_f_score = np.array(super_score)\n",
    "twil_f_score = np.array(twil_score)"
   ]
  },
  {
   "cell_type": "code",
   "execution_count": null,
   "metadata": {},
   "outputs": [],
   "source": [
    "n_bins = 50\n",
    "fig, axs = plt.subplots(1, 3, figsize=(10,10),sharey=True)\n",
    "fig.suptitle('Distribution of Score of Superfamily dataset')\n",
    "# We can set the number of bins with the `bins` kwarg\n",
    "axs[0].hist(super_f_score[:,0], bins=n_bins)\n",
    "axs[0].set_title(\"Super\")\n",
    "axs[1].hist(super_f_score[:,1], bins=n_bins)\n",
    "axs[1].set_title(\"Twilight\")\n",
    "axs[2].hist(super_f_score[:,2], bins=n_bins)\n",
    "axs[2].set_title(\"Combined\")\n",
    "plt.show()"
   ]
  },
  {
   "cell_type": "code",
   "execution_count": null,
   "metadata": {},
   "outputs": [],
   "source": [
    "n_bins = 50\n",
    "fig, axs = plt.subplots(1, 3, sharey=True)\n",
    "fig.suptitle('Distribution of Score of Twilight dataset')\n",
    "# We can set the number of bins with the `bins` kwarg\n",
    "axs[0].hist(twil_f_score[:,0], bins=n_bins)\n",
    "axs[0].set_title(\"Super\")\n",
    "axs[1].hist(twil_f_score[:,1], bins=n_bins)\n",
    "axs[1].set_title(\"Twilight\")\n",
    "axs[2].hist(twil_f_score[:,2], bins=n_bins)\n",
    "axs[2].set_title(\"Combined\")\n",
    "plt.show()"
   ]
  },
  {
   "cell_type": "markdown",
   "metadata": {},
   "source": [
    "For both datasets, the score is higher with the scoring matrix generated from the same datasets. Superfamily dataset have higher score with the scoring matrix generated from Superfamily dataset and Twillight dataset have higher score with the scoring matrix generated from Twilight dataset. From the histograms ploted for superfamily dataset, most scores are positive, but still, the scores from twilight scoring matrix have more negative scores. The distributio for Twilight dataset is very obvious, the distribution for superfamily scoring matrix and Combined scoring matrix is more shifted towards the negative entry. \n",
    "\n",
    "One difference is that for Superfamily dataset, the span of the score is more different between Superfamily scoring matrix and Twilight scoring matrix. For superfamily scoring matrix, there are numerous scores over 600 but there are no scores over 60 from twilight scoring matrix. Essentially, the superfamily scoring matrix on Superfamily dataset produced more extreme high score and increased score variance. Comparing to the scores Twilight dataset produced from Superfamily scoring matrix and twilight scoring matrix, the span difference is not that different. And twilight scoring matrix have been consistently produce scores with lower variance. "
   ]
  }
 ],
 "metadata": {
  "kernelspec": {
   "display_name": "Python 3",
   "language": "python",
   "name": "python3"
  },
  "language_info": {
   "codemirror_mode": {
    "name": "ipython",
    "version": 3
   },
   "file_extension": ".py",
   "mimetype": "text/x-python",
   "name": "python",
   "nbconvert_exporter": "python",
   "pygments_lexer": "ipython3",
   "version": "3.7.6"
  }
 },
 "nbformat": 4,
 "nbformat_minor": 4
}
