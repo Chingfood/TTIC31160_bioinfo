{
 "cells": [
  {
   "cell_type": "markdown",
   "metadata": {},
   "source": [
    "Written report see end of the file"
   ]
  },
  {
   "cell_type": "code",
   "execution_count": 223,
   "metadata": {},
   "outputs": [],
   "source": [
    "import numpy as np\n",
    "import os\n",
    "import collections\n",
    "import copy\n",
    "import pickle\n",
    "import random\n",
    "import time\n",
    "import matplotlib.pyplot as plt"
   ]
  },
  {
   "cell_type": "code",
   "execution_count": 2,
   "metadata": {},
   "outputs": [],
   "source": [
    "\"\"\"\n",
    "Read alignment file into numpy array\n",
    "\"\"\"\n",
    "def func_file2seq(filepath):\n",
    "    seq_list = []\n",
    "    with open(filepath,'r') as f1:\n",
    "        for line in f1:\n",
    "            if line[0] == '>':\n",
    "                continue\n",
    "            else:\n",
    "                seq = list(line.strip().replace('\\n','').upper())\n",
    "                seq_list.append(seq)\n",
    "    return np.array(seq_list)"
   ]
  },
  {
   "cell_type": "code",
   "execution_count": null,
   "metadata": {},
   "outputs": [],
   "source": [
    "'''\n",
    "Due to limited computational power and lack of optimization, this code takes forever to compute.\n",
    "Therefore, randomly sampled 100 sequence from each class and saved. save memory as well.\n",
    "\n",
    "'''\n",
    "\n",
    "super_directory =\"/home/chingyuenliu/TTIC31160_bioinfo/hw2/Super\"\n",
    "twil_directory =\"/home/chingyuenliu/TTIC31160_bioinfo/hw2/Twil\"\n",
    "\n",
    "super_seq_list = []\n",
    "for root, dirs, files in os.walk(super_directory):\n",
    "    for file in files:\n",
    "        if file.endswith(\".fasta\") and file.startswith('d'):\n",
    "            super_seq_list.append(func_file2seq(os.path.join(root,file)))\n",
    "            \n",
    "twil_seq_list = []\n",
    "for root, dirs, files in os.walk(twil_directory):\n",
    "    for file in files:\n",
    "        if file.endswith(\".fasta\") and file.startswith('d'):\n",
    "            twil_seq_list.append(func_file2seq(os.path.join(root,file)))\n",
    "\n",
    "random.shuffle(super_seq_list)\n",
    "random.shuffle(twil_seq_list)\n",
    "\n",
    "with open(\"super_dataset_sampled100.txt\", \"wb\") as fp:   #Pickling\n",
    "    pickle.dump(super_seq_list[:100], fp)\n",
    "\n",
    "with open(\"twil_dataset_sampled100.txt\",\"wb\") as fp:\n",
    "    pickle.dump(twil_seq_list[:100], fp)\n"
   ]
  },
  {
   "cell_type": "code",
   "execution_count": 3,
   "metadata": {},
   "outputs": [],
   "source": [
    "\"\"\"\n",
    "function to convert aligned sequence to pure sequence without '-' mark \n",
    "\"\"\"\n",
    "\n",
    "def pure_seq(seq_list):\n",
    "    pure_list=[]\n",
    "    for i in seq_list:\n",
    "        seq_pair = []\n",
    "        for j in i:\n",
    "            seq_pair.append([aa for aa in j if aa != '-' ])\n",
    "        pure_list.append(seq_pair)\n",
    "    return pure_list"
   ]
  },
  {
   "cell_type": "code",
   "execution_count": 4,
   "metadata": {},
   "outputs": [],
   "source": [
    "\"\"\"\n",
    "load blosum file as a mtrix\n",
    "\"\"\"\n",
    "\n",
    "def blosum2mat(blosum_filepath):\n",
    "    seq_list = []\n",
    "    with open(blosum_filepath,'r') as f1:\n",
    "        for line in f1:\n",
    "            if line[0] == '#' or line[3] =='A':\n",
    "                continue\n",
    "            else:\n",
    "                seq = list(map(float,line[1:].strip().replace('\\n','').split()))\n",
    "                seq_list.append(seq)\n",
    "    return np.array(seq_list)[:20,:20]"
   ]
  },
  {
   "cell_type": "code",
   "execution_count": 47,
   "metadata": {},
   "outputs": [],
   "source": [
    "\"\"\"\n",
    "The code to calculate the log(x+y+z) known log(x), log(y) and log(z)\n",
    "\"\"\"\n",
    "def logsum(num_list):\n",
    "    #already logrithmic entry\n",
    "    if len(num_list) == 0: return -np.inf\n",
    "    anker = np.inf\n",
    "    second_half = np.inf\n",
    "    if type(num_list) == list:\n",
    "        num_list = np.array(num_list).reshape(-1)\n",
    "\n",
    "    else:\n",
    "        num_list = num_list.reshape(-1)\n",
    "\n",
    "        \n",
    "    for i in range(num_list.shape[0]):\n",
    "        if (not np.isinf(num_list[i])) and (not np.isnan(num_list[i])):\n",
    "            anker = num_list[i]\n",
    "            second_half = np.delete(num_list,i)\n",
    "            break\n",
    "    \n",
    "    if anker == np.inf:\n",
    "        return -np.inf\n",
    "    second_half = np.clip(second_half - anker, -np.inf,1233.9)\n",
    "    return anker+np.log(np.exp(second_half).sum()+1)\n",
    "    "
   ]
  },
  {
   "cell_type": "code",
   "execution_count": 6,
   "metadata": {},
   "outputs": [],
   "source": [
    "\"\"\"\n",
    "Helper function when calculate backward matrix to determine index\n",
    "\"\"\"\n",
    "\n",
    "def index_determ(i,j,s2):\n",
    "    if s2 == 0:\n",
    "        return i+1, j+1, s2\n",
    "    elif s2 == 1:\n",
    "        return i+1, j, s2\n",
    "    elif s2 == 2:\n",
    "        return i, j+1, s2"
   ]
  },
  {
   "cell_type": "code",
   "execution_count": 7,
   "metadata": {},
   "outputs": [],
   "source": [
    "one2all ={'A': ('A', 'ALA', 'alanine'),\n",
    "              'R': ('R', 'ARG', 'arginine'),\n",
    "              'N': ('N', 'ASN', 'asparagine'),\n",
    "              'D': ('D', 'ASP', 'aspartic acid'),\n",
    "              'C': ('C', 'CYS', 'cysteine'),\n",
    "              'Q': ('Q', 'GLN', 'glutamine'),\n",
    "              'E': ('E', 'GLU', 'glutamic acid'),\n",
    "              'G': ('G', 'GLY', 'glycine'),\n",
    "              'H': ('H', 'HIS', 'histidine'),\n",
    "              'I': ('I', 'ILE', 'isoleucine'),\n",
    "              'L': ('L', 'LEU', 'leucine'),\n",
    "              'K': ('K', 'LYS', 'lysine'),\n",
    "              'M': ('M', 'MET', 'methionine'),\n",
    "              'F': ('F', 'PHE', 'phenylalanine'),\n",
    "              'P': ('P', 'PRO', 'proline'),\n",
    "              'S': ('S', 'SER', 'serine'),\n",
    "              'T': ('T', 'THR', 'threonine'),\n",
    "              'W': ('W', 'TRP', 'tryptophan'),\n",
    "              'Y': ('Y', 'TYR', 'tyrosine'),\n",
    "              'V': ('V', 'VAL', 'valine'),\n",
    "              'X': ('X', 'GLX', 'glutaminx'),\n",
    "              'Z': ('Z', 'GLI', 'glycine'),\n",
    "              'J': ('J', 'NLE', 'norleucine'),\n",
    "                'U': ('U', 'CYC', 'cysteinc')}"
   ]
  },
  {
   "cell_type": "code",
   "execution_count": 8,
   "metadata": {},
   "outputs": [],
   "source": [
    "\"\"\"\n",
    "dictionary to convert aa to num\n",
    "\"\"\"\n",
    "\n",
    "aa2index={}\n",
    "for i, aa in enumerate(list(one2all.keys())):\n",
    "    if i == 20: break\n",
    "    aa2index[aa] = i"
   ]
  },
  {
   "cell_type": "code",
   "execution_count": 36,
   "metadata": {},
   "outputs": [],
   "source": [
    "\"\"\"\n",
    "load training data\n",
    "\"\"\"\n",
    "#load training data\n",
    "\n",
    "with open(\"super_dataset_sampled100.txt\", \"rb\") as fp:   # Unpickling\n",
    "    super_list_sampled = pickle.load(fp)\n",
    "    \n",
    "with open(\"twil_dataset_sampled100.txt\", \"rb\") as fp:   # Unpickling\n",
    "    twil_list_sampled = pickle.load(fp)\n",
    "\n",
    "super_list_train=super_list_sampled[:90]\n",
    "super_list_val = super_list_sampled[90:]\n",
    "\n",
    "twil_list_train = twil_list_sampled[:90]\n",
    "twil_list_val = twil_list_sampled[90:]"
   ]
  },
  {
   "cell_type": "code",
   "execution_count": 38,
   "metadata": {},
   "outputs": [],
   "source": [
    "\"\"\"\n",
    "calcualte blosum frequence as match state emit probability and \n",
    "amino acid background frequency as insertion state emit frequency\n",
    "\"\"\"\n",
    "\n",
    "\n",
    "blosum_filepath = \"/home/chingyuenliu/TTIC31160_bioinfo/hw2/BLOSUM62\"\n",
    "\n",
    "blosum = blosum2mat(blosum_filepath)\n",
    "\n",
    "blosum_f = np.exp(blosum)\n",
    "\n",
    "aa_background_f = np.zeros(20)\n",
    "for i in super_list_train:\n",
    "    values,counts = np.unique(i,return_counts=True)\n",
    "    for v in range(values.shape[0]):\n",
    "        if values[v] in aa2index:\n",
    "            aa_background_f[aa2index[values[v]]] += counts[v]\n",
    "aa_background_f=aa_background_f/aa_background_f.sum()  \n",
    "\n",
    "for i in range(blosum_f.shape[0]):\n",
    "    for j in range(blosum_f.shape[1]):\n",
    "        blosum_f[i,j] = blosum_f[i,j] * aa_background_f[i] * aa_background_f[j]\n",
    "blosum_f = blosum_f/blosum_f.sum()"
   ]
  },
  {
   "cell_type": "code",
   "execution_count": 252,
   "metadata": {},
   "outputs": [],
   "source": [
    "\"\"\"initiate the parameters of a local alignment HMM model\"\"\"\n",
    "def l_para_init():\n",
    "    states = [\"Match\", \"Insert_X\", \"Insert_Y\"]\n",
    "\n",
    "    l_para = {}\n",
    "\n",
    "\n",
    "    emit_M = np.log(blosum_f)\n",
    "    emit_X = np.tile(np.log(aa_background_f).reshape(-1,1),[1,20])\n",
    "    emit_Y = np.tile(np.log(aa_background_f), [20,1])\n",
    "\n",
    "    l_para['lgtau'] = np.log(0.1)\n",
    "    tau = 0.1\n",
    "    de = 0.3\n",
    "    eta = 0.6\n",
    "\n",
    "    l_para['trans_mat'] = np.array([1-2*de,de,de,1-eta-tau,eta,0,1-eta-tau,0,eta]).reshape([3,3])\n",
    "\n",
    "    l_para['trans_mat'] = np.log(l_para['trans_mat'])\n",
    "    #MM,MX,MY,XM,XX,XY,YM,YX,YY\n",
    "    #there is no transition probability from match state to end state\n",
    "    \n",
    "    emit_mat = np.zeros([20,20,3])\n",
    "    emit_mat[:,:,0] = emit_M\n",
    "    emit_mat[:,:,1] = emit_X\n",
    "    emit_mat[:,:,2] = emit_Y\n",
    "\n",
    "    l_para['emit_mat'] = emit_mat\n",
    "    \n",
    "    return l_para"
   ]
  },
  {
   "cell_type": "code",
   "execution_count": 253,
   "metadata": {},
   "outputs": [],
   "source": [
    "\"\"\"initiate the parameters of a global alignment HMM model\"\"\"\n",
    "\n",
    "def g_para_init():\n",
    "    states = [\"Match\", \"Insert_X\", \"Insert_Y\"]\n",
    "    g_para = {}\n",
    "\n",
    "\n",
    "    emit_M = np.log(blosum_f)\n",
    "    emit_X = np.tile(np.log(aa_background_f).reshape(-1,1),[1,20])\n",
    "    emit_Y = np.tile(np.log(aa_background_f), [20,1])\n",
    "\n",
    "    g_para['lgtau'] = np.log(0.1)\n",
    "\n",
    "    tau = 0.1\n",
    "    de = 0.3\n",
    "    eta = 0.6\n",
    "\n",
    "\n",
    "    \n",
    "    g_para['trans_mat'] = np.array([1-2*de-tau,de,de,1-eta-tau,eta,0,1-eta-tau,0,eta]).reshape([3,3])\n",
    "    g_para['trans_mat'] = np.log(g_para['trans_mat'])\n",
    "    #MM,MX,MY,XM,XX,XY,YM,YX,YY\n",
    "    #here the match state has transition probability to ending state\n",
    "    \n",
    "    emit_mat = np.zeros([20,20,3])\n",
    "    emit_mat[:,:,0] = emit_M\n",
    "    emit_mat[:,:,1] = emit_X\n",
    "    emit_mat[:,:,2] = emit_Y\n",
    "\n",
    "    g_para['emit_mat'] = emit_mat\n",
    "    \n",
    "    return g_para"
   ]
  },
  {
   "cell_type": "code",
   "execution_count": 41,
   "metadata": {},
   "outputs": [
    {
     "name": "stderr",
     "output_type": "stream",
     "text": [
      "/home/chingyuenliu/miniconda3/lib/python3.7/site-packages/ipykernel_launcher.py:17: RuntimeWarning: divide by zero encountered in log\n"
     ]
    }
   ],
   "source": [
    "l_para = l_para_init()"
   ]
  },
  {
   "cell_type": "code",
   "execution_count": 18,
   "metadata": {},
   "outputs": [],
   "source": [
    "\"\"\"\n",
    "function to update match states of a local alignment model when do forward algorithm\n",
    "\"\"\"\n",
    "def forward_M_compute_l(i,j):\n",
    "    if i == 0 or j == 0:\n",
    "        return -np.inf\n",
    "        \n",
    "    fm = f_matrix[i-1,j-1,0]\n",
    "    fx = f_matrix[i-1,j-1,1]\n",
    "    fy = f_matrix[i-1,j-1,2]\n",
    "    \n",
    "    inf_index = [index for index, value in enumerate([fm,fx,fy]) if value != -np.inf]\n",
    "    if len(inf_index) == 0:\n",
    "        return -np.inf\n",
    "    else:\n",
    "        log_list = []\n",
    "        for index in inf_index:\n",
    "            log_list.append(l_para['emit_mat'][aa2index[seq1[i-1]],aa2index[seq2[j-1]]][0] + \\\n",
    "                           l_para['trans_mat'][index,0] + f_matrix[i-1,j-1,index]\n",
    "                           )\n",
    "        if len(log_list) == 1:\n",
    "            return log_list[0]\n",
    "        else:\n",
    "            return logsum(log_list)\n"
   ]
  },
  {
   "cell_type": "code",
   "execution_count": 19,
   "metadata": {},
   "outputs": [],
   "source": [
    "\"\"\"\n",
    "function to update match states of a local alignment model when do backward algorithm\n",
    "\"\"\"\n",
    "def backward_M_compute_l(i,j):\n",
    "\n",
    "    if i >= m and j >= n: return -np.inf\n",
    "        \n",
    "    if i == m and j < n:\n",
    "        bm = -np.inf\n",
    "        bx = -np.inf    \n",
    "        by = b_matrix[i,j+1,2]\n",
    "    elif i < m and j == n:\n",
    "        bm = -np.inf\n",
    "        by = -np.inf\n",
    "        bx = b_matrix[i+1,j,1]\n",
    "    else:\n",
    "        bm = b_matrix[i+1,j+1,0]\n",
    "        bx = b_matrix[i+1,j,1]\n",
    "        by = b_matrix[i,j+1,2]\n",
    "    \n",
    "    inf_index = [index for index, value in enumerate([bm,bx,by]) if value != -np.inf]\n",
    "    if len(inf_index) == 0:\n",
    "        return -np.inf\n",
    "    else:\n",
    "        log_list = []\n",
    "        for index in inf_index:\n",
    "            if index == 0:\n",
    "                log_list.append(l_para['emit_mat'][aa2index[seq1[i]],aa2index[seq2[j]]][0] + \\\n",
    "                           l_para['trans_mat'][0,index] + b_matrix[i+1,j+1,index]\n",
    "                           )\n",
    "            if index == 1:\n",
    "                log_list.append(l_para['emit_mat'][aa2index[seq1[i]],0][1] + \\\n",
    "                           l_para['trans_mat'][0,index] + b_matrix[i+1,j,index] )\n",
    "            if index == 2:\n",
    "                log_list.append(l_para['emit_mat'][0,aa2index[seq2[j]]][2] + \\\n",
    "                           l_para['trans_mat'][0,index] + b_matrix[i,j+1,index] )                           \n",
    "            \n",
    "        if len(log_list) == 1:\n",
    "            return log_list[0]\n",
    "        else:\n",
    "            return logsum(log_list)\n"
   ]
  },
  {
   "cell_type": "code",
   "execution_count": 20,
   "metadata": {},
   "outputs": [],
   "source": [
    "\"\"\"\n",
    "function to update insertion states in sequence1 of a local alignment model when do forward algorithm\n",
    "\"\"\"\n",
    "def forward_X_compute_l(i,j):\n",
    "    if i == 0:\n",
    "        return -np.inf\n",
    "        \n",
    "    fm = f_matrix[i-1,j,0]\n",
    "    fx = f_matrix[i-1,j,1]\n",
    "    \n",
    "    inf_index = [index for index, value in enumerate([fm,fx,-np.inf]) if value != -np.inf]\n",
    "    if len(inf_index) == 0:\n",
    "        return -np.inf\n",
    "    else:\n",
    "        log_list = []\n",
    "        for index in inf_index:\n",
    "            log_list.append(l_para['emit_mat'][aa2index[seq1[i-1]],0][1] + \\\n",
    "                           l_para['trans_mat'][index,1] + f_matrix[i-1,j,index]\n",
    "                           )\n",
    "        if len(log_list) == 1:\n",
    "            return log_list[0]\n",
    "        else:\n",
    "            return logsum(log_list)"
   ]
  },
  {
   "cell_type": "code",
   "execution_count": 21,
   "metadata": {},
   "outputs": [],
   "source": [
    "\"\"\"\n",
    "function to update insertion states in sequence1 of a local alignment model when do backward algorithm\n",
    "\"\"\"\n",
    "def backward_X_compute_l(i,j):\n",
    "\n",
    "    if i >= m : return -np.inf\n",
    "    if j > n: return -np.inf\n",
    "    \n",
    "    by = -np.inf\n",
    "\n",
    "    if i < m and j == n:\n",
    "        bm = -np.inf\n",
    "        by = -np.inf        \n",
    "        bx = b_matrix[i+1,j,1]\n",
    "    else:\n",
    "        bm = b_matrix[i+1,j+1,0]\n",
    "        bx = b_matrix[i+1,j,1]\n",
    "\n",
    "    \n",
    "    inf_index = [index for index, value in enumerate([bm,bx,-np.inf]) if value != -np.inf]\n",
    "    if len(inf_index) == 0:\n",
    "        return -np.inf\n",
    "    else:\n",
    "        log_list = []\n",
    "        for index in inf_index:\n",
    "            if index == 0:\n",
    "                log_list.append(l_para['emit_mat'][aa2index[seq1[i]],aa2index[seq2[j]]][0] + \\\n",
    "                           l_para['trans_mat'][1,index] + b_matrix[i+1,j+1,index]\n",
    "                           )\n",
    "            if index == 1:\n",
    "                log_list.append(l_para['emit_mat'][aa2index[seq1[i]],0][1] + \\\n",
    "                           l_para['trans_mat'][1,index] + b_matrix[i+1,j,index] )                    \n",
    "            \n",
    "        if len(log_list) == 1:\n",
    "            return log_list[0]\n",
    "        else:\n",
    "            return logsum(log_list)\n"
   ]
  },
  {
   "cell_type": "code",
   "execution_count": 22,
   "metadata": {},
   "outputs": [],
   "source": [
    "\"\"\"\n",
    "function to update insertion states in sequence2 of a local alignment model when do forward algorithm\n",
    "\"\"\"\n",
    "def forward_Y_compute_l(i,j):\n",
    "    if j == 0:\n",
    "        return -np.inf\n",
    "        \n",
    "    fm = f_matrix[i,j-1,0]\n",
    "    fy = f_matrix[i,j-1,2]\n",
    "    \n",
    "    inf_index = [index for index, value in enumerate([fm, -np.inf, fy]) if value != -np.inf]\n",
    "    if len(inf_index) == 0:\n",
    "        return -np.inf\n",
    "    else:\n",
    "        log_list = []\n",
    "        for index in inf_index:\n",
    "            log_list.append(l_para['emit_mat'][0,aa2index[seq2[j-1]]][2] + \\\n",
    "                           l_para['trans_mat'][index,2] + f_matrix[i,j-1,index]\n",
    "                           )\n",
    "        if len(log_list) == 1:\n",
    "            return log_list[0]\n",
    "        else:\n",
    "            return logsum(log_list)"
   ]
  },
  {
   "cell_type": "code",
   "execution_count": 23,
   "metadata": {},
   "outputs": [],
   "source": [
    "\"\"\"\n",
    "function to update insertion states in sequence2 of a local alignment model when do backward algorithm\n",
    "\"\"\"\n",
    "def backward_Y_compute_l(i,j):\n",
    "\n",
    "    \n",
    "    if j >= n: return -np.inf\n",
    "    if i > m : return -np.inf\n",
    "    \n",
    "    bx = -np.inf\n",
    "\n",
    "    if i == m and j < n:\n",
    "        bm = -np.inf      \n",
    "        by = b_matrix[i,j+1,2]\n",
    "    else:\n",
    "        bm = b_matrix[i+1,j+1,0]\n",
    "        by = b_matrix[i,j+1,2]\n",
    "\n",
    "    \n",
    "    inf_index = [index for index, value in enumerate([bm,-np.inf,by]) if value != -np.inf]\n",
    "    if len(inf_index) == 0:\n",
    "        return -np.inf\n",
    "    else:\n",
    "        log_list = []\n",
    "        for index in inf_index:\n",
    "            if index == 0:\n",
    "                log_list.append(l_para['emit_mat'][aa2index[seq1[i]],aa2index[seq2[j]]][0] + \\\n",
    "                           l_para['trans_mat'][2,index] + b_matrix[i+1,j+1,index]\n",
    "                           )\n",
    "            if index == 2:\n",
    "                log_list.append(l_para['emit_mat'][0,aa2index[seq2[j]]][2] + \\\n",
    "                           l_para['trans_mat'][2,index] + b_matrix[i,j+1,index] )                    \n",
    "            \n",
    "        if len(log_list) == 1:\n",
    "            return log_list[0]\n",
    "        else:\n",
    "            return logsum(log_list)"
   ]
  },
  {
   "cell_type": "code",
   "execution_count": null,
   "metadata": {},
   "outputs": [],
   "source": []
  },
  {
   "cell_type": "code",
   "execution_count": null,
   "metadata": {},
   "outputs": [],
   "source": []
  },
  {
   "cell_type": "code",
   "execution_count": null,
   "metadata": {},
   "outputs": [],
   "source": [
    "\"\"\"HMM model parameter training started\"\"\""
   ]
  },
  {
   "cell_type": "code",
   "execution_count": 257,
   "metadata": {},
   "outputs": [
    {
     "name": "stderr",
     "output_type": "stream",
     "text": [
      "/home/chingyuenliu/miniconda3/lib/python3.7/site-packages/ipykernel_launcher.py:18: RuntimeWarning: divide by zero encountered in log\n"
     ]
    }
   ],
   "source": [
    "\"\"\"initialize the model parameter\"\"\"\n",
    "l_para = l_para_init()"
   ]
  },
  {
   "cell_type": "code",
   "execution_count": 258,
   "metadata": {},
   "outputs": [],
   "source": [
    "\"\"\"\n",
    "computation of updating the model parameter\n",
    "\n",
    "due to limit of computational power and lack of optimization, each sample is only do EM once.\n",
    "\n",
    "Here is to training the local alignment model on superfamily dataset\n",
    "\n",
    "\"\"\"\n",
    "for seq_pair in super_list_train:\n",
    "\n",
    "    seq1,seq2 = pure_seq([seq_pair])[0]\n",
    "    #local\n",
    "    m = len(seq1)\n",
    "    n = len(seq2)\n",
    "\n",
    "    for loop in range(1):\n",
    "        #order match:0,x:1,y:2\n",
    "        f_matrix = np.full([m+1,n+1, len(states)], -np.inf)\n",
    "        b_matrix = np.full([m+1,n+1, len(states)], -np.inf)\n",
    "\n",
    "        #the forward matrix is initiate with only insertion states has transition probabilit from begin state\n",
    "        #match state does not have transition probability\n",
    "        \n",
    "        f_matrix[0,0,1] = np.log(0.5)\n",
    "        f_matrix[0,0,2] = np.log(0.5)\n",
    "        for i in range(0,m+1):\n",
    "            for j in range(0,n+1):\n",
    "                if i==0 and j ==0: continue\n",
    "                f_matrix[i,j,0] = forward_M_compute_l(i,j)\n",
    "                f_matrix[i,j,1] = forward_X_compute_l(i,j)\n",
    "                f_matrix[i,j,2] = forward_Y_compute_l(i,j)            \n",
    "\n",
    "        #the backward matrix is initiated with only tau value on two insertion states\n",
    "        b_matrix[m,n,1] = l_para['lgtau']\n",
    "        b_matrix[m,n,2] = l_para['lgtau']\n",
    "        for i in range(m,-1,-1):\n",
    "            for j in range(n,-1,-1):\n",
    "                if i ==m and j == n: continue\n",
    "                b_matrix[i,j,0] = backward_M_compute_l(i,j)\n",
    "                b_matrix[i,j,1] = backward_X_compute_l(i,j)\n",
    "                b_matrix[i,j,2] = backward_Y_compute_l(i,j)\n",
    "\n",
    "\n",
    "\n",
    "        gamma_matrix=f_matrix+b_matrix\n",
    "\n",
    "\n",
    "        #Update parameter value\n",
    "        \n",
    "        trans_mat_new = np.zeros(l_para['trans_mat'].shape)\n",
    "        for s1 in range(trans_mat_new.shape[0]):\n",
    "            for s2 in range(trans_mat_new.shape[1]):\n",
    "                if (s1 == 1 and s2 ==2) or (s1 ==2 and s2 ==1):\n",
    "                    trans_mat_new[s1,s2] = -np.inf\n",
    "                    continue\n",
    "                mat = np.zeros([m,n])\n",
    "                for i in range(m):\n",
    "                    for j in range(n):\n",
    "                        mat[i,j] = f_matrix[i,j,s1]+b_matrix[index_determ(i,j,s2)] + l_para['trans_mat'][s1,s2] + \\\n",
    "                                    l_para['emit_mat'][aa2index[seq1[i]],aa2index[seq2[j]]][s2]\n",
    "                trans_mat_new[s1,s2] = logsum(mat) - logsum(gamma_matrix[:,:,s1])\n",
    "\n",
    "\n",
    "        l_para['lgtau'] = np.clip(np.log((3-np.exp(trans_mat_new).sum())/2),-10,-1e-5)\n",
    "\n",
    "        emit_mat_new = np.zeros(l_para['emit_mat'].shape)\n",
    "\n",
    "        for aa1 in aa2index:\n",
    "            for aa2 in aa2index:\n",
    "                aa1_index = [index for index,value in enumerate(seq1) if value == aa1]\n",
    "                aa2_index = [index for index,value in enumerate(seq2) if value == aa2]\n",
    "\n",
    "                value_list = []\n",
    "                for aa1_i in aa1_index:\n",
    "                    for aa2_i in aa2_index:\n",
    "                        value_list.append(gamma_matrix[aa1_i,aa2_i])\n",
    "\n",
    "                if len(value_list) == 0:\n",
    "                    for k in range(gamma_matrix.shape[2]):\n",
    "                        emit_mat_new[aa2index[aa1],aa2index[aa2],k] = -np.inf\n",
    "                    continue\n",
    "\n",
    "                value_np = np.array(value_list)  \n",
    "\n",
    "                for k in range(value_np.shape[1]):\n",
    "                    emit_mat_new[aa2index[aa1],aa2index[aa2],k] = logsum(value_np[:,k])\n",
    "\n",
    "        for it in range(emit_mat_new.shape[2]):\n",
    "            emit_mat_new[:,:,it] -= logsum(gamma_matrix[:,:,it])\n",
    "\n",
    "        for it in range(20):\n",
    "            emit_mat_new[it,0,1] = logsum(emit_mat_new[it,:,1])\n",
    "            emit_mat_new[0,it,2] = logsum(emit_mat_new[:,it,2])\n",
    "\n",
    "        emit_mat_new[:,:,1] = np.tile(emit_mat_new[:,0,1].reshape(-1,1),[1,20])\n",
    "        emit_mat_new[:,:,2] = np.tile(emit_mat_new[0,:,2].reshape(1,-1),[20,1])\n",
    "\n",
    "        emit_mat_new = np.clip(emit_mat_new,-10,-1e-5)\n",
    "\n",
    "        l_para['emit_mat'] = emit_mat_new\n",
    "        l_para['trans_mat'] = trans_mat_new\n",
    "\n",
    "    \n"
   ]
  },
  {
   "cell_type": "code",
   "execution_count": 262,
   "metadata": {},
   "outputs": [],
   "source": [
    "\"\"\"save the model parameter\n",
    "\"\"\"\n",
    "l_para_super = copy.deepcopy(l_para)"
   ]
  },
  {
   "cell_type": "code",
   "execution_count": 71,
   "metadata": {},
   "outputs": [
    {
     "name": "stderr",
     "output_type": "stream",
     "text": [
      "/home/chingyuenliu/miniconda3/lib/python3.7/site-packages/ipykernel_launcher.py:17: RuntimeWarning: divide by zero encountered in log\n"
     ]
    }
   ],
   "source": [
    "\"\"\"initiate the global HMM parameter\"\"\"\n",
    "\n",
    "g_para = g_para_init()\n"
   ]
  },
  {
   "cell_type": "code",
   "execution_count": null,
   "metadata": {},
   "outputs": [],
   "source": []
  },
  {
   "cell_type": "code",
   "execution_count": 72,
   "metadata": {},
   "outputs": [],
   "source": [
    "\"\"\"\n",
    "function to update match states of a global alignment model when do forward algorithm\n",
    "\"\"\"\n",
    "def forward_M_compute_g(i,j):\n",
    "    if i == 0 or j == 0:\n",
    "        return -np.inf\n",
    "        \n",
    "    fm = f_matrix[i-1,j-1,0]\n",
    "    fx = f_matrix[i-1,j-1,1]\n",
    "    fy = f_matrix[i-1,j-1,2]\n",
    "    \n",
    "    inf_index = [index for index, value in enumerate([fm,fx,fy]) if value != -np.inf]\n",
    "    if len(inf_index) == 0:\n",
    "        return -np.inf\n",
    "    else:\n",
    "        log_list = []\n",
    "        for index in inf_index:\n",
    "            log_list.append(g_para['emit_mat'][aa2index[seq1[i-1]],aa2index[seq2[j-1]]][0] + \\\n",
    "                           g_para['trans_mat'][index,0] + f_matrix[i-1,j-1,index]\n",
    "                           )\n",
    "        if len(log_list) == 1:\n",
    "            return log_list[0]\n",
    "        else:\n",
    "            return logsum(log_list)\n"
   ]
  },
  {
   "cell_type": "code",
   "execution_count": 73,
   "metadata": {},
   "outputs": [],
   "source": [
    "\"\"\"\n",
    "function to update match states of a global alignment model when do backward algorithm\n",
    "\"\"\"\n",
    "def backward_M_compute_g(i,j):\n",
    "\n",
    "    if i >= m and j >= n: return -np.inf\n",
    "        \n",
    "    if i == m and j < n:\n",
    "        bm = -np.inf\n",
    "        bx = -np.inf    \n",
    "        by = b_matrix[i,j+1,2]\n",
    "    elif i < m and j == n:\n",
    "        bm = -np.inf\n",
    "        by = -np.inf\n",
    "        bx = b_matrix[i+1,j,1]\n",
    "    else:\n",
    "        bm = b_matrix[i+1,j+1,0]\n",
    "        bx = b_matrix[i+1,j,1]\n",
    "        by = b_matrix[i,j+1,2]\n",
    "    \n",
    "    inf_index = [index for index, value in enumerate([bm,bx,by]) if value != -np.inf]\n",
    "    if len(inf_index) == 0:\n",
    "        return -np.inf\n",
    "    else:\n",
    "        log_list = []\n",
    "        for index in inf_index:\n",
    "            if index == 0:\n",
    "                log_list.append(g_para['emit_mat'][aa2index[seq1[i]],aa2index[seq2[j]]][0] + \\\n",
    "                           g_para['trans_mat'][0,index] + b_matrix[i+1,j+1,index]\n",
    "                           )\n",
    "            if index == 1:\n",
    "                log_list.append(g_para['emit_mat'][aa2index[seq1[i]],0][1] + \\\n",
    "                           g_para['trans_mat'][0,index] + b_matrix[i+1,j,index] )\n",
    "            if index == 2:\n",
    "                log_list.append(g_para['emit_mat'][0,aa2index[seq2[j]]][2] + \\\n",
    "                           g_para['trans_mat'][0,index] + b_matrix[i,j+1,index] )                           \n",
    "            \n",
    "        if len(log_list) == 1:\n",
    "            return log_list[0]\n",
    "        else:\n",
    "            return logsum(log_list)\n"
   ]
  },
  {
   "cell_type": "code",
   "execution_count": 74,
   "metadata": {},
   "outputs": [],
   "source": [
    "\"\"\"\n",
    "function to update insert states of a global alignment model when do forward algorithm\n",
    "\"\"\"\n",
    "def forward_X_compute_g(i,j):\n",
    "    if i == 0:\n",
    "        return -np.inf\n",
    "        \n",
    "    fm = f_matrix[i-1,j,0]\n",
    "    fx = f_matrix[i-1,j,1]\n",
    "    \n",
    "    inf_index = [index for index, value in enumerate([fm,fx,-np.inf]) if value != -np.inf]\n",
    "    if len(inf_index) == 0:\n",
    "        return -np.inf\n",
    "    else:\n",
    "        log_list = []\n",
    "        for index in inf_index:\n",
    "            log_list.append(g_para['emit_mat'][aa2index[seq1[i-1]],0][1] + \\\n",
    "                           g_para['trans_mat'][index,1] + f_matrix[i-1,j,index]\n",
    "                           )\n",
    "        if len(log_list) == 1:\n",
    "            return log_list[0]\n",
    "        else:\n",
    "            return logsum(log_list)"
   ]
  },
  {
   "cell_type": "code",
   "execution_count": 75,
   "metadata": {},
   "outputs": [],
   "source": [
    "\"\"\"\n",
    "function to update insert states of a global alignment model when do backward algorithm\n",
    "\"\"\"\n",
    "def backward_X_compute_g(i,j):\n",
    "\n",
    "    if i >= m : return -np.inf\n",
    "    if j > n: return -np.inf\n",
    "    \n",
    "    by = -np.inf\n",
    "\n",
    "    if i < m and j == n:\n",
    "        bm = -np.inf\n",
    "        by = -np.inf        \n",
    "        bx = b_matrix[i+1,j,1]\n",
    "    else:\n",
    "        bm = b_matrix[i+1,j+1,0]\n",
    "        bx = b_matrix[i+1,j,1]\n",
    "\n",
    "    \n",
    "    inf_index = [index for index, value in enumerate([bm,bx,-np.inf]) if value != -np.inf]\n",
    "    if len(inf_index) == 0:\n",
    "        return -np.inf\n",
    "    else:\n",
    "        log_list = []\n",
    "        for index in inf_index:\n",
    "            if index == 0:\n",
    "                log_list.append(g_para['emit_mat'][aa2index[seq1[i]],aa2index[seq2[j]]][0] + \\\n",
    "                           g_para['trans_mat'][1,index] + b_matrix[i+1,j+1,index]\n",
    "                           )\n",
    "            if index == 1:\n",
    "                log_list.append(g_para['emit_mat'][aa2index[seq1[i]],0][1] + \\\n",
    "                           g_para['trans_mat'][1,index] + b_matrix[i+1,j,index] )                    \n",
    "            \n",
    "        if len(log_list) == 1:\n",
    "            return log_list[0]\n",
    "        else:\n",
    "            return logsum(log_list)\n"
   ]
  },
  {
   "cell_type": "code",
   "execution_count": 76,
   "metadata": {},
   "outputs": [],
   "source": [
    "\"\"\"\n",
    "function to update insert states of a global alignment model when do forward algorithm\n",
    "\"\"\"\n",
    "def forward_Y_compute_g(i,j):\n",
    "    if j == 0:\n",
    "        return -np.inf\n",
    "        \n",
    "    fm = f_matrix[i,j-1,0]\n",
    "    fy = f_matrix[i,j-1,2]\n",
    "    \n",
    "    inf_index = [index for index, value in enumerate([fm, -np.inf, fy]) if value != -np.inf]\n",
    "    if len(inf_index) == 0:\n",
    "        return -np.inf\n",
    "    else:\n",
    "        log_list = []\n",
    "        for index in inf_index:\n",
    "            log_list.append(g_para['emit_mat'][0,aa2index[seq2[j-1]]][2] + \\\n",
    "                           g_para['trans_mat'][index,2] + f_matrix[i,j-1,index]\n",
    "                           )\n",
    "        if len(log_list) == 1:\n",
    "            return log_list[0]\n",
    "        else:\n",
    "            return logsum(log_list)"
   ]
  },
  {
   "cell_type": "code",
   "execution_count": 77,
   "metadata": {},
   "outputs": [],
   "source": [
    "\"\"\"\n",
    "function to update insert states of a global alignment model when do backward algorithm\n",
    "\"\"\"\n",
    "def backward_Y_compute_g(i,j):\n",
    "\n",
    "    \n",
    "    if j >= n: return -np.inf\n",
    "    if i > m : return -np.inf\n",
    "    \n",
    "    bx = -np.inf\n",
    "\n",
    "    if i == m and j < n:\n",
    "        bm = -np.inf      \n",
    "        by = b_matrix[i,j+1,2]\n",
    "    else:\n",
    "        bm = b_matrix[i+1,j+1,0]\n",
    "        by = b_matrix[i,j+1,2]\n",
    "\n",
    "    \n",
    "    inf_index = [index for index, value in enumerate([bm,-np.inf,by]) if value != -np.inf]\n",
    "    if len(inf_index) == 0:\n",
    "        return -np.inf\n",
    "    else:\n",
    "        log_list = []\n",
    "        for index in inf_index:\n",
    "            if index == 0:\n",
    "                log_list.append(g_para['emit_mat'][aa2index[seq1[i]],aa2index[seq2[j]]][0] + \\\n",
    "                           g_para['trans_mat'][2,index] + b_matrix[i+1,j+1,index]\n",
    "                           )\n",
    "            if index == 2:\n",
    "                log_list.append(g_para['emit_mat'][0,aa2index[seq2[j]]][2] + \\\n",
    "                           g_para['trans_mat'][2,index] + b_matrix[i,j+1,index] )                    \n",
    "            \n",
    "        if len(log_list) == 1:\n",
    "            return log_list[0]\n",
    "        else:\n",
    "            return logsum(log_list)"
   ]
  },
  {
   "cell_type": "code",
   "execution_count": 24,
   "metadata": {},
   "outputs": [],
   "source": []
  },
  {
   "cell_type": "code",
   "execution_count": 78,
   "metadata": {},
   "outputs": [],
   "source": [
    "\"\"\"\n",
    "computation of updating the model parameter\n",
    "\n",
    "due to limit of computational power and lack of optimization, each sample is only do EM once.\n",
    "\n",
    "Here is to training the global alignment model on superfamily dataset\n",
    "\n",
    "\"\"\"\n",
    "#global\n",
    "for seq_pair in super_list_train:\n",
    "    seq1,seq2 = pure_seq([seq_pair])[0]\n",
    "    m = len(seq1)\n",
    "    n = len(seq2)\n",
    "    #order match:0,x:1,y:2\n",
    "    \n",
    "    for loop in range(1):\n",
    "        f_matrix = np.full([m+1,n+1, len(states)], -np.inf)\n",
    "        b_matrix = np.full([m+1,n+1, len(states)], -np.inf)\n",
    "\n",
    "        f_matrix[0,0,0] = np.log(1/3)\n",
    "        f_matrix[0,0,1] = np.log(1/3)\n",
    "        f_matrix[0,0,2] = np.log(1/3)\n",
    "\n",
    "        for i in range(0,m+1):\n",
    "            for j in range(0,n+1):\n",
    "                if i==0 and j ==0: continue\n",
    "                f_matrix[i,j,0] = forward_M_compute_g(i,j)\n",
    "                f_matrix[i,j,1] = forward_X_compute_g(i,j)\n",
    "                f_matrix[i,j,2] = forward_Y_compute_g(i,j)\n",
    "\n",
    "        b_matrix[m,n,0] = g_para['lgtau']\n",
    "        b_matrix[m,n,1] = g_para['lgtau']\n",
    "        b_matrix[m,n,2] = g_para['lgtau']\n",
    "\n",
    "        for i in range(m,-1,-1):\n",
    "            for j in range(n,-1,-1):\n",
    "                if i ==m and j == n: continue\n",
    "                b_matrix[i,j,0] = backward_M_compute_g(i,j)\n",
    "                b_matrix[i,j,1] = backward_X_compute_g(i,j)\n",
    "                b_matrix[i,j,2] = backward_Y_compute_g(i,j)\n",
    "\n",
    "\n",
    "\n",
    "        gamma_matrix=f_matrix+b_matrix\n",
    "\n",
    "\n",
    "        trans_mat_new = np.zeros(g_para['trans_mat'].shape)\n",
    "        for s1 in range(trans_mat_new.shape[0]):\n",
    "            for s2 in range(trans_mat_new.shape[1]):\n",
    "                if (s1 == 1 and s2 ==2) or (s1 ==2 and s2 ==1):\n",
    "                    trans_mat_new[s1,s2] = -np.inf\n",
    "                    continue\n",
    "                mat = np.zeros([m,n])\n",
    "                for i in range(m):\n",
    "                    for j in range(n):\n",
    "                        mat[i,j] = f_matrix[i,j,s1]+b_matrix[index_determ(i,j,s2)] + g_para['trans_mat'][s1,s2] + \\\n",
    "                                    g_para['emit_mat'][aa2index[seq1[i]],aa2index[seq2[j]]][s2]\n",
    "                trans_mat_new[s1,s2] = logsum(mat) - logsum(gamma_matrix[:,:,s1])\n",
    "\n",
    "\n",
    "        g_para['lgtau'] = np.clip(np.log((3-np.exp(trans_mat_new).sum())/3), -10,-1e-5)\n",
    "\n",
    "        emit_mat_new = np.zeros(g_para['emit_mat'].shape)\n",
    "\n",
    "        for aa1 in aa2index:\n",
    "            for aa2 in aa2index:\n",
    "                aa1_index = [index for index,value in enumerate(seq1) if value == aa1]\n",
    "                aa2_index = [index for index,value in enumerate(seq2) if value == aa2]\n",
    "\n",
    "                value_list = []\n",
    "                for aa1_i in aa1_index:\n",
    "                    for aa2_i in aa2_index:\n",
    "                        value_list.append(gamma_matrix[aa1_i,aa2_i])\n",
    "\n",
    "                if len(value_list) == 0:\n",
    "                    for k in range(gamma_matrix.shape[2]):\n",
    "                        emit_mat_new[aa2index[aa1],aa2index[aa2],k] = -np.inf\n",
    "                    continue\n",
    "\n",
    "                value_np = np.array(value_list)  \n",
    "\n",
    "                for k in range(value_np.shape[1]):\n",
    "                    emit_mat_new[aa2index[aa1],aa2index[aa2],k] = logsum(value_np[:,k])\n",
    "\n",
    "        for it in range(emit_mat_new.shape[2]):\n",
    "            emit_mat_new[:,:,it] -= logsum(gamma_matrix[:,:,it])\n",
    "\n",
    "        for it in range(20):\n",
    "            emit_mat_new[it,0,1] = logsum(emit_mat_new[it,:,1])\n",
    "            emit_mat_new[0,it,2] = logsum(emit_mat_new[:,it,2])\n",
    "\n",
    "        emit_mat_new[:,:,1] = np.tile(emit_mat_new[:,0,1].reshape(-1,1),[1,20])\n",
    "        emit_mat_new[:,:,2] = np.tile(emit_mat_new[0,:,2].reshape(1,-1),[20,1])\n",
    "\n",
    "        emit_mat_new = np.clip(emit_mat_new,-10,-1e-5)\n",
    "\n",
    "        g_para['emit_mat'] = emit_mat_new\n",
    "        g_para['trans_mat'] = trans_mat_new"
   ]
  },
  {
   "cell_type": "code",
   "execution_count": 93,
   "metadata": {},
   "outputs": [],
   "source": [
    "g_para_super = copy.deepcopy(g_para)"
   ]
  },
  {
   "cell_type": "code",
   "execution_count": 264,
   "metadata": {},
   "outputs": [
    {
     "name": "stderr",
     "output_type": "stream",
     "text": [
      "/home/chingyuenliu/miniconda3/lib/python3.7/site-packages/ipykernel_launcher.py:18: RuntimeWarning: divide by zero encountered in log\n"
     ]
    }
   ],
   "source": [
    "l_para = l_para_init()"
   ]
  },
  {
   "cell_type": "code",
   "execution_count": 106,
   "metadata": {},
   "outputs": [
    {
     "name": "stderr",
     "output_type": "stream",
     "text": [
      "/home/chingyuenliu/miniconda3/lib/python3.7/site-packages/ipykernel_launcher.py:22: RuntimeWarning: overflow encountered in exp\n"
     ]
    }
   ],
   "source": [
    "\"\"\"\n",
    "computation of updating the model parameter\n",
    "\n",
    "due to limit of computational power and lack of optimization, each sample is only do EM once.\n",
    "\n",
    "Here is to training the local alignment model on twilight dataset\n",
    "\n",
    "\"\"\"\n",
    "for seq_pair in twil_list_train:\n",
    "\n",
    "    seq1,seq2 = pure_seq([seq_pair])[0]\n",
    "    #local\n",
    "    m = len(seq1)\n",
    "    n = len(seq2)\n",
    "\n",
    "    for loop in range(1):\n",
    "        #order match:0,x:1,y:2\n",
    "        f_matrix = np.full([m+1,n+1, len(states)], -np.inf)\n",
    "        b_matrix = np.full([m+1,n+1, len(states)], -np.inf)\n",
    "\n",
    "        f_matrix[0,0,1] = np.log(0.5)\n",
    "        f_matrix[0,0,2] = np.log(0.5)\n",
    "        for i in range(0,m+1):\n",
    "            for j in range(0,n+1):\n",
    "                if i==0 and j ==0: continue\n",
    "                f_matrix[i,j,0] = forward_M_compute_l(i,j)\n",
    "                f_matrix[i,j,1] = forward_X_compute_l(i,j)\n",
    "                f_matrix[i,j,2] = forward_Y_compute_l(i,j)            \n",
    "\n",
    "        b_matrix[m,n,1] = l_para['lgtau']\n",
    "        b_matrix[m,n,2] = l_para['lgtau']\n",
    "        for i in range(m,-1,-1):\n",
    "            for j in range(n,-1,-1):\n",
    "                if i ==m and j == n: continue\n",
    "                b_matrix[i,j,0] = backward_M_compute_l(i,j)\n",
    "                b_matrix[i,j,1] = backward_X_compute_l(i,j)\n",
    "                b_matrix[i,j,2] = backward_Y_compute_l(i,j)\n",
    "\n",
    "\n",
    "\n",
    "        gamma_matrix=f_matrix+b_matrix\n",
    "\n",
    "\n",
    "        trans_mat_new = np.zeros(l_para['trans_mat'].shape)\n",
    "        for s1 in range(trans_mat_new.shape[0]):\n",
    "            for s2 in range(trans_mat_new.shape[1]):\n",
    "                if (s1 == 1 and s2 ==2) or (s1 ==2 and s2 ==1):\n",
    "                    trans_mat_new[s1,s2] = -np.inf\n",
    "                    continue\n",
    "                mat = np.zeros([m,n])\n",
    "                for i in range(m):\n",
    "                    for j in range(n):\n",
    "                        mat[i,j] = f_matrix[i,j,s1]+b_matrix[index_determ(i,j,s2)] + l_para['trans_mat'][s1,s2] + \\\n",
    "                                    l_para['emit_mat'][aa2index[seq1[i]],aa2index[seq2[j]]][s2]\n",
    "                trans_mat_new[s1,s2] = logsum(mat) - logsum(gamma_matrix[:,:,s1])\n",
    "\n",
    "\n",
    "        l_para['lgtau'] = np.clip(np.log((3-np.exp(trans_mat_new).sum())/2), -10,-1e-5)\n",
    "\n",
    "        emit_mat_new = np.zeros(l_para['emit_mat'].shape)\n",
    "\n",
    "        for aa1 in aa2index:\n",
    "            for aa2 in aa2index:\n",
    "                aa1_index = [index for index,value in enumerate(seq1) if value == aa1]\n",
    "                aa2_index = [index for index,value in enumerate(seq2) if value == aa2]\n",
    "\n",
    "                value_list = []\n",
    "                for aa1_i in aa1_index:\n",
    "                    for aa2_i in aa2_index:\n",
    "                        value_list.append(gamma_matrix[aa1_i,aa2_i])\n",
    "\n",
    "                if len(value_list) == 0:\n",
    "                    for k in range(gamma_matrix.shape[2]):\n",
    "                        emit_mat_new[aa2index[aa1],aa2index[aa2],k] = -np.inf\n",
    "                    continue\n",
    "\n",
    "                value_np = np.array(value_list)  \n",
    "\n",
    "                for k in range(value_np.shape[1]):\n",
    "                    emit_mat_new[aa2index[aa1],aa2index[aa2],k] = logsum(value_np[:,k])\n",
    "\n",
    "        for it in range(emit_mat_new.shape[2]):\n",
    "            emit_mat_new[:,:,it] -= logsum(gamma_matrix[:,:,it])\n",
    "\n",
    "        for it in range(20):\n",
    "            emit_mat_new[it,0,1] = logsum(emit_mat_new[it,:,1])\n",
    "            emit_mat_new[0,it,2] = logsum(emit_mat_new[:,it,2])\n",
    "\n",
    "        emit_mat_new[:,:,1] = np.tile(emit_mat_new[:,0,1].reshape(-1,1),[1,20])\n",
    "        emit_mat_new[:,:,2] = np.tile(emit_mat_new[0,:,2].reshape(1,-1),[20,1])\n",
    "\n",
    "        emit_mat_new = np.clip(emit_mat_new,-10,-1e-5)\n",
    "\n",
    "        l_para['emit_mat'] = emit_mat_new\n",
    "        l_para['trans_mat'] = trans_mat_new\n",
    "\n",
    "    \n"
   ]
  },
  {
   "cell_type": "code",
   "execution_count": 108,
   "metadata": {},
   "outputs": [],
   "source": [
    "l_para_twil = copy.deepcopy(l_para)"
   ]
  },
  {
   "cell_type": "code",
   "execution_count": 194,
   "metadata": {},
   "outputs": [
    {
     "name": "stderr",
     "output_type": "stream",
     "text": [
      "/home/chingyuenliu/miniconda3/lib/python3.7/site-packages/ipykernel_launcher.py:17: RuntimeWarning: divide by zero encountered in log\n"
     ]
    }
   ],
   "source": [
    "g_para = g_para_init()\n"
   ]
  },
  {
   "cell_type": "code",
   "execution_count": 195,
   "metadata": {},
   "outputs": [],
   "source": [
    "\"\"\"\n",
    "computation of updating the model parameter\n",
    "\n",
    "due to limit of computational power and lack of optimization, each sample is only do EM once.\n",
    "\n",
    "Here is to training the global alignment model on twilight dataset\n",
    "\n",
    "\"\"\"\n",
    "#global\n",
    "for seq_pair in twil_list_train:\n",
    "    seq1,seq2 = pure_seq([seq_pair])[0]\n",
    "    m = len(seq1)\n",
    "    n = len(seq2)\n",
    "    #order match:0,x:1,y:2\n",
    "    \n",
    "    for loop in range(1):\n",
    "        f_matrix = np.full([m+1,n+1, len(states)], -np.inf)\n",
    "        b_matrix = np.full([m+1,n+1, len(states)], -np.inf)\n",
    "\n",
    "        f_matrix[0,0,0] = np.log(1/3)\n",
    "        f_matrix[0,0,1] = np.log(1/3)\n",
    "        f_matrix[0,0,2] = np.log(1/3)\n",
    "\n",
    "        for i in range(0,m+1):\n",
    "            for j in range(0,n+1):\n",
    "                if i==0 and j ==0: continue\n",
    "                f_matrix[i,j,0] = forward_M_compute_g(i,j)\n",
    "                f_matrix[i,j,1] = forward_X_compute_g(i,j)\n",
    "                f_matrix[i,j,2] = forward_Y_compute_g(i,j)\n",
    "\n",
    "        b_matrix[m,n,0] = g_para['lgtau']\n",
    "        b_matrix[m,n,1] = g_para['lgtau']\n",
    "        b_matrix[m,n,2] = g_para['lgtau']\n",
    "\n",
    "        for i in range(m,-1,-1):\n",
    "            for j in range(n,-1,-1):\n",
    "                if i ==m and j == n: continue\n",
    "                b_matrix[i,j,0] = backward_M_compute_g(i,j)\n",
    "                b_matrix[i,j,1] = backward_X_compute_g(i,j)\n",
    "                b_matrix[i,j,2] = backward_Y_compute_g(i,j)\n",
    "\n",
    "\n",
    "\n",
    "        gamma_matrix=f_matrix+b_matrix\n",
    "\n",
    "\n",
    "        trans_mat_new = np.zeros(g_para['trans_mat'].shape)\n",
    "        for s1 in range(trans_mat_new.shape[0]):\n",
    "            for s2 in range(trans_mat_new.shape[1]):\n",
    "                if (s1 == 1 and s2 ==2) or (s1 ==2 and s2 ==1):\n",
    "                    trans_mat_new[s1,s2] = -np.inf\n",
    "                    continue\n",
    "                mat = np.zeros([m,n])\n",
    "                for i in range(m):\n",
    "                    for j in range(n):\n",
    "                        mat[i,j] = f_matrix[i,j,s1]+b_matrix[index_determ(i,j,s2)] + g_para['trans_mat'][s1,s2] + \\\n",
    "                                    g_para['emit_mat'][aa2index[seq1[i]],aa2index[seq2[j]]][s2]\n",
    "                trans_mat_new[s1,s2] = logsum(mat) - logsum(gamma_matrix[:,:,s1])\n",
    "\n",
    "\n",
    "        g_para['lgtau'] = np.clip(np.log((3-np.exp(trans_mat_new).sum())/3), -10,-1e-5)\n",
    "\n",
    "        emit_mat_new = np.zeros(g_para['emit_mat'].shape)\n",
    "\n",
    "        for aa1 in aa2index:\n",
    "            for aa2 in aa2index:\n",
    "                aa1_index = [index for index,value in enumerate(seq1) if value == aa1]\n",
    "                aa2_index = [index for index,value in enumerate(seq2) if value == aa2]\n",
    "\n",
    "                value_list = []\n",
    "                for aa1_i in aa1_index:\n",
    "                    for aa2_i in aa2_index:\n",
    "                        value_list.append(gamma_matrix[aa1_i,aa2_i])\n",
    "\n",
    "                if len(value_list) == 0:\n",
    "                    for k in range(gamma_matrix.shape[2]):\n",
    "                        emit_mat_new[aa2index[aa1],aa2index[aa2],k] = -np.inf\n",
    "                    continue\n",
    "\n",
    "                value_np = np.array(value_list)  \n",
    "\n",
    "                for k in range(value_np.shape[1]):\n",
    "                    emit_mat_new[aa2index[aa1],aa2index[aa2],k] = logsum(value_np[:,k])\n",
    "\n",
    "        for it in range(emit_mat_new.shape[2]):\n",
    "            emit_mat_new[:,:,it] -= logsum(gamma_matrix[:,:,it])\n",
    "\n",
    "        for it in range(20):\n",
    "            emit_mat_new[it,0,1] = logsum(emit_mat_new[it,:,1])\n",
    "            emit_mat_new[0,it,2] = logsum(emit_mat_new[:,it,2])\n",
    "\n",
    "        emit_mat_new[:,:,1] = np.tile(emit_mat_new[:,0,1].reshape(-1,1),[1,20])\n",
    "        emit_mat_new[:,:,2] = np.tile(emit_mat_new[0,:,2].reshape(1,-1),[20,1])\n",
    "\n",
    "        emit_mat_new = np.clip(emit_mat_new,-10,-1e-5)\n",
    "\n",
    "        g_para['emit_mat'] = emit_mat_new\n",
    "        g_para['trans_mat'] = trans_mat_new"
   ]
  },
  {
   "cell_type": "code",
   "execution_count": 197,
   "metadata": {},
   "outputs": [],
   "source": [
    "g_para_twil = copy.deepcopy(g_para)"
   ]
  },
  {
   "cell_type": "code",
   "execution_count": null,
   "metadata": {},
   "outputs": [],
   "source": [
    "\"\"\"testing/accuracy\"\"\""
   ]
  },
  {
   "cell_type": "code",
   "execution_count": 198,
   "metadata": {},
   "outputs": [],
   "source": [
    "\"\"\"Loading 100 test datapoints\"\"\"\n",
    "with open(\"super_dataset_sampled1000.txt\", \"rb\") as fp:   # Unpickling\n",
    "    super_list_test = pickle.load(fp)[100:200]\n",
    "    \n",
    "with open(\"twil_dataset_sampled1000.txt\", \"rb\") as fp:   # Unpickling\n",
    "    twil_list_test = pickle.load(fp)[100:200]\n"
   ]
  },
  {
   "cell_type": "code",
   "execution_count": 150,
   "metadata": {},
   "outputs": [],
   "source": [
    "\"\"\"viterbi algorithm for match state\"\"\"\n",
    "def forward_M_compute_v(i,j):\n",
    "    if i == 0 or j == 0:\n",
    "        return -np.inf, -np.inf\n",
    "    \n",
    "    log_np = np.zeros(3)\n",
    "    for index in range(log_np.shape[0]):\n",
    "        log_np[index] = (l_para_vit['emit_mat'][aa2index[seq1[i-1]],aa2index[seq2[j-1]]][0] + \\\n",
    "                           l_para_vit['trans_mat'][index,0] + v_matrix[i-1,j-1,index,0]\n",
    "                           )\n",
    "    return log_np.max(),log_np.argmax() \n"
   ]
  },
  {
   "cell_type": "code",
   "execution_count": 128,
   "metadata": {},
   "outputs": [],
   "source": [
    "\"\"\"viterbi algorithm for seq1 insertion state\"\"\"\n",
    "def forward_X_compute_v(i,j):\n",
    "    if i == 0:\n",
    "        return -np.inf, -np.inf\n",
    "    \n",
    "    log_np = np.zeros(2)\n",
    "    for index in range(log_np.shape[0]):\n",
    "        log_np[index] = (l_para_vit['emit_mat'][aa2index[seq1[i-1]],0][1] + \\\n",
    "                           l_para_vit['trans_mat'][index,1] + v_matrix[i-1,j,index,0]\n",
    "                     )\n",
    "\n",
    "\n",
    "    return log_np.max(),log_np.argmax() \n"
   ]
  },
  {
   "cell_type": "code",
   "execution_count": 151,
   "metadata": {},
   "outputs": [],
   "source": [
    "\"\"\"viterbi algorithm for seq2 insertion state\"\"\"\n",
    "def forward_Y_compute_v(i,j):\n",
    "    if j == 0:\n",
    "        return -np.inf, -np.inf\n",
    "    \n",
    "    log_np = np.zeros(3)\n",
    "    log_np[1] = -np.inf\n",
    "    for index in [0,2]:\n",
    "        log_np[index] = (l_para_vit['emit_mat'][0,aa2index[seq2[j-1]]][2] + \\\n",
    "                           l_para_vit['trans_mat'][index,2] + v_matrix[i,j-1,index,0]\n",
    "                     )\n",
    "\n",
    "    return log_np.max(),log_np.argmax() "
   ]
  },
  {
   "cell_type": "code",
   "execution_count": 205,
   "metadata": {},
   "outputs": [],
   "source": [
    "\"\"\"index the sequence for calculating accuracy\"\"\"\n",
    "def seq_idx(seq):\n",
    "    #change the letter sequence to index sequence\n",
    "    seq_lst = []\n",
    "    counter = 0\n",
    "    for i in seq:\n",
    "        if i.isalpha():\n",
    "            seq_lst.append(counter)\n",
    "            counter +=1\n",
    "        else:\n",
    "            seq_lst.append(-1)\n",
    "    return seq_lst\n",
    "\n",
    "\"\"\"accuracy calculating\"\"\"\n",
    "def accuracy(seq0_gt,seq1_gt,seq0_al,seq1_al):\n",
    "    seq1_gt_lst = seq_idx(seq1_gt)\n",
    "    seq0_gt_lst = seq_idx(seq0_gt)\n",
    "    seq0_al_lst = seq_idx(seq0_al)\n",
    "    seq1_al_lst = seq_idx(seq1_al)\n",
    "    \n",
    "    gt_aln_idx = list(zip(seq0_gt_lst,seq1_gt_lst))\n",
    "    al_aln_idx = list(zip(seq0_al_lst,seq1_al_lst))\n",
    "    \n",
    "    \n",
    "    #count how many alignment in both cases\n",
    "    true_pos=[]\n",
    "    for i in al_aln_idx:\n",
    "        if i in gt_aln_idx:\n",
    "            true_pos.append(i)\n",
    "    precision = len(true_pos)/len(gt_aln_idx)\n",
    "    recall = len(true_pos)/len(al_aln_idx)\n",
    "    f1 = 2/(precision**-1+recall**-1)\n",
    "    return precision, recall, f1"
   ]
  },
  {
   "cell_type": "code",
   "execution_count": 202,
   "metadata": {},
   "outputs": [],
   "source": [
    "\"\"\"tracing function for local alignment\n",
    "when initate, only two insertion state are considered\n",
    "\"\"\"\n",
    "\n",
    "def local_backtracing(seq1,seq2,mtx):\n",
    "    seq1_list=[]\n",
    "    seq2_list=[]\n",
    "    m=len(seq1)\n",
    "    n=len(seq2)\n",
    "    index = int(mtx[m,n,1:,0].argmax()+1)\n",
    "\n",
    "    m1 = m\n",
    "    n1 = n\n",
    "\n",
    "    while (True):\n",
    "        new_index = mtx[m1,n1,index,1]\n",
    "        if index == 0:\n",
    "            seq1_list.append(seq1[m1-1])\n",
    "            seq2_list.append(seq2[n1-1])\n",
    "            m1 -= 1\n",
    "            n1 -= 1\n",
    "        elif index == 1:\n",
    "            seq1_list.append(seq1[m1-1])\n",
    "            seq2_list.append('-')\n",
    "            m1 -= 1\n",
    "        elif index == 2:\n",
    "            seq2_list.append(seq2[n1-1])\n",
    "            seq1_list.append('-')\n",
    "            n1 -= 1\n",
    "\n",
    "        else:\n",
    "            break\n",
    "        if new_index == -np.inf:\n",
    "            break\n",
    "        else:\n",
    "            index = int(new_index)\n",
    "            \n",
    "    return seq1_list[::-1], seq2_list[::-1]"
   ]
  },
  {
   "cell_type": "code",
   "execution_count": 203,
   "metadata": {},
   "outputs": [],
   "source": [
    "\"\"\"tracing function for global alignment\n",
    "\"\"\"\n",
    "def global_backtracing(seq1,seq2,mtx):\n",
    "    seq1_list=[]\n",
    "    seq2_list=[]\n",
    "    m=len(seq1)\n",
    "    n=len(seq2)\n",
    "    index = int(mtx[m,n,:,0].argmax())\n",
    "\n",
    "    m1 = m\n",
    "    n1 = n\n",
    "\n",
    "    while (True):\n",
    "        new_index = mtx[m1,n1,index,1]\n",
    "        if index == 0:\n",
    "            seq1_list.append(seq1[m1-1])\n",
    "            seq2_list.append(seq2[n1-1])\n",
    "            m1 -= 1\n",
    "            n1 -= 1\n",
    "        elif index == 1:\n",
    "            seq1_list.append(seq1[m1-1])\n",
    "            seq2_list.append('-')\n",
    "            m1 -= 1\n",
    "        elif index == 2:\n",
    "            seq2_list.append(seq2[n1-1])\n",
    "            seq1_list.append('-')\n",
    "            n1 -= 1\n",
    "\n",
    "        else:\n",
    "            break\n",
    "        if new_index == -np.inf:\n",
    "            break\n",
    "        else:\n",
    "            index = int(new_index)\n",
    "            \n",
    "    return seq1_list[::-1], seq2_list[::-1]"
   ]
  },
  {
   "cell_type": "code",
   "execution_count": 267,
   "metadata": {},
   "outputs": [],
   "source": [
    "\"\"\"accuracy calculating for local HMM model trained of superfamily onto superfamily dataset\"\"\"\n",
    "\n",
    "#local viterbi\n",
    "\n",
    "precision_local_ss=[]\n",
    "recall_local_ss =[]\n",
    "f1_local_ss = []\n",
    "\n",
    "l_para_vit = copy.deepcopy(l_para_super)\n",
    "\n",
    "for seq_pair in super_list_test:\n",
    "    \n",
    "    seq1,seq2 = pure_seq([seq_pair])[0]\n",
    "    m = len(seq1)\n",
    "    n = len(seq2)\n",
    "\n",
    "    #M,X,Y plus a dimension to store the index\n",
    "    v_matrix = np.full([m+1,n+1, len(states),2], -np.inf)\n",
    "\n",
    "\n",
    "    v_matrix[0,0,1,0] = np.log(0.5)\n",
    "    v_matrix[0,0,2,0] = np.log(0.5)\n",
    "    for i in range(0,m+1):\n",
    "        for j in range(0,n+1):\n",
    "            if i==0 and j ==0: continue\n",
    "            v_matrix[i,j,0,:] = forward_M_compute_v(i,j)\n",
    "            v_matrix[i,j,1,:] = forward_X_compute_v(i,j)\n",
    "            v_matrix[i,j,2,:] = forward_Y_compute_v(i,j)            \n",
    "\n",
    "\n",
    "    seq1_aln, seq2_aln = local_backtracing(seq1,seq2,v_matrix)\n",
    "    precision, recall, f1 = accuracy(seq_pair[0],seq_pair[1],seq1_aln,seq2_aln)\n",
    "    precision_local_ss.append(precision)\n",
    "    recall_local_ss.append(recall)\n",
    "    f1_local_ss.append(f1)\n",
    "    "
   ]
  },
  {
   "cell_type": "code",
   "execution_count": 268,
   "metadata": {},
   "outputs": [
    {
     "data": {
      "text/plain": [
       "<matplotlib.legend.Legend at 0x7fc16c40a790>"
      ]
     },
     "execution_count": 268,
     "metadata": {},
     "output_type": "execute_result"
    },
    {
     "data": {
      "image/png": "[encoded data removed]",
      "text/plain": [
       "<Figure size 432x288 with 1 Axes>"
      ]
     },
     "metadata": {
      "needs_background": "light"
     },
     "output_type": "display_data"
    }
   ],
   "source": [
    "\n",
    "t = np.linspace(0., 30, 100)\n",
    "\n",
    "# red dashes, blue squares and green triangles\n",
    "plt.plot(t, precision_local_ss, 'r^',label='precision')\n",
    "plt.plot(t, recall_local_ss, 'bs',label='recall')\n",
    "plt.plot(t, f1_local_ss, 'go',label='f1')\n",
    "plt.ylabel('Accuracy')\n",
    "plt.title(f'Accuracy plot of super local model')\n",
    "plt.legend()\n"
   ]
  },
  {
   "cell_type": "code",
   "execution_count": 269,
   "metadata": {},
   "outputs": [
    {
     "name": "stdout",
     "output_type": "stream",
     "text": [
      "Local HMM trained from superfamily dataset has precision: 0.13959962573732296, recall: 0.17025187203562056, f1: 0.15265297783442647 \n"
     ]
    }
   ],
   "source": [
    "print(f\"Local HMM trained from superfamily dataset has precision: {np.mean(precision_local_ss)},\\\n",
    " recall: {np.mean(recall_local_ss)}, f1: {np.mean(f1_local_ss)} \")"
   ]
  },
  {
   "cell_type": "code",
   "execution_count": 230,
   "metadata": {},
   "outputs": [],
   "source": [
    "\"\"\"accuracy calculating for global HMM model trained of superfamily onto superfamily dataset\"\"\"\n",
    "#global viterbi\n",
    "\n",
    "precision_global_ss=[]\n",
    "recall_global_ss =[]\n",
    "f1_global_ss = []\n",
    "\n",
    "l_para_vit = copy.deepcopy(g_para_super)\n",
    "\n",
    "for seq_pair in super_list_test:\n",
    "\n",
    "    seq1,seq2 = pure_seq([seq_pair])[0]\n",
    "    m = len(seq1)\n",
    "    n = len(seq2)\n",
    "\n",
    "    #M,X,Y plus a dimension to store the index\n",
    "    v_matrix = np.full([m+1,n+1, len(states),2], -np.inf)\n",
    "\n",
    "    v_matrix[0,0,0,0] = np.log(1/3)\n",
    "    v_matrix[0,0,1,0] = np.log(1/3)\n",
    "    v_matrix[0,0,2,0] = np.log(1/3)\n",
    "    for i in range(0,m+1):\n",
    "        for j in range(0,n+1):\n",
    "            if i==0 and j ==0: continue\n",
    "            v_matrix[i,j,0,:] = forward_M_compute_v(i,j)\n",
    "            v_matrix[i,j,1,:] = forward_X_compute_v(i,j)\n",
    "            v_matrix[i,j,2,:] = forward_Y_compute_v(i,j)            \n",
    "\n",
    "\n",
    "    seq1_aln, seq2_aln = global_backtracing(seq1,seq2,v_matrix)\n",
    "    precision, recall, f1 = accuracy(seq_pair[0],seq_pair[1],seq1_aln,seq2_aln)\n",
    "    precision_global_ss.append(precision)\n",
    "    recall_global_ss.append(recall)\n",
    "    f1_global_ss.append(f1)\n",
    "    "
   ]
  },
  {
   "cell_type": "code",
   "execution_count": 231,
   "metadata": {},
   "outputs": [
    {
     "data": {
      "text/plain": [
       "<matplotlib.legend.Legend at 0x7fc16ec27350>"
      ]
     },
     "execution_count": 231,
     "metadata": {},
     "output_type": "execute_result"
    },
    {
     "data": {
      "image/png": "[encoded data removed]",
      "text/plain": [
       "<Figure size 432x288 with 1 Axes>"
      ]
     },
     "metadata": {
      "needs_background": "light"
     },
     "output_type": "display_data"
    }
   ],
   "source": [
    "\n",
    "t = np.linspace(0., 30, 100)\n",
    "\n",
    "# red dashes, blue squares and green triangles\n",
    "plt.plot(t, precision_global_ss, 'r^',label='precision')\n",
    "plt.plot(t, recall_global_ss, 'bs',label='recall')\n",
    "plt.plot(t, f1_global_ss, 'go',label='f1')\n",
    "plt.ylabel('Accuracy')\n",
    "plt.title(f'Accuracy plot of super global model')\n",
    "plt.legend()"
   ]
  },
  {
   "cell_type": "code",
   "execution_count": 232,
   "metadata": {},
   "outputs": [
    {
     "name": "stdout",
     "output_type": "stream",
     "text": [
      "global HMM trained from superfamily dataset has precision: 0.16195043878690535, recall: 0.19083277704049906, f1: 0.1742728308620195 \n"
     ]
    }
   ],
   "source": [
    "print(f\"global HMM trained from superfamily dataset has precision: {np.mean(precision_global_ss)},\\\n",
    " recall: {np.mean(recall_global_ss)}, f1: {np.mean(f1_global_ss)} \")"
   ]
  },
  {
   "cell_type": "code",
   "execution_count": 233,
   "metadata": {},
   "outputs": [],
   "source": [
    "\"\"\"accuracy calculating for local HMM model trained of twilight onto twilight dataset\"\"\"\n",
    "#local viterbi\n",
    "\n",
    "precision_local_tt=[]\n",
    "recall_local_tt =[]\n",
    "f1_local_tt = []\n",
    "\n",
    "l_para_vit = copy.deepcopy(l_para_twil)\n",
    "\n",
    "for seq_pair in twil_list_test:\n",
    "    \n",
    "    seq1,seq2 = pure_seq([seq_pair])[0]\n",
    "    m = len(seq1)\n",
    "    n = len(seq2)\n",
    "\n",
    "    #M,X,Y plus a dimension to store the index\n",
    "    v_matrix = np.full([m+1,n+1, len(states),2], -np.inf)\n",
    "\n",
    "\n",
    "    v_matrix[0,0,1,0] = np.log(0.5)\n",
    "    v_matrix[0,0,2,0] = np.log(0.5)\n",
    "    for i in range(0,m+1):\n",
    "        for j in range(0,n+1):\n",
    "            if i==0 and j ==0: continue\n",
    "            v_matrix[i,j,0,:] = forward_M_compute_v(i,j)\n",
    "            v_matrix[i,j,1,:] = forward_X_compute_v(i,j)\n",
    "            v_matrix[i,j,2,:] = forward_Y_compute_v(i,j)            \n",
    "\n",
    "\n",
    "    seq1_aln, seq2_aln = local_backtracing(seq1,seq2,v_matrix)\n",
    "    precision, recall, f1 = accuracy(seq_pair[0],seq_pair[1],seq1_aln,seq2_aln)\n",
    "    precision_local_tt.append(precision)\n",
    "    recall_local_tt.append(recall)\n",
    "    f1_local_tt.append(f1)\n",
    "    "
   ]
  },
  {
   "cell_type": "code",
   "execution_count": 234,
   "metadata": {},
   "outputs": [
    {
     "data": {
      "text/plain": [
       "<matplotlib.legend.Legend at 0x7fc16c90ae50>"
      ]
     },
     "execution_count": 234,
     "metadata": {},
     "output_type": "execute_result"
    },
    {
     "data": {
      "image/png": "[encoded data removed]",
      "text/plain": [
       "<Figure size 432x288 with 1 Axes>"
      ]
     },
     "metadata": {
      "needs_background": "light"
     },
     "output_type": "display_data"
    }
   ],
   "source": [
    "\n",
    "t = np.linspace(0., 30, 100)\n",
    "\n",
    "# red dashes, blue squares and green triangles\n",
    "plt.plot(t, precision_local_tt, 'r^',label='precision')\n",
    "plt.plot(t, recall_local_tt, 'bs',label='recall')\n",
    "plt.plot(t, f1_local_tt, 'go',label='f1')\n",
    "plt.ylabel('Accuracy')\n",
    "plt.title(f'Accuracy plot of twil local model')\n",
    "plt.legend()\n"
   ]
  },
  {
   "cell_type": "code",
   "execution_count": 235,
   "metadata": {},
   "outputs": [
    {
     "name": "stdout",
     "output_type": "stream",
     "text": [
      "Local HMM trained from twilfamily dataset has precision: 0.18807076966315286, recall: 0.2369704209344629, f1: 0.2090630998850981 \n"
     ]
    }
   ],
   "source": [
    "print(f\"Local HMM trained from twilfamily dataset has precision: {np.mean(precision_local_tt)},\\\n",
    " recall: {np.mean(recall_local_tt)}, f1: {np.mean(f1_local_tt)} \")"
   ]
  },
  {
   "cell_type": "code",
   "execution_count": 237,
   "metadata": {},
   "outputs": [],
   "source": [
    "\"\"\"accuracy calculating for global HMM model trained of twilight onto twilight dataset\"\"\"\n",
    "#global viterbi\n",
    "\n",
    "precision_global_tt=[]\n",
    "recall_global_tt =[]\n",
    "f1_global_tt = []\n",
    "\n",
    "l_para_vit = copy.deepcopy(g_para_twil)\n",
    "\n",
    "for seq_pair in twil_list_test:\n",
    "\n",
    "    seq1,seq2 = pure_seq([seq_pair])[0]\n",
    "    m = len(seq1)\n",
    "    n = len(seq2)\n",
    "\n",
    "    #M,X,Y plus a dimension to store the index\n",
    "    v_matrix = np.full([m+1,n+1, len(states),2], -np.inf)\n",
    "\n",
    "    v_matrix[0,0,0,0] = np.log(1/3)\n",
    "    v_matrix[0,0,1,0] = np.log(1/3)\n",
    "    v_matrix[0,0,2,0] = np.log(1/3)\n",
    "    for i in range(0,m+1):\n",
    "        for j in range(0,n+1):\n",
    "            if i==0 and j ==0: continue\n",
    "            v_matrix[i,j,0,:] = forward_M_compute_v(i,j)\n",
    "            v_matrix[i,j,1,:] = forward_X_compute_v(i,j)\n",
    "            v_matrix[i,j,2,:] = forward_Y_compute_v(i,j)            \n",
    "\n",
    "\n",
    "    seq1_aln, seq2_aln = global_backtracing(seq1,seq2,v_matrix)\n",
    "    precision, recall, f1 = accuracy(seq_pair[0],seq_pair[1],seq1_aln,seq2_aln)\n",
    "    \n",
    "    precision_global_tt.append(precision)\n",
    "    recall_global_tt.append(recall)\n",
    "    f1_global_tt.append(f1)\n",
    "    "
   ]
  },
  {
   "cell_type": "code",
   "execution_count": 238,
   "metadata": {},
   "outputs": [
    {
     "data": {
      "text/plain": [
       "<matplotlib.legend.Legend at 0x7fc16c76bad0>"
      ]
     },
     "execution_count": 238,
     "metadata": {},
     "output_type": "execute_result"
    },
    {
     "data": {
      "image/png": "[encoded data removed]",
      "text/plain": [
       "<Figure size 432x288 with 1 Axes>"
      ]
     },
     "metadata": {
      "needs_background": "light"
     },
     "output_type": "display_data"
    }
   ],
   "source": [
    "\n",
    "t = np.linspace(0., 30, 100)\n",
    "\n",
    "# red dashes, blue squares and green triangles\n",
    "plt.plot(t, precision_global_tt, 'r^',label='precision')\n",
    "plt.plot(t, recall_global_tt, 'bs',label='recall')\n",
    "plt.plot(t, f1_global_tt, 'go',label='f1')\n",
    "plt.ylabel('Accuracy')\n",
    "plt.title(f'Accuracy plot of twil global model')\n",
    "plt.legend()"
   ]
  },
  {
   "cell_type": "code",
   "execution_count": 239,
   "metadata": {},
   "outputs": [
    {
     "name": "stdout",
     "output_type": "stream",
     "text": [
      "global HMM trained from twilfamily dataset has precision: 0.16361888785939016, recall: 0.21133571282306718, f1: 0.18390099334040383 \n"
     ]
    }
   ],
   "source": [
    "print(f\"global HMM trained from twilfamily dataset has precision: {np.mean(precision_global_tt)},\\\n",
    " recall: {np.mean(recall_global_tt)}, f1: {np.mean(f1_global_tt)} \")"
   ]
  },
  {
   "cell_type": "code",
   "execution_count": 240,
   "metadata": {},
   "outputs": [],
   "source": [
    "\"\"\"accuracy calculating for local HMM model trained of superfamily onto twilight dataset\"\"\"\n",
    "#local viterbi\n",
    "#superfamily to twilight\n",
    "\n",
    "precision_local_st=[]\n",
    "recall_local_st =[]\n",
    "f1_local_st = []\n",
    "\n",
    "l_para_vit = copy.deepcopy(l_para_super)\n",
    "\n",
    "for seq_pair in twil_list_test:\n",
    "    \n",
    "    seq1,seq2 = pure_seq([seq_pair])[0]\n",
    "    m = len(seq1)\n",
    "    n = len(seq2)\n",
    "\n",
    "    #M,X,Y plus a dimension to store the index\n",
    "    v_matrix = np.full([m+1,n+1, len(states),2], -np.inf)\n",
    "\n",
    "\n",
    "    v_matrix[0,0,1,0] = np.log(0.5)\n",
    "    v_matrix[0,0,2,0] = np.log(0.5)\n",
    "    for i in range(0,m+1):\n",
    "        for j in range(0,n+1):\n",
    "            if i==0 and j ==0: continue\n",
    "            v_matrix[i,j,0,:] = forward_M_compute_v(i,j)\n",
    "            v_matrix[i,j,1,:] = forward_X_compute_v(i,j)\n",
    "            v_matrix[i,j,2,:] = forward_Y_compute_v(i,j)            \n",
    "\n",
    "\n",
    "    seq1_aln, seq2_aln = local_backtracing(seq1,seq2,v_matrix)\n",
    "    precision, recall, f1 = accuracy(seq_pair[0],seq_pair[1],seq1_aln,seq2_aln)\n",
    "    \n",
    "    precision_local_st.append(precision)\n",
    "    recall_local_st.append(recall)\n",
    "    f1_local_st.append(f1)\n",
    "    "
   ]
  },
  {
   "cell_type": "code",
   "execution_count": 241,
   "metadata": {},
   "outputs": [
    {
     "data": {
      "text/plain": [
       "<matplotlib.legend.Legend at 0x7fc16f8dc990>"
      ]
     },
     "execution_count": 241,
     "metadata": {},
     "output_type": "execute_result"
    },
    {
     "data": {
      "image/png": "[encoded data removed]",
      "text/plain": [
       "<Figure size 432x288 with 1 Axes>"
      ]
     },
     "metadata": {
      "needs_background": "light"
     },
     "output_type": "display_data"
    }
   ],
   "source": [
    "# evenly sampled time at 200ms intervals\n",
    "t = np.linspace(0., 30, 100)\n",
    "\n",
    "# red dashes, blue squares and green triangles\n",
    "plt.plot(t, precision_local_st, 'r^',label='precision')\n",
    "plt.plot(t, recall_local_st, 'bs',label='recall')\n",
    "plt.plot(t, f1_local_st, 'go',label='f1')\n",
    "plt.ylabel('Accuracy')\n",
    "plt.title(f'Accuracy plot of super local model on twilight dataset')\n",
    "plt.legend()\n"
   ]
  },
  {
   "cell_type": "code",
   "execution_count": 242,
   "metadata": {},
   "outputs": [
    {
     "name": "stdout",
     "output_type": "stream",
     "text": [
      "Local HMM trained from superfamily dataset has precision: 0.18812863939816027, recall: 0.23739871062451848, f1: 0.2093055739634981 \n"
     ]
    }
   ],
   "source": [
    "print(f\"Local HMM trained from superfamily dataset has precision: {np.mean(precision_local_st)},\\\n",
    " recall: {np.mean(recall_local_st)}, f1: {np.mean(f1_local_st)} \")"
   ]
  },
  {
   "cell_type": "code",
   "execution_count": 243,
   "metadata": {},
   "outputs": [],
   "source": [
    "\"\"\"accuracy calculating for global HMM model trained of superfamily onto twilight dataset\"\"\"\n",
    "#global viterbi\n",
    "#apply global model trained from superfamily to twilight dataset\n",
    "precision_global_st=[]\n",
    "recall_global_st =[]\n",
    "f1_global_st = []\n",
    "\n",
    "l_para_vit = copy.deepcopy(g_para_super)\n",
    "\n",
    "for seq_pair in twil_list_test:\n",
    "\n",
    "    seq1,seq2 = pure_seq([seq_pair])[0]\n",
    "    m = len(seq1)\n",
    "    n = len(seq2)\n",
    "\n",
    "    #M,X,Y plus a dimension to store the index\n",
    "    v_matrix = np.full([m+1,n+1, len(states),2], -np.inf)\n",
    "\n",
    "    v_matrix[0,0,0,0] = np.log(1/3)\n",
    "    v_matrix[0,0,1,0] = np.log(1/3)\n",
    "    v_matrix[0,0,2,0] = np.log(1/3)\n",
    "    for i in range(0,m+1):\n",
    "        for j in range(0,n+1):\n",
    "            if i==0 and j ==0: continue\n",
    "            v_matrix[i,j,0,:] = forward_M_compute_v(i,j)\n",
    "            v_matrix[i,j,1,:] = forward_X_compute_v(i,j)\n",
    "            v_matrix[i,j,2,:] = forward_Y_compute_v(i,j)            \n",
    "\n",
    "\n",
    "    seq1_aln, seq2_aln = global_backtracing(seq1,seq2,v_matrix)\n",
    "    precision, recall, f1 = accuracy(seq_pair[0],seq_pair[1],seq1_aln,seq2_aln)\n",
    "    \n",
    "    precision_global_st.append(precision)\n",
    "    recall_global_st.append(recall)\n",
    "    f1_global_st.append(f1)\n",
    "    "
   ]
  },
  {
   "cell_type": "code",
   "execution_count": 244,
   "metadata": {},
   "outputs": [
    {
     "data": {
      "text/plain": [
       "<matplotlib.legend.Legend at 0x7fc16c78a490>"
      ]
     },
     "execution_count": 244,
     "metadata": {},
     "output_type": "execute_result"
    },
    {
     "data": {
      "image/png": "[encoded data removed]",
      "text/plain": [
       "<Figure size 432x288 with 1 Axes>"
      ]
     },
     "metadata": {
      "needs_background": "light"
     },
     "output_type": "display_data"
    }
   ],
   "source": [
    "\n",
    "t = np.linspace(0., 30, 100)\n",
    "\n",
    "# red dashes, blue squares and green triangles\n",
    "plt.plot(t, precision_global_st, 'r^',label='precision')\n",
    "plt.plot(t, recall_global_st, 'bs',label='recall')\n",
    "plt.plot(t, f1_global_st, 'go',label='f1')\n",
    "plt.ylabel('Accuracy')\n",
    "plt.title(f'Accuracy plot of super global model on twilight dataset')\n",
    "plt.legend()"
   ]
  },
  {
   "cell_type": "code",
   "execution_count": 245,
   "metadata": {},
   "outputs": [
    {
     "name": "stdout",
     "output_type": "stream",
     "text": [
      "global HMM trained from superfamily dataset has precision: 0.21655679776450623, recall: 0.2667934896898755, f1: 0.23843377958409648 \n"
     ]
    }
   ],
   "source": [
    "print(f\"global HMM trained from superfamily dataset has precision: {np.mean(precision_global_st)},\\\n",
    " recall: {np.mean(recall_global_st)}, f1: {np.mean(f1_global_st)} \")"
   ]
  },
  {
   "cell_type": "code",
   "execution_count": 246,
   "metadata": {},
   "outputs": [],
   "source": [
    "\"\"\"accuracy calculating for local HMM model trained of twilight onto superfamily dataset\"\"\"\n",
    "#local viterbi\n",
    "#twilight to super\n",
    "precision_local_ts=[]\n",
    "recall_local_ts =[]\n",
    "f1_local_ts = []\n",
    "\n",
    "l_para_vit = copy.deepcopy(l_para_twil)\n",
    "\n",
    "for seq_pair in super_list_test:\n",
    "    \n",
    "    seq1,seq2 = pure_seq([seq_pair])[0]\n",
    "    m = len(seq1)\n",
    "    n = len(seq2)\n",
    "\n",
    "    #M,X,Y plus a dimension to store the index\n",
    "    v_matrix = np.full([m+1,n+1, len(states),2], -np.inf)\n",
    "\n",
    "\n",
    "    v_matrix[0,0,1,0] = np.log(0.5)\n",
    "    v_matrix[0,0,2,0] = np.log(0.5)\n",
    "    for i in range(0,m+1):\n",
    "        for j in range(0,n+1):\n",
    "            if i==0 and j ==0: continue\n",
    "            v_matrix[i,j,0,:] = forward_M_compute_v(i,j)\n",
    "            v_matrix[i,j,1,:] = forward_X_compute_v(i,j)\n",
    "            v_matrix[i,j,2,:] = forward_Y_compute_v(i,j)            \n",
    "\n",
    "\n",
    "    seq1_aln, seq2_aln = local_backtracing(seq1,seq2,v_matrix)\n",
    "    precision, recall, f1 = accuracy(seq_pair[0],seq_pair[1],seq1_aln,seq2_aln)\n",
    "    \n",
    "    precision_local_ts.append(precision)\n",
    "    recall_local_ts.append(recall)\n",
    "    f1_local_ts.append(f1)\n",
    "    "
   ]
  },
  {
   "cell_type": "code",
   "execution_count": 247,
   "metadata": {},
   "outputs": [
    {
     "data": {
      "text/plain": [
       "<matplotlib.legend.Legend at 0x7fc16c55c690>"
      ]
     },
     "execution_count": 247,
     "metadata": {},
     "output_type": "execute_result"
    },
    {
     "data": {
      "image/png": "[encoded data removed]",
      "text/plain": [
       "<Figure size 432x288 with 1 Axes>"
      ]
     },
     "metadata": {
      "needs_background": "light"
     },
     "output_type": "display_data"
    }
   ],
   "source": [
    "\n",
    "t = np.linspace(0., 30, 100)\n",
    "\n",
    "# red dashes, blue squares and green triangles\n",
    "plt.plot(t, precision_local_ts, 'r^',label='precision')\n",
    "plt.plot(t, recall_local_ts, 'bs',label='recall')\n",
    "plt.plot(t, f1_local_ts, 'go',label='f1')\n",
    "plt.ylabel('Accuracy')\n",
    "plt.title(f'Accuracy plot of twil local model to superfamily dataset')\n",
    "plt.legend()\n"
   ]
  },
  {
   "cell_type": "code",
   "execution_count": 248,
   "metadata": {},
   "outputs": [
    {
     "name": "stdout",
     "output_type": "stream",
     "text": [
      "Local HMM trained from twilfamily dataset has precision: 0.15039429309041574, recall: 0.18047789672790196, f1: 0.16322383768011245 \n"
     ]
    }
   ],
   "source": [
    "print(f\"Local HMM trained from twilfamily dataset has precision: {np.mean(precision_local_ts)},\\\n",
    " recall: {np.mean(recall_local_ts)}, f1: {np.mean(f1_local_ts)} \")"
   ]
  },
  {
   "cell_type": "code",
   "execution_count": 249,
   "metadata": {},
   "outputs": [],
   "source": [
    "\"\"\"accuracy calculating for global HMM model trained of twilight onto superfamily dataset\"\"\"\n",
    "#global viterbi\n",
    "#twil to super\n",
    "precision_global_ts=[]\n",
    "recall_global_ts =[]\n",
    "f1_global_ts = []\n",
    "\n",
    "l_para_vit = copy.deepcopy(g_para_twil)\n",
    "\n",
    "for seq_pair in super_list_test:\n",
    "\n",
    "    seq1,seq2 = pure_seq([seq_pair])[0]\n",
    "    m = len(seq1)\n",
    "    n = len(seq2)\n",
    "\n",
    "    #M,X,Y plus a dimension to store the index\n",
    "    v_matrix = np.full([m+1,n+1, len(states),2], -np.inf)\n",
    "\n",
    "    v_matrix[0,0,0,0] = np.log(1/3)\n",
    "    v_matrix[0,0,1,0] = np.log(1/3)\n",
    "    v_matrix[0,0,2,0] = np.log(1/3)\n",
    "    for i in range(0,m+1):\n",
    "        for j in range(0,n+1):\n",
    "            if i==0 and j ==0: continue\n",
    "            v_matrix[i,j,0,:] = forward_M_compute_v(i,j)\n",
    "            v_matrix[i,j,1,:] = forward_X_compute_v(i,j)\n",
    "            v_matrix[i,j,2,:] = forward_Y_compute_v(i,j)            \n",
    "\n",
    "\n",
    "    seq1_aln, seq2_aln = global_backtracing(seq1,seq2,v_matrix)\n",
    "    precision, recall, f1 = accuracy(seq_pair[0],seq_pair[1],seq1_aln,seq2_aln)\n",
    "    \n",
    "    precision_global_ts.append(precision)\n",
    "    recall_global_ts.append(recall)\n",
    "    f1_global_ts.append(f1)\n",
    "    "
   ]
  },
  {
   "cell_type": "code",
   "execution_count": 250,
   "metadata": {
    "scrolled": true
   },
   "outputs": [
    {
     "data": {
      "text/plain": [
       "<matplotlib.legend.Legend at 0x7fc16c53e090>"
      ]
     },
     "execution_count": 250,
     "metadata": {},
     "output_type": "execute_result"
    },
    {
     "data": {
      "image/png": "[encoded data removed]",
      "text/plain": [
       "<Figure size 432x288 with 1 Axes>"
      ]
     },
     "metadata": {
      "needs_background": "light"
     },
     "output_type": "display_data"
    }
   ],
   "source": [
    "# evenly sampled time at 200ms intervals\n",
    "t = np.linspace(0., 30, 100)\n",
    "\n",
    "# red dashes, blue squares and green triangles\n",
    "plt.plot(t, precision_global_ts, 'r^',label='precision')\n",
    "plt.plot(t, recall_global_ts, 'bs',label='recall')\n",
    "plt.plot(t, f1_global_ts, 'go',label='f1')\n",
    "plt.ylabel('Accuracy')\n",
    "plt.title(f'Accuracy plot of twil global model to superfamily dataset')\n",
    "plt.legend()"
   ]
  },
  {
   "cell_type": "code",
   "execution_count": 251,
   "metadata": {},
   "outputs": [
    {
     "name": "stdout",
     "output_type": "stream",
     "text": [
      "global HMM trained from twilfamily dataset has precision: 0.13176823179562913, recall: 0.16205758288738245, f1: 0.1446183693787298 \n"
     ]
    }
   ],
   "source": [
    "print(f\"global HMM trained from twilfamily dataset has precision: {np.mean(precision_global_ts)},\\\n",
    " recall: {np.mean(recall_global_ts)}, f1: {np.mean(f1_global_ts)} \")"
   ]
  },
  {
   "cell_type": "markdown",
   "metadata": {},
   "source": [
    "Due to the limit of computational power and optimization, only 100 datapoints is used for training and 100 datapoints for testing, so all the accuracy value do not have any significance. \n",
    "\n",
    "The model implemented are two of the most simple pair HMM. One begin state, one end state, one insertion state for seq1, one insertion state for seq2 and a match state. Two insertion state do not have transition probability and local alignment model, match state do not transit from begin state or to end state. The begin state transition probability and end state transition probability are spread equally. "
   ]
  },
  {
   "cell_type": "markdown",
   "metadata": {},
   "source": [
    "For superfamily local model, it has precision: 0.14, recall: 0.17, f1: 0.15. However, this model performed better onto the twilight dataset, with precision: 0.18, recall:0.24, f1: 0.20. This happened same for superfamily global alignment model as well. It performed better on twilight dataset than on superfamily dataset. The general trend is that all the model performed better on twilight dataset than on superfamily dataset. Even it is counter intuitive that a model is perfomed better on a unseen dataset, but given the information that twilight dataset is less similar than superfamily, suggesting pairHMM is doing better with weak connections"
   ]
  },
  {
   "cell_type": "markdown",
   "metadata": {},
   "source": [
    "For the model trained from same dataset, there is no general trend. For superfamily dataset, global alignment model performed better(f1 score:0.17 vs. 0.15). For twilight dataset, local alignment model performed better.(f1 score:0.21 vs. 0.18). I was expecting local alignment model would perform better on precision while global alignment model would perform better on recall. However, none of this happened. But this observation can be explained. Since accuracy for all the models are quite low, as superfamily dataset is more similar, global alignment with more converage would cover more hits, thus better precision as well. And since twilight dataset is less similar, local alignment model would better find those alignments."
   ]
  },
  {
   "cell_type": "markdown",
   "metadata": {},
   "source": [
    "The details of all the accuracy of different scenario can be seen from all the plots prior generated."
   ]
  }
 ],
 "metadata": {
  "kernelspec": {
   "display_name": "Python 3",
   "language": "python",
   "name": "python3"
  },
  "language_info": {
   "codemirror_mode": {
    "name": "ipython",
    "version": 3
   },
   "file_extension": ".py",
   "mimetype": "text/x-python",
   "name": "python",
   "nbconvert_exporter": "python",
   "pygments_lexer": "ipython3",
   "version": "3.7.6"
  }
 },
 "nbformat": 4,
 "nbformat_minor": 4
}
