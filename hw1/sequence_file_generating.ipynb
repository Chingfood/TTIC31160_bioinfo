{
 "cells": [
  {
   "cell_type": "code",
   "execution_count": 24,
   "metadata": {},
   "outputs": [],
   "source": [
    "import os"
   ]
  },
  {
   "cell_type": "code",
   "execution_count": 34,
   "metadata": {},
   "outputs": [],
   "source": [
    "def func(filepath,write_path):\n",
    "    global counter\n",
    "    seq_list = []\n",
    "    seq_name=[]\n",
    "    with open(filepath,'r') as f1:\n",
    "        for line in f1:\n",
    "            if line[0] == '>':\n",
    "                seq_name.append(line)\n",
    "            else:\n",
    "                seq_list.append(line)\n",
    "    for i in range(len(seq_name)):\n",
    "        for j in range(i+1,len(seq_name)):\n",
    "            with open(os.path.join(write_path,\"pairwise_align\",\"file_\"+str(counter)),'w') as f2:\n",
    "                f2.write(seq_name[i])\n",
    "                f2.write(seq_list[i])\n",
    "                f2.write(seq_name[j])\n",
    "                f2.write(seq_list[j])\n",
    "            with open(os.path.join(write_path,\"pairwise_seq\",\"file_\"+str(counter)),'w') as f3:\n",
    "                f3.write(seq_name[i])\n",
    "                f3.write(seq_list[i].replace('-',''))\n",
    "                f3.write(seq_name[j])\n",
    "                f3.write(seq_list[j].replace('-',''))\n",
    "            counter +=1"
   ]
  },
  {
   "cell_type": "code",
   "execution_count": 35,
   "metadata": {},
   "outputs": [],
   "source": [
    "directory_in_str=\"/home/chingyuenliu/TTIC31160_bioinfo/hw1/data/\"\n",
    "write_path = \"/home/chingyuenliu/TTIC31160_bioinfo/hw1/pairwise_data\"\n",
    "os.makedirs(os.path.join(write_path,\"pairwise_align\"),exist_ok=True)\n",
    "os.makedirs(os.path.join(write_path,\"pairwise_seq\"),exist_ok=True)\n"
   ]
  },
  {
   "cell_type": "code",
   "execution_count": 36,
   "metadata": {},
   "outputs": [],
   "source": [
    "directory = os.fsencode(directory_in_str)\n",
    "counter = 0\n",
    "for file in os.listdir(directory):\n",
    "    filename = os.fsdecode(file)\n",
    "    if filename.endswith(\".afa\"): \n",
    "        func(os.path.join(directory_in_str, filename),write_path)\n"
   ]
  }
 ],
 "metadata": {
  "kernelspec": {
   "display_name": "Python 3",
   "language": "python",
   "name": "python3"
  },
  "language_info": {
   "codemirror_mode": {
    "name": "ipython",
    "version": 3
   },
   "file_extension": ".py",
   "mimetype": "text/x-python",
   "name": "python",
   "nbconvert_exporter": "python",
   "pygments_lexer": "ipython3",
   "version": "3.7.6"
  }
 },
 "nbformat": 4,
 "nbformat_minor": 4
}
