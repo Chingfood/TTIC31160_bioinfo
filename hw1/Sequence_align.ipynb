{
 "cells": [
  {
   "cell_type": "code",
   "execution_count": 1,
   "metadata": {},
   "outputs": [],
   "source": [
    "import os\n",
    "import numpy as np"
   ]
  },
  {
   "cell_type": "code",
   "execution_count": 2,
   "metadata": {},
   "outputs": [],
   "source": [
    "import matplotlib.pyplot as plt"
   ]
  },
  {
   "cell_type": "code",
   "execution_count": 3,
   "metadata": {},
   "outputs": [],
   "source": [
    "directory_in_str = \"/home/chingyuenliu/TTIC31160_bioinfo/hw1/pairwise_data/pairwise_seq/\""
   ]
  },
  {
   "cell_type": "code",
   "execution_count": 4,
   "metadata": {},
   "outputs": [],
   "source": [
    "ground_path_dir = '/home/chingyuenliu/TTIC31160_bioinfo/hw1/pairwise_data/pairwise_align/'"
   ]
  },
  {
   "cell_type": "code",
   "execution_count": 5,
   "metadata": {},
   "outputs": [],
   "source": [
    "def check_char(char0,char1):\n",
    "    #check if two character are the same\n",
    "    return char0.lower() == char1.lower()"
   ]
  },
  {
   "cell_type": "code",
   "execution_count": 16,
   "metadata": {},
   "outputs": [],
   "source": [
    "def mkmtx(seq0,seq1,local=False,match =4,mmatch=-3,gap=-5,gap_ext=-1):\n",
    "    #make dynamic programming matrix\n",
    "    \n",
    "    mtx = np.zeros([3,len(seq0)+1,len(seq1)+1])\n",
    "    _,d1,d2=mtx.shape\n",
    "\n",
    "    if not local:\n",
    "        #Global alignment, the value could be negative.\n",
    "        for i in range(1,d1):\n",
    "            mtx[:,i,0]=(gap+gap_ext*(i))*np.ones(3)\n",
    "        for i in range(1,d2):\n",
    "            mtx[:,0,i]=(gap+gap_ext*(i))*np.ones(3)\n",
    "        \n",
    "        #the first layer is match/mismatch, second layer is gap on first \n",
    "        #sequence, third layer is gap on second sequence.\n",
    "        for i in range(1,d1):\n",
    "            for j in range(1,d2):\n",
    "                if check_char(seq0[i-1],seq1[j-1]):\n",
    "                    score = match\n",
    "                else:\n",
    "                    score =mmatch\n",
    "                mtx[0,i,j] = np.max(mtx[:,i-1,j-1]) + score\n",
    "                mtx[1,i,j] = np.max([mtx[0,i,j-1]+gap+gap_ext,mtx[1,i,j-1]+\n",
    "                                     gap_ext,mtx[2,i,j-1]+gap+gap_ext])\n",
    "                mtx[2,i,j] = np.max([mtx[0,i-1,j]+gap+gap_ext,mtx[1,i-1,j]+\n",
    "                                     gap+gap_ext,mtx[2,i-1,j]+gap_ext])\n",
    "    else:\n",
    "        #local alignment, the value is non-negative\n",
    "        for i in range(1,d1):\n",
    "            for j in range(1,d2):\n",
    "                if check_char(seq0[i-1],seq1[j-1]):\n",
    "                    score = match\n",
    "                else:\n",
    "                    score =mmatch\n",
    "                mtx[0,i,j] = max(np.max(mtx[:,i-1,j-1]) + score, 0)\n",
    "                mtx[1,i,j] = np.max([mtx[0,i,j-1]+gap+gap_ext,mtx[1,i,j-1]+\n",
    "                                     gap_ext,mtx[2,i,j-1]+gap+gap_ext,0])\n",
    "                mtx[2,i,j] = np.max([mtx[0,i-1,j]+gap+gap_ext,mtx[1,i-1,j]+\n",
    "                                     gap+gap_ext,mtx[2,i-1,j]+gap_ext,0])\n",
    "    return mtx"
   ]
  },
  {
   "cell_type": "code",
   "execution_count": 7,
   "metadata": {},
   "outputs": [],
   "source": [
    "def back_tracing(seq0,seq1,mtx,local=False):\n",
    "\n",
    "    #idx = 0, match/mismatch\n",
    "    #idx = 1, gap on seq0, letter on seq1\n",
    "    #idx = 2, letter on seq0, gap on seq1\n",
    "\n",
    "    if not local:\n",
    "        #back tracing for global alignment\n",
    "        _,d1,d2=mtx.shape\n",
    "        seq0_aln=[]\n",
    "        seq1_aln=[]\n",
    "        i=d1-1\n",
    "        j=d2-1\n",
    "        while(i != 0 and j != 0):\n",
    "            idx = np.argmax(mtx[:,i,j])\n",
    "            if idx ==0:\n",
    "                seq0_aln.append(seq0[i-1])\n",
    "                seq1_aln.append(seq1[j-1])\n",
    "                i -= 1\n",
    "                j -= 1\n",
    "            elif idx ==1:\n",
    "                seq0_aln.append('-')\n",
    "                seq1_aln.append(seq1[j-1])\n",
    "                j -= 1\n",
    "            elif idx ==2:\n",
    "                seq0_aln.append(seq0[i-1])\n",
    "                seq1_aln.append('-')\n",
    "                i -= 1\n",
    "\n",
    "    else:\n",
    "        #back tracing for local alignment\n",
    "        _,d1,d2=mtx.shape\n",
    "        _,i,j=np.unravel_index(np.argmax(mtx),mtx.shape)\n",
    "\n",
    "        seq0_aln=[]\n",
    "        seq1_aln=[]\n",
    "\n",
    "        for chara in seq0[i:][::-1]:\n",
    "            seq0_aln.append(chara)\n",
    "        for i1 in range(d1-1,i,-1):\n",
    "            seq1_aln.append('-')\n",
    "\n",
    "        for chara in seq1[j:][::-1]:\n",
    "            seq1_aln.append(chara)\n",
    "        for i1 in range(d2-1,j,-1):\n",
    "            seq0_aln.append('-')\n",
    "            \n",
    "        while(i != 0 and j != 0):\n",
    "            if np.max(mtx[:,i,j]) ==0:\n",
    "                break\n",
    "            idx = np.argmax(mtx[:,i,j])\n",
    "            if idx ==0:\n",
    "                seq0_aln.append(seq0[i-1])\n",
    "                seq1_aln.append(seq1[j-1])\n",
    "                i -= 1\n",
    "                j -= 1\n",
    "            elif idx ==1:\n",
    "                seq0_aln.append('-')\n",
    "                seq1_aln.append(seq1[j-1])\n",
    "                j -= 1\n",
    "            elif idx ==2:\n",
    "                seq0_aln.append(seq0[i-1])\n",
    "                seq1_aln.append('-')\n",
    "                i -= 1\n",
    "        \n",
    "        \n",
    "        for chara in seq0[:i][::-1]:\n",
    "            seq0_aln.append(chara)\n",
    "        for i1 in range(i):\n",
    "            seq1_aln.append('-')\n",
    "        for chara in seq1[:j][::-1]:\n",
    "            seq1_aln.append(chara)\n",
    "        for i1 in range(j):\n",
    "            seq0_aln.append('-')  \n",
    "    return ''.join(reversed(seq0_aln)), ''.join(reversed(seq1_aln))"
   ]
  },
  {
   "cell_type": "code",
   "execution_count": 8,
   "metadata": {},
   "outputs": [],
   "source": [
    "def seq_idx(seq):\n",
    "    #change the letter sequence to index sequence\n",
    "    seq_lst = []\n",
    "    counter = 0\n",
    "    for i in seq:\n",
    "        if i.isalpha():\n",
    "            seq_lst.append(counter)\n",
    "            counter +=1\n",
    "        else:\n",
    "            seq_lst.append(-1)\n",
    "    return seq_lst"
   ]
  },
  {
   "cell_type": "code",
   "execution_count": 9,
   "metadata": {},
   "outputs": [],
   "source": [
    "def accuracy(seq0_gt,seq1_gt,seq0_al,seq1_al):\n",
    "    #calcualte recall and precision\n",
    "    seq1_gt_lst = seq_idx(seq1_gt)\n",
    "    seq0_gt_lst = seq_idx(seq0_gt)\n",
    "    seq0_al_lst = seq_idx(seq0_al)\n",
    "    seq1_al_lst = seq_idx(seq1_al)\n",
    "    \n",
    "    gt_aln_idx = list(zip(seq0_gt_lst,seq1_gt_lst))\n",
    "    al_aln_idx = list(zip(seq0_al_lst,seq1_al_lst))\n",
    "    \n",
    "    #get rid off the entry that aligned with gap\n",
    "    gt_aln_idx = [x for x in gt_aln_idx if not -1 in x]\n",
    "    al_aln_idx = [x for x in al_aln_idx if not -1 in x]\n",
    "    \n",
    "    #count how many alignment in both cases\n",
    "    true_pos=[]\n",
    "    for i in al_aln_idx:\n",
    "        if i in gt_aln_idx:\n",
    "            true_pos.append(i)\n",
    "    precision = len(true_pos)/len(gt_aln_idx)\n",
    "    recall = len(true_pos)/len(al_aln_idx)\n",
    "    return precision, recall"
   ]
  },
  {
   "cell_type": "code",
   "execution_count": 10,
   "metadata": {},
   "outputs": [],
   "source": [
    "def load_seq(filepath):\n",
    "    seq_lst = []\n",
    "    with open(filepath, 'r') as f1:\n",
    "        for line in f1:\n",
    "            if line.startswith('>'):\n",
    "                continue\n",
    "            else:\n",
    "                seq_lst.append(line.strip().replace('\\n',''))\n",
    "    return seq_lst[0], seq_lst[1]"
   ]
  },
  {
   "cell_type": "code",
   "execution_count": 17,
   "metadata": {},
   "outputs": [],
   "source": [
    "directory = os.fsencode(directory_in_str)\n",
    "counter = 0\n",
    "precision_lst =[]\n",
    "recall_lst=[]\n",
    "\n",
    "local=False\n",
    "gap=0\n",
    "gap_ext=0\n",
    "for file in os.listdir(directory):\n",
    "    filename = os.fsdecode(file)\n",
    "    seq0,seq1 =load_seq(os.path.join(directory_in_str, filename))\n",
    "    seq0_gt,seq1_gt =load_seq(os.path.join(ground_path_dir, filename))\n",
    "    mtx=mkmtx(seq0,seq1,local=local,gap=gap,gap_ext=gap_ext)\n",
    "    seq0_al,seq1_al=back_tracing(seq0,seq1,mtx,local=local)\n",
    "    pre,rec=accuracy(seq0_gt,seq1_gt,seq0_al,seq1_al)\n",
    "    precision_lst.append(pre)\n",
    "    recall_lst.append(rec)"
   ]
  },
  {
   "cell_type": "code",
   "execution_count": 20,
   "metadata": {},
   "outputs": [
    {
     "data": {
      "image/png": "[encoded data removed]",
      "text/plain": [
       "<Figure size 432x288 with 1 Axes>"
      ]
     },
     "metadata": {
      "needs_background": "light"
     },
     "output_type": "display_data"
    }
   ],
   "source": [
    "\n",
    "# evenly sampled time at 200ms intervals\n",
    "t = np.linspace(0., 50, len(precision_lst))\n",
    "\n",
    "# red dashes, blue squares and green triangles\n",
    "plt.plot(t, precision_lst, 'r^',label='precision')\n",
    "plt.plot(t, recall_lst, 'bs',label='recall')\n",
    "plt.ylabel('Accuracy')\n",
    "plt.title(f'Accuracy plot global alignment with gap opening:{gap} and extension:{gap_ext}')\n",
    "plt.legend()\n",
    "plt.savefig(os.path.join(\"/home/chingyuenliu/TTIC31160_bioinfo/hw1\",f'g_o{gap}e{gap_ext}'))"
   ]
  },
  {
   "cell_type": "code",
   "execution_count": 19,
   "metadata": {
    "scrolled": true
   },
   "outputs": [
    {
     "name": "stdout",
     "output_type": "stream",
     "text": [
      "0.01863527383972702\n",
      "0.025645024484062674\n"
     ]
    }
   ],
   "source": [
    "print(sum(precision_lst)/len(precision_lst))\n",
    "\n",
    "print(sum(recall_lst)/len(recall_lst))"
   ]
  },
  {
   "cell_type": "markdown",
   "metadata": {},
   "source": [
    "For global alignment with gap opening penalty: 0, gap extension penalty: 0. Among over 30 cases, majority of the alignment did not capture, the average precision is 1.86% and recall accuracy is about 2.56%"
   ]
  },
  {
   "cell_type": "code",
   "execution_count": 21,
   "metadata": {},
   "outputs": [],
   "source": [
    "directory = os.fsencode(directory_in_str)\n",
    "counter = 0\n",
    "precision_lst =[]\n",
    "recall_lst=[]\n",
    "\n",
    "local=False\n",
    "gap=0\n",
    "gap_ext=-1\n",
    "\n",
    "for file in os.listdir(directory):\n",
    "    filename = os.fsdecode(file)\n",
    "    seq0,seq1 =load_seq(os.path.join(directory_in_str, filename))\n",
    "    seq0_gt,seq1_gt =load_seq(os.path.join(ground_path_dir, filename))\n",
    "    mtx=mkmtx(seq0,seq1,local=local,gap=gap,gap_ext=gap_ext)\n",
    "    seq0_al,seq1_al=back_tracing(seq0,seq1,mtx,local=local)\n",
    "    pre,rec=accuracy(seq0_gt,seq1_gt,seq0_al,seq1_al)\n",
    "    precision_lst.append(pre)\n",
    "    recall_lst.append(rec)"
   ]
  },
  {
   "cell_type": "code",
   "execution_count": 22,
   "metadata": {},
   "outputs": [
    {
     "name": "stdout",
     "output_type": "stream",
     "text": [
      "0.01863527383972702\n",
      "0.025645024484062674\n"
     ]
    },
    {
     "data": {
      "image/png": "[encoded data removed]",
      "text/plain": [
       "<Figure size 432x288 with 1 Axes>"
      ]
     },
     "metadata": {
      "needs_background": "light"
     },
     "output_type": "display_data"
    }
   ],
   "source": [
    "print(sum(precision_lst)/len(precision_lst))\n",
    "print(sum(recall_lst)/len(recall_lst))\n",
    "\n",
    "\n",
    "# evenly sampled time at 200ms intervals\n",
    "t = np.linspace(0., 30, len(precision_lst))\n",
    "\n",
    "# red dashes, blue squares and green triangles\n",
    "plt.plot(t, precision_lst, 'r^',label='precision')\n",
    "plt.plot(t, recall_lst, 'bs',label='recall')\n",
    "plt.ylabel('Accuracy')\n",
    "plt.title(f'Accuracy plot global alignment with gap opening:{gap} and extension:{gap_ext}')\n",
    "plt.legend()\n",
    "plt.savefig(os.path.join(\"/home/chingyuenliu/TTIC31160_bioinfo/hw1\",f'g_o{gap}e{gap_ext}'))"
   ]
  },
  {
   "cell_type": "markdown",
   "metadata": {},
   "source": [
    "For global alignment with gap opening penalty: 0, gap extension penalty: -1. Among over 30 cases, majority of the alignment did not capture, the average precision is 1.86% and recall accuracy is about 2.56%"
   ]
  },
  {
   "cell_type": "code",
   "execution_count": 23,
   "metadata": {},
   "outputs": [],
   "source": [
    "directory = os.fsencode(directory_in_str)\n",
    "counter = 0\n",
    "precision_lst =[]\n",
    "recall_lst=[]\n",
    "\n",
    "local=False\n",
    "gap=-5\n",
    "gap_ext=0\n",
    "\n",
    "for file in os.listdir(directory):\n",
    "    filename = os.fsdecode(file)\n",
    "    seq0,seq1 =load_seq(os.path.join(directory_in_str, filename))\n",
    "    seq0_gt,seq1_gt =load_seq(os.path.join(ground_path_dir, filename))\n",
    "    mtx=mkmtx(seq0,seq1,local=local,gap=gap,gap_ext=gap_ext)\n",
    "    seq0_al,seq1_al=back_tracing(seq0,seq1,mtx,local=local)\n",
    "    pre,rec=accuracy(seq0_gt,seq1_gt,seq0_al,seq1_al)\n",
    "    precision_lst.append(pre)\n",
    "    recall_lst.append(rec)"
   ]
  },
  {
   "cell_type": "code",
   "execution_count": 24,
   "metadata": {
    "scrolled": true
   },
   "outputs": [
    {
     "name": "stdout",
     "output_type": "stream",
     "text": [
      "0.017603698334173884\n",
      "0.021476026363095608\n"
     ]
    },
    {
     "data": {
      "image/png": "[encoded data removed]",
      "text/plain": [
       "<Figure size 432x288 with 1 Axes>"
      ]
     },
     "metadata": {
      "needs_background": "light"
     },
     "output_type": "display_data"
    }
   ],
   "source": [
    "print(sum(precision_lst)/len(precision_lst))\n",
    "print(sum(recall_lst)/len(recall_lst))\n",
    "\n",
    "\n",
    "# evenly sampled time at 200ms intervals\n",
    "t = np.linspace(0., 30, len(precision_lst))\n",
    "\n",
    "# red dashes, blue squares and green triangles\n",
    "plt.plot(t, precision_lst, 'r^',label='precision')\n",
    "plt.plot(t, recall_lst, 'bs',label='recall')\n",
    "plt.ylabel('Accuracy')\n",
    "plt.title(f'Accuracy plot global alignment with gap opening:{gap} and extension:{gap_ext}')\n",
    "plt.legend()\n",
    "plt.savefig(os.path.join(\"/home/chingyuenliu/TTIC31160_bioinfo/hw1\",f'g_o{gap}e{gap_ext}'))"
   ]
  },
  {
   "cell_type": "markdown",
   "metadata": {},
   "source": [
    "For global alignment with gap opening penalty: -5, gap extension penalty: 0. Among over 30 cases, majority of the alignment did not capture, the average precision is 1.76% and recall accuracy is about 2.15%"
   ]
  },
  {
   "cell_type": "code",
   "execution_count": 25,
   "metadata": {},
   "outputs": [],
   "source": [
    "directory = os.fsencode(directory_in_str)\n",
    "counter = 0\n",
    "precision_lst =[]\n",
    "recall_lst=[]\n",
    "\n",
    "local=False\n",
    "gap=-5\n",
    "gap_ext=-1\n",
    "\n",
    "for file in os.listdir(directory):\n",
    "    filename = os.fsdecode(file)\n",
    "    seq0,seq1 =load_seq(os.path.join(directory_in_str, filename))\n",
    "    seq0_gt,seq1_gt =load_seq(os.path.join(ground_path_dir, filename))\n",
    "    mtx=mkmtx(seq0,seq1,local=local,gap=gap,gap_ext=gap_ext)\n",
    "    seq0_al,seq1_al=back_tracing(seq0,seq1,mtx,local=local)\n",
    "    pre,rec=accuracy(seq0_gt,seq1_gt,seq0_al,seq1_al)\n",
    "    precision_lst.append(pre)\n",
    "    recall_lst.append(rec)"
   ]
  },
  {
   "cell_type": "code",
   "execution_count": 26,
   "metadata": {
    "scrolled": false
   },
   "outputs": [
    {
     "name": "stdout",
     "output_type": "stream",
     "text": [
      "0.02561243037774232\n",
      "0.02734390909444388\n"
     ]
    },
    {
     "data": {
      "image/png": "[encoded data removed]",
      "text/plain": [
       "<Figure size 432x288 with 1 Axes>"
      ]
     },
     "metadata": {
      "needs_background": "light"
     },
     "output_type": "display_data"
    }
   ],
   "source": [
    "print(sum(precision_lst)/len(precision_lst))\n",
    "print(sum(recall_lst)/len(recall_lst))\n",
    "\n",
    "\n",
    "# evenly sampled time at 200ms intervals\n",
    "t = np.linspace(0., 30, len(precision_lst))\n",
    "\n",
    "# red dashes, blue squares and green triangles\n",
    "plt.plot(t, precision_lst, 'r^',label='precision')\n",
    "plt.plot(t, recall_lst, 'bs',label='recall')\n",
    "plt.ylabel('Accuracy')\n",
    "plt.title(f'Accuracy plot global alignment with gap opening:{gap} and extension:{gap_ext}')\n",
    "plt.legend()\n",
    "plt.savefig(os.path.join(\"/home/chingyuenliu/TTIC31160_bioinfo/hw1\",f'g_o{gap}e{gap_ext}'))"
   ]
  },
  {
   "cell_type": "markdown",
   "metadata": {},
   "source": [
    "For global alignment with gap opening penalty: -5, gap extension penalty: -1. Among over 30 cases, majority of the alignment did not capture, the average precision is 2.56% and recall accuracy is about 2.73%"
   ]
  },
  {
   "cell_type": "code",
   "execution_count": 27,
   "metadata": {},
   "outputs": [],
   "source": [
    "directory = os.fsencode(directory_in_str)\n",
    "counter = 0\n",
    "precision_lst =[]\n",
    "recall_lst=[]\n",
    "\n",
    "local=False\n",
    "gap=-10\n",
    "gap_ext=0\n",
    "\n",
    "for file in os.listdir(directory):\n",
    "    filename = os.fsdecode(file)\n",
    "    seq0,seq1 =load_seq(os.path.join(directory_in_str, filename))\n",
    "    seq0_gt,seq1_gt =load_seq(os.path.join(ground_path_dir, filename))\n",
    "    mtx=mkmtx(seq0,seq1,local=local,gap=gap,gap_ext=gap_ext)\n",
    "    seq0_al,seq1_al=back_tracing(seq0,seq1,mtx,local=local)\n",
    "    pre,rec=accuracy(seq0_gt,seq1_gt,seq0_al,seq1_al)\n",
    "    precision_lst.append(pre)\n",
    "    recall_lst.append(rec)"
   ]
  },
  {
   "cell_type": "code",
   "execution_count": 28,
   "metadata": {},
   "outputs": [
    {
     "name": "stdout",
     "output_type": "stream",
     "text": [
      "0.007435884145668469\n",
      "0.007741761417674725\n"
     ]
    },
    {
     "data": {
      "image/png": "[encoded data removed]",
      "text/plain": [
       "<Figure size 432x288 with 1 Axes>"
      ]
     },
     "metadata": {
      "needs_background": "light"
     },
     "output_type": "display_data"
    }
   ],
   "source": [
    "print(sum(precision_lst)/len(precision_lst))\n",
    "print(sum(recall_lst)/len(recall_lst))\n",
    "\n",
    "\n",
    "# evenly sampled time at 200ms intervals\n",
    "t = np.linspace(0., 30, len(precision_lst))\n",
    "\n",
    "# red dashes, blue squares and green triangles\n",
    "plt.plot(t, precision_lst, 'r^',label='precision')\n",
    "plt.plot(t, recall_lst, 'bs',label='recall')\n",
    "plt.ylabel('Accuracy')\n",
    "plt.title(f'Accuracy plot global alignment with gap opening:{gap} and extension:{gap_ext}')\n",
    "plt.legend()\n",
    "plt.savefig(os.path.join(\"/home/chingyuenliu/TTIC31160_bioinfo/hw1\",f'g_o{gap}e{gap_ext}'))"
   ]
  },
  {
   "cell_type": "markdown",
   "metadata": {},
   "source": [
    "For global alignment with gap opening penalty: -10, gap extension penalty: 0. Among over 30 cases, majority of the alignment did not capture, the average precision is 0.74% and recall accuracy is about 0.77%"
   ]
  },
  {
   "cell_type": "code",
   "execution_count": 29,
   "metadata": {},
   "outputs": [],
   "source": [
    "directory = os.fsencode(directory_in_str)\n",
    "counter = 0\n",
    "precision_lst =[]\n",
    "recall_lst=[]\n",
    "\n",
    "local=False\n",
    "gap=-10\n",
    "gap_ext=-1\n",
    "\n",
    "for file in os.listdir(directory):\n",
    "    filename = os.fsdecode(file)\n",
    "    seq0,seq1 =load_seq(os.path.join(directory_in_str, filename))\n",
    "    seq0_gt,seq1_gt =load_seq(os.path.join(ground_path_dir, filename))\n",
    "    mtx=mkmtx(seq0,seq1,local=local,gap=gap,gap_ext=gap_ext)\n",
    "    seq0_al,seq1_al=back_tracing(seq0,seq1,mtx,local=local)\n",
    "    pre,rec=accuracy(seq0_gt,seq1_gt,seq0_al,seq1_al)\n",
    "    precision_lst.append(pre)\n",
    "    recall_lst.append(rec)"
   ]
  },
  {
   "cell_type": "code",
   "execution_count": 30,
   "metadata": {},
   "outputs": [
    {
     "name": "stdout",
     "output_type": "stream",
     "text": [
      "0.014759078349125543\n",
      "0.014934454149495187\n"
     ]
    },
    {
     "data": {
      "image/png": "[encoded data removed]",
      "text/plain": [
       "<Figure size 432x288 with 1 Axes>"
      ]
     },
     "metadata": {
      "needs_background": "light"
     },
     "output_type": "display_data"
    }
   ],
   "source": [
    "print(sum(precision_lst)/len(precision_lst))\n",
    "print(sum(recall_lst)/len(recall_lst))\n",
    "\n",
    "\n",
    "# evenly sampled time at 200ms intervals\n",
    "t = np.linspace(0., 30, len(precision_lst))\n",
    "\n",
    "# red dashes, blue squares and green triangles\n",
    "plt.plot(t, precision_lst, 'r^',label='precision')\n",
    "plt.plot(t, recall_lst, 'bs',label='recall')\n",
    "plt.ylabel('Accuracy')\n",
    "plt.title(f'Accuracy plot global alignment with gap opening:{gap} and extension:{gap_ext}')\n",
    "plt.legend()\n",
    "plt.savefig(os.path.join(\"/home/chingyuenliu/TTIC31160_bioinfo/hw1\",f'g_o{gap}e{gap_ext}'))"
   ]
  },
  {
   "cell_type": "markdown",
   "metadata": {},
   "source": [
    "For global alignment with gap opening penalty: -10, gap extension penalty: -1. Among over 30 cases, majority of the alignment did not capture, the average precision is 1.48% and recall accuracy is about 1.49%"
   ]
  },
  {
   "cell_type": "code",
   "execution_count": 31,
   "metadata": {},
   "outputs": [],
   "source": [
    "directory = os.fsencode(directory_in_str)\n",
    "counter = 0\n",
    "precision_lst =[]\n",
    "recall_lst=[]\n",
    "\n",
    "local=True\n",
    "gap=0\n",
    "gap_ext=0\n",
    "\n",
    "for file in os.listdir(directory):\n",
    "    filename = os.fsdecode(file)\n",
    "    seq0,seq1 =load_seq(os.path.join(directory_in_str, filename))\n",
    "    seq0_gt,seq1_gt =load_seq(os.path.join(ground_path_dir, filename))\n",
    "    mtx=mkmtx(seq0,seq1,local=local,gap=gap,gap_ext=gap_ext)\n",
    "    seq0_al,seq1_al=back_tracing(seq0,seq1,mtx,local=local)\n",
    "    pre,rec=accuracy(seq0_gt,seq1_gt,seq0_al,seq1_al)\n",
    "    precision_lst.append(pre)\n",
    "    recall_lst.append(rec)"
   ]
  },
  {
   "cell_type": "code",
   "execution_count": 32,
   "metadata": {},
   "outputs": [
    {
     "name": "stdout",
     "output_type": "stream",
     "text": [
      "0.03606882346563248\n",
      "0.049947518092517705\n"
     ]
    },
    {
     "data": {
      "image/png": "[encoded data removed]",
      "text/plain": [
       "<Figure size 432x288 with 1 Axes>"
      ]
     },
     "metadata": {
      "needs_background": "light"
     },
     "output_type": "display_data"
    }
   ],
   "source": [
    "print(sum(precision_lst)/len(precision_lst))\n",
    "print(sum(recall_lst)/len(recall_lst))\n",
    "\n",
    "\n",
    "# evenly sampled time at 200ms intervals\n",
    "t = np.linspace(0., 30, len(precision_lst))\n",
    "\n",
    "# red dashes, blue squares and green triangles\n",
    "plt.plot(t, precision_lst, 'r^',label='precision')\n",
    "plt.plot(t, recall_lst, 'bs',label='recall')\n",
    "plt.ylabel('Accuracy')\n",
    "plt.title(f'Accuracy plot local alignment with gap opening:{gap} and extension:{gap_ext}')\n",
    "plt.legend()\n",
    "plt.savefig(os.path.join(\"/home/chingyuenliu/TTIC31160_bioinfo/hw1\",f'loc_o{gap}e{gap_ext}'))"
   ]
  },
  {
   "cell_type": "markdown",
   "metadata": {},
   "source": [
    "For local alignment with gap opening penalty: 0, gap extension penalty: 0. Among over 30 cases, majority of the alignment did not capture, the average precision is 3.61% and recall accuracy is about 4.99%"
   ]
  },
  {
   "cell_type": "code",
   "execution_count": 33,
   "metadata": {},
   "outputs": [],
   "source": [
    "directory = os.fsencode(directory_in_str)\n",
    "counter = 0\n",
    "precision_lst =[]\n",
    "recall_lst=[]\n",
    "\n",
    "local=True\n",
    "gap=0\n",
    "gap_ext=-1\n",
    "\n",
    "for file in os.listdir(directory):\n",
    "    filename = os.fsdecode(file)\n",
    "    seq0,seq1 =load_seq(os.path.join(directory_in_str, filename))\n",
    "    seq0_gt,seq1_gt =load_seq(os.path.join(ground_path_dir, filename))\n",
    "    mtx=mkmtx(seq0,seq1,local=local,gap=gap,gap_ext=gap_ext)\n",
    "    seq0_al,seq1_al=back_tracing(seq0,seq1,mtx,local=local)\n",
    "    pre,rec=accuracy(seq0_gt,seq1_gt,seq0_al,seq1_al)\n",
    "    precision_lst.append(pre)\n",
    "    recall_lst.append(rec)"
   ]
  },
  {
   "cell_type": "code",
   "execution_count": 34,
   "metadata": {},
   "outputs": [
    {
     "name": "stdout",
     "output_type": "stream",
     "text": [
      "0.03211254485310649\n",
      "0.04474962371440317\n"
     ]
    },
    {
     "data": {
      "image/png": "[encoded data removed]",
      "text/plain": [
       "<Figure size 432x288 with 1 Axes>"
      ]
     },
     "metadata": {
      "needs_background": "light"
     },
     "output_type": "display_data"
    }
   ],
   "source": [
    "print(sum(precision_lst)/len(precision_lst))\n",
    "print(sum(recall_lst)/len(recall_lst))\n",
    "\n",
    "\n",
    "# evenly sampled time at 200ms intervals\n",
    "t = np.linspace(0., 30, len(precision_lst))\n",
    "\n",
    "# red dashes, blue squares and green triangles\n",
    "plt.plot(t, precision_lst, 'r^',label='precision')\n",
    "plt.plot(t, recall_lst, 'bs',label='recall')\n",
    "plt.ylabel('Accuracy')\n",
    "plt.title(f'Accuracy plot local alignment with gap opening:{gap} and extension:{gap_ext}')\n",
    "plt.legend()\n",
    "plt.savefig(os.path.join(\"/home/chingyuenliu/TTIC31160_bioinfo/hw1\",f'loc_o{gap}e{gap_ext}'))"
   ]
  },
  {
   "cell_type": "markdown",
   "metadata": {},
   "source": [
    "For local alignment with gap opening penalty: 0, gap extension penalty: -1. Among over 30 cases, majority of the alignment did not capture, the average precision is 3.21% and recall accuracy is about 4.47%"
   ]
  },
  {
   "cell_type": "code",
   "execution_count": 35,
   "metadata": {},
   "outputs": [],
   "source": [
    "directory = os.fsencode(directory_in_str)\n",
    "counter = 0\n",
    "precision_lst =[]\n",
    "recall_lst=[]\n",
    "\n",
    "local=True\n",
    "gap=-5\n",
    "gap_ext=0\n",
    "\n",
    "for file in os.listdir(directory):\n",
    "    filename = os.fsdecode(file)\n",
    "    seq0,seq1 =load_seq(os.path.join(directory_in_str, filename))\n",
    "    seq0_gt,seq1_gt =load_seq(os.path.join(ground_path_dir, filename))\n",
    "    mtx=mkmtx(seq0,seq1,local=local,gap=gap,gap_ext=gap_ext)\n",
    "    seq0_al,seq1_al=back_tracing(seq0,seq1,mtx,local=local)\n",
    "    pre,rec=accuracy(seq0_gt,seq1_gt,seq0_al,seq1_al)\n",
    "    precision_lst.append(pre)\n",
    "    recall_lst.append(rec)"
   ]
  },
  {
   "cell_type": "code",
   "execution_count": 36,
   "metadata": {},
   "outputs": [
    {
     "name": "stdout",
     "output_type": "stream",
     "text": [
      "0.039853043218781\n",
      "0.04931841112103464\n"
     ]
    },
    {
     "data": {
      "image/png": "[encoded data removed]",
      "text/plain": [
       "<Figure size 432x288 with 1 Axes>"
      ]
     },
     "metadata": {
      "needs_background": "light"
     },
     "output_type": "display_data"
    }
   ],
   "source": [
    "print(sum(precision_lst)/len(precision_lst))\n",
    "print(sum(recall_lst)/len(recall_lst))\n",
    "\n",
    "\n",
    "# evenly sampled time at 200ms intervals\n",
    "t = np.linspace(0., 30, len(precision_lst))\n",
    "\n",
    "# red dashes, blue squares and green triangles\n",
    "plt.plot(t, precision_lst, 'r^',label='precision')\n",
    "plt.plot(t, recall_lst, 'bs',label='recall')\n",
    "plt.ylabel('Accuracy')\n",
    "plt.title(f'Accuracy plot local alignment with gap opening:{gap} and extension:{gap_ext}')\n",
    "plt.legend()\n",
    "plt.savefig(os.path.join(\"/home/chingyuenliu/TTIC31160_bioinfo/hw1\",f'loc_o{gap}e{gap_ext}'))"
   ]
  },
  {
   "cell_type": "markdown",
   "metadata": {},
   "source": [
    "For local alignment with gap opening penalty: -5, gap extension penalty: 0. Among over 30 cases, majority of the alignment did not capture, the average precision is 3.99% and recall accuracy is about 4.93%"
   ]
  },
  {
   "cell_type": "code",
   "execution_count": 37,
   "metadata": {},
   "outputs": [],
   "source": [
    "directory = os.fsencode(directory_in_str)\n",
    "counter = 0\n",
    "precision_lst =[]\n",
    "recall_lst=[]\n",
    "\n",
    "local=True\n",
    "gap=-5\n",
    "gap_ext=-1\n",
    "\n",
    "for file in os.listdir(directory):\n",
    "    filename = os.fsdecode(file)\n",
    "    seq0,seq1 =load_seq(os.path.join(directory_in_str, filename))\n",
    "    seq0_gt,seq1_gt =load_seq(os.path.join(ground_path_dir, filename))\n",
    "    mtx=mkmtx(seq0,seq1,local=local,gap=gap,gap_ext=gap_ext)\n",
    "    seq0_al,seq1_al=back_tracing(seq0,seq1,mtx,local=local)\n",
    "    pre,rec=accuracy(seq0_gt,seq1_gt,seq0_al,seq1_al)\n",
    "    precision_lst.append(pre)\n",
    "    recall_lst.append(rec)"
   ]
  },
  {
   "cell_type": "code",
   "execution_count": 38,
   "metadata": {},
   "outputs": [
    {
     "name": "stdout",
     "output_type": "stream",
     "text": [
      "0.05005167144997236\n",
      "0.05688956704620027\n"
     ]
    },
    {
     "data": {
      "image/png": "[encoded data removed]",
      "text/plain": [
       "<Figure size 432x288 with 1 Axes>"
      ]
     },
     "metadata": {
      "needs_background": "light"
     },
     "output_type": "display_data"
    }
   ],
   "source": [
    "print(sum(precision_lst)/len(precision_lst))\n",
    "print(sum(recall_lst)/len(recall_lst))\n",
    "\n",
    "\n",
    "# evenly sampled time at 200ms intervals\n",
    "t = np.linspace(0., 30, len(precision_lst))\n",
    "\n",
    "# red dashes, blue squares and green triangles\n",
    "plt.plot(t, precision_lst, 'r^',label='precision')\n",
    "plt.plot(t, recall_lst, 'bs',label='recall')\n",
    "plt.ylabel('Accuracy')\n",
    "plt.title(f'Accuracy plot local alignment with gap opening:{gap} and extension:{gap_ext}')\n",
    "plt.legend()\n",
    "plt.savefig(os.path.join(\"/home/chingyuenliu/TTIC31160_bioinfo/hw1\",f'loc_o{gap}e{gap_ext}'))"
   ]
  },
  {
   "cell_type": "markdown",
   "metadata": {},
   "source": [
    "For local alignment with gap opening penalty: -5, gap extension penalty: -1. Among over 30 cases, majority of the alignment did not capture, the average precision is 5.00% and recall accuracy is about 5.69%"
   ]
  },
  {
   "cell_type": "code",
   "execution_count": 39,
   "metadata": {},
   "outputs": [],
   "source": [
    "directory = os.fsencode(directory_in_str)\n",
    "counter = 0\n",
    "precision_lst =[]\n",
    "recall_lst=[]\n",
    "\n",
    "local=True\n",
    "gap=-10\n",
    "gap_ext=0\n",
    "\n",
    "for file in os.listdir(directory):\n",
    "    filename = os.fsdecode(file)\n",
    "    seq0,seq1 =load_seq(os.path.join(directory_in_str, filename))\n",
    "    seq0_gt,seq1_gt =load_seq(os.path.join(ground_path_dir, filename))\n",
    "    mtx=mkmtx(seq0,seq1,local=local,gap=gap,gap_ext=gap_ext)\n",
    "    seq0_al,seq1_al=back_tracing(seq0,seq1,mtx,local=local)\n",
    "    pre,rec=accuracy(seq0_gt,seq1_gt,seq0_al,seq1_al)\n",
    "    precision_lst.append(pre)\n",
    "    recall_lst.append(rec)"
   ]
  },
  {
   "cell_type": "code",
   "execution_count": 40,
   "metadata": {},
   "outputs": [
    {
     "name": "stdout",
     "output_type": "stream",
     "text": [
      "0.043749307201647394\n",
      "0.05038713425233078\n"
     ]
    },
    {
     "data": {
      "image/png": "[encoded data removed]",
      "text/plain": [
       "<Figure size 432x288 with 1 Axes>"
      ]
     },
     "metadata": {
      "needs_background": "light"
     },
     "output_type": "display_data"
    }
   ],
   "source": [
    "print(sum(precision_lst)/len(precision_lst))\n",
    "print(sum(recall_lst)/len(recall_lst))\n",
    "\n",
    "\n",
    "# evenly sampled time at 200ms intervals\n",
    "t = np.linspace(0., 30, len(precision_lst))\n",
    "\n",
    "# red dashes, blue squares and green triangles\n",
    "plt.plot(t, precision_lst, 'r^',label='precision')\n",
    "plt.plot(t, recall_lst, 'bs',label='recall')\n",
    "plt.ylabel('Accuracy')\n",
    "plt.title(f'Accuracy plot local alignment with gap opening:{gap} and extension:{gap_ext}')\n",
    "plt.legend()\n",
    "plt.savefig(os.path.join(\"/home/chingyuenliu/TTIC31160_bioinfo/hw1\",f'loc_o{gap}e{gap_ext}'))"
   ]
  },
  {
   "cell_type": "markdown",
   "metadata": {},
   "source": [
    "For local alignment with gap opening penalty: -10, gap extension penalty: -0. Among over 30 cases, majority of the alignment did not capture, the average precision is 4.37% and recall accuracy is about 5.04%"
   ]
  },
  {
   "cell_type": "code",
   "execution_count": 41,
   "metadata": {},
   "outputs": [],
   "source": [
    "directory = os.fsencode(directory_in_str)\n",
    "counter = 0\n",
    "precision_lst =[]\n",
    "recall_lst=[]\n",
    "\n",
    "local=True\n",
    "gap=-10\n",
    "gap_ext=-1\n",
    "\n",
    "for file in os.listdir(directory):\n",
    "    filename = os.fsdecode(file)\n",
    "    seq0,seq1 =load_seq(os.path.join(directory_in_str, filename))\n",
    "    seq0_gt,seq1_gt =load_seq(os.path.join(ground_path_dir, filename))\n",
    "    mtx=mkmtx(seq0,seq1,local=local,gap=gap,gap_ext=gap_ext)\n",
    "    seq0_al,seq1_al=back_tracing(seq0,seq1,mtx,local=local)\n",
    "    pre,rec=accuracy(seq0_gt,seq1_gt,seq0_al,seq1_al)\n",
    "    precision_lst.append(pre)\n",
    "    recall_lst.append(rec)"
   ]
  },
  {
   "cell_type": "code",
   "execution_count": 42,
   "metadata": {},
   "outputs": [
    {
     "name": "stdout",
     "output_type": "stream",
     "text": [
      "0.06745870665879376\n",
      "0.08134470198585798\n"
     ]
    },
    {
     "data": {
      "image/png": "[encoded data removed]",
      "text/plain": [
       "<Figure size 432x288 with 1 Axes>"
      ]
     },
     "metadata": {
      "needs_background": "light"
     },
     "output_type": "display_data"
    }
   ],
   "source": [
    "print(sum(precision_lst)/len(precision_lst))\n",
    "print(sum(recall_lst)/len(recall_lst))\n",
    "\n",
    "\n",
    "# evenly sampled time at 200ms intervals\n",
    "t = np.linspace(0., 30, len(precision_lst))\n",
    "\n",
    "# red dashes, blue squares and green triangles\n",
    "plt.plot(t, precision_lst, 'r^',label='precision')\n",
    "plt.plot(t, recall_lst, 'bs',label='recall')\n",
    "plt.ylabel('Accuracy')\n",
    "plt.title(f'Accuracy plot local alignment with gap opening:{gap} and extension:{gap_ext}')\n",
    "plt.legend()\n",
    "plt.savefig(os.path.join(\"/home/chingyuenliu/TTIC31160_bioinfo/hw1\",f'loc_o{gap}e{gap_ext}'))"
   ]
  },
  {
   "cell_type": "markdown",
   "metadata": {},
   "source": [
    "For local alignment with gap opening penalty: -10, gap extension penalty: -1. Among over 30 cases, majority of the alignment did not capture, the average precision is 6.75% and recall accuracy is about 8.13%"
   ]
  },
  {
   "cell_type": "code",
   "execution_count": 48,
   "metadata": {},
   "outputs": [],
   "source": [
    "directory = os.fsencode(directory_in_str)\n",
    "counter = 0\n",
    "precision_lst =[]\n",
    "recall_lst=[]\n",
    "\n",
    "local=True\n",
    "gap=-5\n",
    "gap_ext=-1\n",
    "match=1\n",
    "mmatch=-1\n",
    "for file in os.listdir(directory):\n",
    "    filename = os.fsdecode(file)\n",
    "    seq0,seq1 =load_seq(os.path.join(directory_in_str, filename))\n",
    "    seq0_gt,seq1_gt =load_seq(os.path.join(ground_path_dir, filename))\n",
    "    mtx=mkmtx(seq0,seq1,local=local,match =match,mmatch=mmatch,gap=gap,gap_ext=gap_ext)\n",
    "    seq0_al,seq1_al=back_tracing(seq0,seq1,mtx,local=local)\n",
    "    pre,rec=accuracy(seq0_gt,seq1_gt,seq0_al,seq1_al)\n",
    "    precision_lst.append(pre)\n",
    "    recall_lst.append(rec)"
   ]
  },
  {
   "cell_type": "code",
   "execution_count": 50,
   "metadata": {},
   "outputs": [
    {
     "name": "stdout",
     "output_type": "stream",
     "text": [
      "0.015911298271815807\n",
      "0.16129032258064516\n"
     ]
    },
    {
     "data": {
      "image/png": "[encoded data removed]",
      "text/plain": [
       "<Figure size 432x288 with 1 Axes>"
      ]
     },
     "metadata": {
      "needs_background": "light"
     },
     "output_type": "display_data"
    }
   ],
   "source": [
    "print(sum(precision_lst)/len(precision_lst))\n",
    "print(sum(recall_lst)/len(recall_lst))\n",
    "\n",
    "\n",
    "# evenly sampled time at 200ms intervals\n",
    "t = np.linspace(0., 30, len(precision_lst))\n",
    "\n",
    "# red dashes, blue squares and green triangles\n",
    "plt.plot(t, precision_lst, 'r^',label='precision')\n",
    "plt.plot(t, recall_lst, 'bs',label='recall')\n",
    "plt.ylabel('Accuracy')\n",
    "plt.title(f'Accuracy plot local alignment match={match}, mismatch={mmatch}, with gap opening:{gap} and extension:{gap_ext}')\n",
    "plt.legend()\n",
    "plt.show()"
   ]
  },
  {
   "cell_type": "code",
   "execution_count": 51,
   "metadata": {},
   "outputs": [
    {
     "name": "stdout",
     "output_type": "stream",
     "text": [
      "0.033695722750580887\n",
      "0.03130437282262533\n"
     ]
    },
    {
     "data": {
      "image/png": "[encoded data removed]",
      "text/plain": [
       "<Figure size 432x288 with 1 Axes>"
      ]
     },
     "metadata": {
      "needs_background": "light"
     },
     "output_type": "display_data"
    }
   ],
   "source": [
    "directory = os.fsencode(directory_in_str)\n",
    "counter = 0\n",
    "precision_lst =[]\n",
    "recall_lst=[]\n",
    "\n",
    "local=False\n",
    "gap=-5\n",
    "gap_ext=-1\n",
    "match=1\n",
    "mmatch=-1\n",
    "for file in os.listdir(directory):\n",
    "    filename = os.fsdecode(file)\n",
    "    seq0,seq1 =load_seq(os.path.join(directory_in_str, filename))\n",
    "    seq0_gt,seq1_gt =load_seq(os.path.join(ground_path_dir, filename))\n",
    "    mtx=mkmtx(seq0,seq1,local=local,match =match,mmatch=mmatch,gap=gap,gap_ext=gap_ext)\n",
    "    seq0_al,seq1_al=back_tracing(seq0,seq1,mtx,local=local)\n",
    "    pre,rec=accuracy(seq0_gt,seq1_gt,seq0_al,seq1_al)\n",
    "    precision_lst.append(pre)\n",
    "    recall_lst.append(rec)\n",
    "print(sum(precision_lst)/len(precision_lst))\n",
    "print(sum(recall_lst)/len(recall_lst))\n",
    "\n",
    "\n",
    "# evenly sampled time at 200ms intervals\n",
    "t = np.linspace(0., 30, len(precision_lst))\n",
    "\n",
    "# red dashes, blue squares and green triangles\n",
    "plt.plot(t, precision_lst, 'r^',label='precision')\n",
    "plt.plot(t, recall_lst, 'bs',label='recall')\n",
    "plt.ylabel('Accuracy')\n",
    "plt.title(f'Accuracy plot global alignment match={match}, mismatch={mmatch}, with gap opening:{gap} and extension:{gap_ext}')\n",
    "plt.legend()\n",
    "plt.show()"
   ]
  },
  {
   "cell_type": "code",
   "execution_count": 52,
   "metadata": {},
   "outputs": [
    {
     "name": "stdout",
     "output_type": "stream",
     "text": [
      "0.0\n",
      "0.0\n"
     ]
    }
   ],
   "source": [
    "filename=\"file_1\"\n",
    "local=False\n",
    "gap=-10\n",
    "gap_ext=-1\n",
    "\n",
    "seq0,seq1 =load_seq(os.path.join(directory_in_str, filename))\n",
    "seq0_gt,seq1_gt =load_seq(os.path.join(ground_path_dir, filename))\n",
    "mtx=mkmtx(seq0,seq1,local=local,gap=gap,gap_ext=gap_ext)\n",
    "seq0_al_10,seq1_al_10=back_tracing(seq0,seq1,mtx,local=local)\n",
    "pre,rec=accuracy(seq0_gt,seq1_gt,seq0_al,seq1_al)\n",
    "print(pre)\n",
    "print(rec)"
   ]
  },
  {
   "cell_type": "code",
   "execution_count": 53,
   "metadata": {},
   "outputs": [
    {
     "data": {
      "text/plain": [
       "'ggcaaaggagatc-ctaaaaagcc-gaga-ggcaaaatgtcctcatatgcattctttgtgcaaacttgccgggaggagc---acaag-aa--gaag---caccc------g-g--a--tgcttctg--tc--aacttctcagagttctccaa-gaagtgctcagagaggtggaagaccatgtctgctaaaga-----aaaggggaaatttgaagatatggcaaaggctgacaaggctcgttatgaaagagaaatgaaaacc-tacatcccccccaaag---gggag'"
      ]
     },
     "execution_count": 53,
     "metadata": {},
     "output_type": "execute_result"
    }
   ],
   "source": [
    "seq0_al_10"
   ]
  },
  {
   "cell_type": "code",
   "execution_count": 54,
   "metadata": {},
   "outputs": [
    {
     "data": {
      "text/plain": [
       "'ggcaaa-aagctcaagaaacacccggattttccaaagaaacctctcaccccttacttccgc-ttctt-catggagaagcgggccaagtacgcgaagctccacccggagatgagcaacctggacctgactaagatcctgtctaagaaatacaaggaacttc-cagagaagaagaagatgaaatatattcaggacttccagagggagaaacaggagttcgagcgaa-----acctggcccgat-tcagggag-ga--tcaccctgaccttatccagaatgccaagaag'"
      ]
     },
     "execution_count": 54,
     "metadata": {},
     "output_type": "execute_result"
    }
   ],
   "source": [
    "seq1_al_10"
   ]
  },
  {
   "cell_type": "code",
   "execution_count": 55,
   "metadata": {},
   "outputs": [
    {
     "name": "stdout",
     "output_type": "stream",
     "text": [
      "0.0\n",
      "0.0\n"
     ]
    }
   ],
   "source": [
    "filename=\"file_1\"\n",
    "local=False\n",
    "gap=-0\n",
    "gap_ext=-1\n",
    "\n",
    "seq0,seq1 =load_seq(os.path.join(directory_in_str, filename))\n",
    "seq0_gt,seq1_gt =load_seq(os.path.join(ground_path_dir, filename))\n",
    "mtx=mkmtx(seq0,seq1,local=local,gap=gap,gap_ext=gap_ext)\n",
    "seq0_al_0,seq1_al_0=back_tracing(seq0,seq1,mtx,local=local)\n",
    "pre,rec=accuracy(seq0_gt,seq1_gt,seq0_al,seq1_al)\n",
    "print(pre)\n",
    "print(rec)"
   ]
  },
  {
   "cell_type": "code",
   "execution_count": 56,
   "metadata": {},
   "outputs": [
    {
     "data": {
      "text/plain": [
       "'ggcaaaggagatc-ct-aa-aaag---ccgagagg----ca-aaatgt----c-ctca-----ta--t--gcattctt--tgtgca-aacttgccgggaggagcacaaga-a---gaag---cacccggatgcttc-tgt--caacttctcagagtt-ctc---c-aagaagtg-c--tc-agagagg--tgg--aa-gacca-tgtctgctaa-agaa-aaggggaa-atttgaagatatggcaa---agg-ctga--ca-aggctcgttatgaaag-agaa-a--t-ga---aaacct------a--c-------at--ccc---cc----cca-aagg-g----g-ag'"
      ]
     },
     "execution_count": 56,
     "metadata": {},
     "output_type": "execute_result"
    }
   ],
   "source": [
    "seq0_al_0"
   ]
  },
  {
   "cell_type": "code",
   "execution_count": 57,
   "metadata": {},
   "outputs": [
    {
     "data": {
      "text/plain": [
       "'ggcaaa--a-a--gctcaagaaa-cacccg-ga--ttttc-caaa-g-aaacctctcaccccttacttccgc-ttcttcatg-g-agaa---g-c----gg-gc-caag-tacgcgaagctccacccgga-g----atg-agcaac--ct--g-g--ac-ctgactaag-a-t-cctgtcta-aga--aat--acaagga--act-tc--c--agagaagaa---gaaga--tgaa-atat----attcaggact--tccagagg---g--a-gaaa-cag--gagttcgagcgaaacctggcccgattcagggaggatcaccctgaccttatccagaa--tgccaagaag'"
      ]
     },
     "execution_count": 57,
     "metadata": {},
     "output_type": "execute_result"
    }
   ],
   "source": [
    "seq1_al_0"
   ]
  },
  {
   "cell_type": "code",
   "execution_count": 367,
   "metadata": {},
   "outputs": [
    {
     "data": {
      "text/plain": [
       "'ggcaaa--a-ag--ctcaagaaacacccggattttccaaagaaacctctcaccccttacttccgcttcttcatggagaagcgggccaagtacgcgaagctccacccggagatgagcaacctgga-----cctgactaagatcctgtctaagaa--atacaaggaa--cttccagagaagaagaagatgaaatatattcaggacttccag---a-gggagaa---acaggagttcgagcgaa-----acctggcccgattca----gggag--gatcaccctgaccttatc--cagaatgccaagaag'"
      ]
     },
     "execution_count": 367,
     "metadata": {},
     "output_type": "execute_result"
    }
   ],
   "source": [
    "seq1_al_10"
   ]
  },
  {
   "cell_type": "code",
   "execution_count": 58,
   "metadata": {},
   "outputs": [
    {
     "name": "stdout",
     "output_type": "stream",
     "text": [
      "0.0\n",
      "0.0\n"
     ]
    }
   ],
   "source": [
    "filename=\"file_1\"\n",
    "local=True\n",
    "gap=-10\n",
    "gap_ext=-1\n",
    "\n",
    "seq0,seq1 =load_seq(os.path.join(directory_in_str, filename))\n",
    "seq0_gt,seq1_gt =load_seq(os.path.join(ground_path_dir, filename))\n",
    "mtx=mkmtx(seq0,seq1,local=local,gap=gap,gap_ext=gap_ext)\n",
    "seq0_l_10,seq1_l_10=back_tracing(seq0,seq1,mtx,local=local)\n",
    "pre,rec=accuracy(seq0_gt,seq1_gt,seq0_al,seq1_al)\n",
    "print(pre)\n",
    "print(rec)"
   ]
  },
  {
   "cell_type": "code",
   "execution_count": 60,
   "metadata": {},
   "outputs": [
    {
     "data": {
      "text/plain": [
       "'ggcaaa-aagctcaagaaacacccggattttccaaagaaacctctcaccccttacttccgc-ttctt-catggagaagcgggccaagtacgcgaagctccacccggagatgagcaacctggacctgactaagatcctgtctaagaaatacaaggaacttc-cagagaagaagaagatgaaatatattcaggacttccagagggagaaacaggagttcgagcgaaacctggcccgattcagggaggatcaccctgaccttatccagaatgccaagaag---------------------------------------------------'"
      ]
     },
     "execution_count": 60,
     "metadata": {},
     "output_type": "execute_result"
    }
   ],
   "source": [
    "seq1_l_10"
   ]
  },
  {
   "cell_type": "code",
   "execution_count": 61,
   "metadata": {},
   "outputs": [
    {
     "data": {
      "text/plain": [
       "'ggcaaa-aagctcaagaaacacccggattttccaaagaaacctctcaccccttacttccgc-ttctt-catggagaagcgggccaagtacgcgaagctccacccggagatgagcaacctggacctgactaagatcctgtctaagaaatacaaggaacttc-cagagaagaagaagatgaaatatattcaggacttccagagggagaaacaggagttcgagcgaa-----acctggcccgat-tcagggag-ga--tcaccctgaccttatccagaatgccaagaag'"
      ]
     },
     "execution_count": 61,
     "metadata": {},
     "output_type": "execute_result"
    }
   ],
   "source": [
    "seq1_al_10"
   ]
  }
 ],
 "metadata": {
  "kernelspec": {
   "display_name": "Python 3",
   "language": "python",
   "name": "python3"
  },
  "language_info": {
   "codemirror_mode": {
    "name": "ipython",
    "version": 3
   },
   "file_extension": ".py",
   "mimetype": "text/x-python",
   "name": "python",
   "nbconvert_exporter": "python",
   "pygments_lexer": "ipython3",
   "version": "3.7.6"
  }
 },
 "nbformat": 4,
 "nbformat_minor": 4
}
